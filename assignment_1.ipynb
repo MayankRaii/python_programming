{
 "cells": [
  {
   "cell_type": "markdown",
   "metadata": {},
   "source": [
    "1. Finding x^y by taking x,y in a single input funtion ."
   ]
  },
  {
   "cell_type": "code",
   "execution_count": null,
   "metadata": {},
   "outputs": [],
   "source": [
    "x,y=input(\"Enter two numbers with a whitespace: \").split()\n",
    "print(\"X is :\",x)\n",
    "print(\"Y is :\",y)\n",
    "a=int(x)\n",
    "b=int(y)\n",
    "if  a!=0 and b>=0:\n",
    "    w=1\n",
    "    for i in range(b):\n",
    "        w=w*a\n",
    "    print(w)\n",
    "elif a!=0 and  b<0:\n",
    "    w=1\n",
    "    for i in range(-b):\n",
    "        w=w*(1/a)\n",
    "    print(w)\n",
    "elif a==0 and b!=0:\n",
    "     print(\"x^y is zero.\")\n",
    "else:\n",
    "    print(\"You cann't find x^y.\")\n",
    "    "
   ]
  },
  {
   "cell_type": "code",
   "execution_count": null,
   "metadata": {},
   "outputs": [],
   "source": [
    "x,y=input(\"Enter two numbers with a whitespace: \").split()\n",
    "print(\"X is :\",x)\n",
    "print(\"Y is :\",y)\n",
    "a=int(x)\n",
    "b=int(y)\n",
    "if a!=0 and b>0:\n",
    "    w=1\n",
    "    for i in range(b):\n",
    "        x=w*a\n",
    "        w=w*a\n",
    "    print(x)\n",
    "elif a!=0 and b<0:\n",
    "    w=1\n",
    "    for i in range(-b):\n",
    "        x=w*(1/a)\n",
    "        w=w*(1/a)\n",
    "    print(x)\n",
    "elif a==0 and b!=0:\n",
    "    print(\"x^y is zero.\")\n",
    "elif a!=0 and b==0:\n",
    "    print(\"x^y is : 1 \")\n",
    "else:\n",
    "    print(\"You cann't find x^y.\")\n",
    "    "
   ]
  },
  {
   "cell_type": "markdown",
   "metadata": {},
   "source": [
    "2. Write a python code to take an  integer 'n' as input from user and print sum of all numbers from 1 to n that are divisible by 5."
   ]
  },
  {
   "cell_type": "code",
   "execution_count": null,
   "metadata": {},
   "outputs": [],
   "source": [
    "n=int(input(\"Enter a integer:\"))\n",
    "\n",
    "num_sum=0\n",
    "for num in range(1,n+1):\n",
    "    if num%5==0:\n",
    "        num_sum=num_sum+num\n",
    "print(num_sum)"
   ]
  },
  {
   "cell_type": "code",
   "execution_count": null,
   "metadata": {},
   "outputs": [],
   "source": [
    "n=int(input(\"Enter a integer:\"))\n",
    "print(\"You entered is:\",n)\n",
    "list_1=list(range(5,n+1,5))\n",
    "print(\"Numbers divisible by 5 till n are :\",list_1)\n",
    "print(\"Sum of the numbers till n divisible by 5 is :\",sum(list_1))\n"
   ]
  }
 ],
 "metadata": {
  "language_info": {
   "name": "python"
  },
  "orig_nbformat": 4
 },
 "nbformat": 4,
 "nbformat_minor": 2
}
