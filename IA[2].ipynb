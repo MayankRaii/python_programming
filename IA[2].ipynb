{
 "cells": [
  {
   "cell_type": "markdown",
   "metadata": {},
   "source": [
    "Concept 1 : Conditionals [If-else]\n",
    "\n",
    "\n",
    "Given two integers, find the larger one.\n",
    "Given a temperature in Celsius, convert it to Fahrenheit using the formula F = (C * 1.8) + 32. If the temperature is above 90°F, print “It’s hot outside!” otherwise, print “The temperature is pleasant”.\n",
    "Given a year, check if it is a leap year or not. A leap year is divisible by 4, except for years that are divisible by 100. However, years that are divisible by 400 are also leap years.\n",
    "Given two numbers, a and b, find the value of a/b (b may be zero).\n",
    "Given a point (x1, y1), find the quadrant in which this point lies.\n",
    "Given two points (x1, y1) and (x2, y2), find the slope and intercept of the line joining these two points (the line may be perfectly horizontal or vertical).\n",
    "Given a quadratic equation with coefficients a, b and c, find the two solutions (may be real or complex). You should not take the square root of a negative number in your code.\n",
    "Given three points, find out whether they lie on the same straight line or not.\n",
    "Given three integers, find the smallest one.\n",
    "Concept 2 : For Loops (without lists)\n",
    "\n",
    "Given a positive integer, print all integers from 1 up to this number.\n",
    "Given a positive integer, find out the sum of all integers from 1 up to this number.\n",
    "Given a positive integer, find out its factorial.\n",
    "Given a positive integer, find out if it’s prime or not.\n",
    "Given a positive integer, find out the sum of all odd numbers from 1 up to this number.\n",
    "Given a positive integer, find out the sum of all even numbers from 2 up to this number.\n",
    "Given a positive integer, find the multiplication table of that integer up to 10.\n",
    "Given a positive integer, find all its divisors.\n",
    "Given a positive integer, print each of its digits separately without converting the number into a string.\n",
    "Given a positive integer, convert it into binary, and vice-versa.\n",
    "Concept 3 : For Loops (with lists)\n",
    "\n",
    "Given a list of numbers, find out its length.\n",
    "Given a list of numbers, find the squares of all the numbers.\n",
    "Given a list of numbers, find the sum of all the numbers.\n",
    "Given a list of numbers, find out the mean and standard deviation.\n",
    "Given a list of numbers, find all the even numbers in it.\n",
    "Given a list of numbers, find all the odd numbers in it.\n",
    "Given a list of numbers, find out how many even numbers it has.\n",
    "Given a list of numbers, create another list in reverse order.\n",
    "Given a list of numbers, find out the maximum number.\n",
    "Given a list of numbers, find out the index of another given number.\n",
    "Concept 4 : Nested For Loops and Conditionals\n",
    "\n",
    "Given a list of positive integers, find the factorial of all the numbers.\n",
    "Given two numbers, find its Least Common Multiple (LCM).\n",
    "Given two numbers, find its Greatest Common Divisor (Divisor).\n",
    "Given a positive integer, find out all prime numbers from 1 up to this number.\n",
    "Given a positive integers, find out the sum of all prime numbers from 1 up to this number.\n",
    "Given a list of numbers, find out how many times each number occurs in the list.\n",
    "Given a list of integers, find all pairs of integers in the list whose sum is zero.\n",
    "Given a string input, find out if it contains a particular substring.\n",
    "Given a string input, find out if it’s a palindrome.\n",
    "Given two 3x3 matrices with values stored in two lists of length 9, find their product.\n",
    "Higher Level Programming Problems\n",
    "\n",
    "Given a list of numbers, sort it in ascending order.\n",
    "Given a list of numbers, find out the median and mode.\n",
    "Given an arithmetic expression as an input string, solve the expression and print the result.\n",
    "Implement a Tic-Tac-Toe game. The program should allow two players to play against each other and display the board after each move.\n",
    "Determine whether a given graph is planar or not.\n",
    "Simulate the motion of a particle in an arbitrary polygon. The particle moves in straight lines between collisions, and the collisions could be inelastic.\n",
    "Read in a text file and find the 10 most frequently occurring words in the file.\n",
    "Given a list of integers, find the sum of all pairs of integers in the list that are equal.\n",
    "Given a string input, find out if it contains a particular substring (allowing for one mismatch).\n",
    "Create a Morse code translator."
   ]
  },
  {
   "cell_type": "markdown",
   "metadata": {},
   "source": [
    "Given an integer, check if it is even or odd."
   ]
  },
  {
   "cell_type": "markdown",
   "metadata": {},
   "source": []
  },
  {
   "cell_type": "markdown",
   "metadata": {},
   "source": []
  },
  {
   "cell_type": "markdown",
   "metadata": {},
   "source": []
  },
  {
   "cell_type": "markdown",
   "metadata": {},
   "source": []
  },
  {
   "cell_type": "code",
   "execution_count": null,
   "metadata": {},
   "outputs": [],
   "source": []
  }
 ],
 "metadata": {
  "kernelspec": {
   "display_name": "Python 3",
   "language": "python",
   "name": "python3"
  },
  "language_info": {
   "name": "python",
   "version": "3.11.4"
  },
  "orig_nbformat": 4
 },
 "nbformat": 4,
 "nbformat_minor": 2
}
