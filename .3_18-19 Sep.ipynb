{
 "cells": [
  {
   "cell_type": "markdown",
   "metadata": {},
   "source": [
    "# While loop\n"
   ]
  },
  {
   "cell_type": "markdown",
   "metadata": {},
   "source": [
    "Taking an integer as input from user,and print all the numbers from 1 up to this number(included) (using while loop)"
   ]
  },
  {
   "cell_type": "code",
   "execution_count": 1,
   "metadata": {},
   "outputs": [
    {
     "name": "stdout",
     "output_type": "stream",
     "text": [
      "Value of count variable before addition 0\n",
      "Value of count variable after addition 1\n",
      "\n",
      "\n",
      "Value of count variable before addition 1\n",
      "Value of count variable after addition 2\n",
      "\n",
      "\n",
      "Value of count variable before addition 2\n",
      "Value of count variable after addition 3\n",
      "\n",
      "\n"
     ]
    }
   ],
   "source": [
    "count = 0\n",
    "while(count<3):\n",
    "    print(\"Value of count variable before addition\",count)\n",
    "    count=count+1\n",
    "    print(\"Value of count variable after addition\",count)\n",
    "    print(\"\\n\")"
   ]
  },
  {
   "cell_type": "code",
   "execution_count": 1,
   "metadata": {},
   "outputs": [
    {
     "name": "stdout",
     "output_type": "stream",
     "text": [
      "Value of count variable before addition 1\n",
      "Value of count variable before addition 2\n",
      "\n",
      "\n",
      "Value of count variable before addition 2\n",
      "Value of count variable before addition 3\n",
      "\n",
      "\n",
      "Value of count variable before addition 3\n",
      "Value of count variable before addition 4\n",
      "\n",
      "\n",
      "Value of count variable before addition 4\n",
      "Value of count variable before addition 5\n",
      "\n",
      "\n",
      "Value of count variable before addition 5\n",
      "Value of count variable before addition 6\n",
      "\n",
      "\n",
      "Value of count variable before addition 6\n",
      "Value of count variable before addition 7\n",
      "\n",
      "\n",
      "Value of count variable before addition 7\n",
      "Value of count variable before addition 8\n",
      "\n",
      "\n",
      "Value of count variable before addition 8\n",
      "Value of count variable before addition 9\n",
      "\n",
      "\n",
      "Value of count variable before addition 9\n",
      "Value of count variable before addition 10\n",
      "\n",
      "\n",
      "Value of count variable before addition 10\n",
      "Value of count variable before addition 11\n",
      "\n",
      "\n"
     ]
    }
   ],
   "source": [
    "num=int(input(\"Enter an integer:\"))\n",
    "count=1\n",
    "while (count<=num):\n",
    "    print(\"Value of count variable before addition\",count)\n",
    "    count=count+1\n",
    "    print(\"Value of count variable before addition\",count)\n",
    "    print(\"\\n\")"
   ]
  },
  {
   "cell_type": "markdown",
   "metadata": {},
   "source": [
    "Take an integer as input from user, and using while loop, print the sum of all integers from 1 up to this numbers(included)"
   ]
  },
  {
   "cell_type": "code",
   "execution_count": 4,
   "metadata": {},
   "outputs": [
    {
     "name": "stdout",
     "output_type": "stream",
     "text": [
      "1 1\n",
      "\n",
      "\n",
      "2 3\n",
      "\n",
      "\n",
      "3 6\n",
      "\n",
      "\n",
      "4 10\n",
      "\n",
      "\n",
      "5 15\n",
      "\n",
      "\n",
      "6 21\n",
      "\n",
      "\n",
      "7 28\n",
      "\n",
      "\n",
      "8 36\n",
      "\n",
      "\n",
      "9 45\n",
      "\n",
      "\n",
      "10 55\n",
      "\n",
      "\n"
     ]
    }
   ],
   "source": [
    "num=int(input(\"Enter an integer:\"))\n",
    "count=0\n",
    "# when you are trying to find the sum of some numbers.\n",
    "# the new variable for storing the sum should always be initialized to 0\n",
    "sum_num = 0\n",
    "while (count<num):\n",
    "    count=count+1\n",
    "    sum_num = sum_num+count\n",
    "    print(count,sum_num)\n",
    "    print(\"\\n\")"
   ]
  },
  {
   "cell_type": "markdown",
   "metadata": {},
   "source": [
    "count"
   ]
  },
  {
   "cell_type": "code",
   "execution_count": 1,
   "metadata": {},
   "outputs": [
    {
     "name": "stdout",
     "output_type": "stream",
     "text": [
      "Value of count variable after addition 1\n",
      "\n",
      "\n",
      "Value of count variable after addition 2\n",
      "\n",
      "\n",
      "Value of count variable after addition 3\n",
      "\n",
      "\n",
      "Value of count variable after addition 4\n",
      "\n",
      "\n",
      "Value of count variable after addition 5\n",
      "\n",
      "\n",
      "Value of count variable after addition 6\n",
      "\n",
      "\n",
      "Value of count variable after addition 7\n",
      "\n",
      "\n",
      "Value of count variable after addition 8\n",
      "\n",
      "\n",
      "Value of count variable after addition 9\n",
      "\n",
      "\n",
      "Value of count variable after addition 10\n",
      "\n",
      "\n"
     ]
    }
   ],
   "source": [
    "num=int(input(\"Enter an integer\"))\n",
    "count=0\n",
    "while (count<num):\n",
    "    count=count+1\n",
    "    print(\"Value of count variable after addition\",count)\n",
    "    print(\"\\n\")"
   ]
  },
  {
   "cell_type": "markdown",
   "metadata": {},
   "source": [
    "Take a list of integers, and print each element of the list using a while loop "
   ]
  },
  {
   "cell_type": "code",
   "execution_count": 8,
   "metadata": {},
   "outputs": [
    {
     "name": "stdout",
     "output_type": "stream",
     "text": [
      "0 3\n",
      "1 5\n",
      "2 6\n",
      "3 9\n",
      "4 10\n",
      "5 12\n",
      "6 34\n"
     ]
    }
   ],
   "source": [
    "list_num=[3,5,6,9,10,12,34]\n",
    "list_num_len=len(list_num)\n",
    "# We need a variable to serve as the index of our given of our given list.\n",
    "# this index variable will keep incrementing by 1 inside the while loop.\n",
    "ind=0\n",
    "while (ind<list_num_len):\n",
    "    print(ind,list_num[ind])\n",
    "    ind=ind+1 "
   ]
  },
  {
   "cell_type": "markdown",
   "metadata": {},
   "source": [
    "Take a list of integers,and print the sum of each element of the list using a while loop"
   ]
  },
  {
   "cell_type": "code",
   "execution_count": 27,
   "metadata": {},
   "outputs": [
    {
     "name": "stdout",
     "output_type": "stream",
     "text": [
      "0 3\n",
      "ind value after increment 1\n",
      "\n",
      "\n",
      "1 5\n",
      "ind value after increment 2\n",
      "\n",
      "\n",
      "2 6\n",
      "ind value after increment 3\n",
      "\n",
      "\n",
      "3 9\n",
      "ind value after increment 4\n",
      "\n",
      "\n",
      "4 10\n",
      "ind value after increment 5\n",
      "\n",
      "\n"
     ]
    }
   ],
   "source": [
    "list_num=[3,5,6,9,10]\n",
    "list_num_len=len(list_num)\n",
    "list_num_sum=0\n",
    "# We need a variable to serve as the index of our given list.\n",
    "# This index variable will keep incrementing by 1 inside the while loop\n",
    "ind=0\n",
    "while (ind<list_num_len):\n",
    "    list_num_sum = list_num_sum + list_num[ind]\n",
    "    print(ind,list_num[ind])\n",
    "    ind=ind+1\n",
    "    print(\"ind value after increment\",ind)\n",
    "    print(\"\\n\")\n",
    "\n"
   ]
  },
  {
   "cell_type": "code",
   "execution_count": 15,
   "metadata": {},
   "outputs": [
    {
     "name": "stdout",
     "output_type": "stream",
     "text": [
      "10 1\n",
      "10 2\n",
      "10 3\n",
      "10 4\n",
      "10 5\n",
      "[7, 8, 9, 5, 4]\n"
     ]
    }
   ],
   "source": [
    "list_num=[]\n",
    "list_len=5\n",
    "while (len(list_num)<list_len):\n",
    "    num=int(input(\"Enter an integer:\"))\n",
    "    list_num.append(num)\n",
    "    print(count,len(list_num))\n",
    "print(list_num)"
   ]
  },
  {
   "cell_type": "code",
   "execution_count": 28,
   "metadata": {},
   "outputs": [
    {
     "name": "stdout",
     "output_type": "stream",
     "text": [
      "1 1\n",
      "2 2\n",
      "3 3\n",
      "4 4\n",
      "5 5\n",
      "[5, 4, 3, 6, 7]\n"
     ]
    }
   ],
   "source": [
    "# inside the while loop, take an integer as input from user and append it to the list  \n",
    "list_num=[]\n",
    "list_len=5\n",
    "count=0\n",
    "while (count<list_len):\n",
    "    num=int(input(\"Enter an integer:\"))\n",
    "    list_num.append(num)\n",
    "    count=count+1\n",
    "    print(count,len(list_num))\n",
    "print(list_num)\n"
   ]
  },
  {
   "cell_type": "code",
   "execution_count": 31,
   "metadata": {},
   "outputs": [
    {
     "name": "stdout",
     "output_type": "stream",
     "text": [
      "14 1\n",
      "15 2\n",
      "16 3\n",
      "17 4\n",
      "18 5\n",
      "[2, 4, 5, 6, 7]\n"
     ]
    }
   ],
   "source": [
    "list_nem=[]\n",
    "list_len=5\n",
    "\n",
    "while (len(list_nem)<list_len):\n",
    "    num=int(input(\"Enter an integer:\"))\n",
    "    list_nem.append(num)\n",
    "    count=count+1\n",
    "    print(count,len(list_nem))\n",
    "print(list_nem)"
   ]
  },
  {
   "cell_type": "code",
   "execution_count": null,
   "metadata": {},
   "outputs": [],
   "source": []
  },
  {
   "cell_type": "markdown",
   "metadata": {},
   "source": []
  },
  {
   "cell_type": "markdown",
   "metadata": {},
   "source": []
  },
  {
   "cell_type": "code",
   "execution_count": null,
   "metadata": {},
   "outputs": [],
   "source": []
  },
  {
   "cell_type": "markdown",
   "metadata": {},
   "source": [
    "# Nested loop"
   ]
  },
  {
   "cell_type": "markdown",
   "metadata": {},
   "source": [
    "Using the len and sum function, print the length and the sum of the lists inside the list"
   ]
  },
  {
   "cell_type": "code",
   "execution_count": 18,
   "metadata": {},
   "outputs": [
    {
     "name": "stdout",
     "output_type": "stream",
     "text": [
      "[3, 4, 5]\n",
      "Length of list : 3\n",
      "Sum of list: 12\n",
      "3\n",
      "4\n",
      "5\n",
      "[9, 10, 7]\n",
      "Length of list : 3\n",
      "Sum of list: 26\n",
      "9\n",
      "10\n",
      "7\n"
     ]
    }
   ],
   "source": [
    "list_new=[[3,4,5],[9,10,7]]\n",
    "for lst in list_new:\n",
    "    print(lst)\n",
    "    print(\"Length of list :\",len(lst))\n",
    "    print(\"Sum of list:\",sum(lst))\n",
    "    for num in lst:\n",
    "        print(num)"
   ]
  },
  {
   "cell_type": "code",
   "execution_count": 21,
   "metadata": {},
   "outputs": [
    {
     "name": "stdout",
     "output_type": "stream",
     "text": [
      "[3, 4, 5]\n",
      "[3, 4, 5] 3 12\n",
      "[9, 10, 7, 3]\n",
      "[9, 10, 7, 3] 4 29\n"
     ]
    }
   ],
   "source": [
    "list_new=[[3,4,5],[9,10,7,3]]\n",
    "for lst in list_new:\n",
    "    print(lst)\n",
    "    # We need a variable to store the length  and sum of each list\n",
    "    lst_num=0\n",
    "    lst_sum=0\n",
    "    for num in lst:\n",
    "        lst_num=lst_num+1\n",
    "        lst_sum=lst_sum+num\n",
    "    print(lst,lst_num,lst_sum)"
   ]
  },
  {
   "cell_type": "code",
   "execution_count": 39,
   "metadata": {},
   "outputs": [
    {
     "name": "stdout",
     "output_type": "stream",
     "text": [
      "[3, 4, 5]\n",
      "[3, 4, 5] 3 12\n",
      "[9, 10, 7, 3]\n",
      "[9, 10, 7, 3] 7 41\n"
     ]
    }
   ],
   "source": [
    "list_new = [[3,4,5],[9,10,7,3]]\n",
    "# since these variables have been initialised outside both the loops.\n",
    "# they will not be reset inside.\n",
    "# And so we get the total number of integers and their sum.\n",
    "lst_num=0\n",
    "lst_sum=0\n",
    "for lst in list_new:\n",
    "    print(lst)\n",
    "    \n",
    "    for num in lst:\n",
    "        lst_num=lst_num+1\n",
    "        lst_sum=lst_sum+num\n",
    "\n",
    "    print(lst,lst_num,lst_sum)"
   ]
  },
  {
   "cell_type": "code",
   "execution_count": 59,
   "metadata": {},
   "outputs": [
    {
     "name": "stdout",
     "output_type": "stream",
     "text": [
      "[3, 4, 5]\n",
      "[3, 4, 5] 1 3\n",
      "[3, 4, 5] 2 7\n",
      "[3, 4, 5] 3 12\n",
      "\n",
      "\n",
      "[3, 4, 5] 3 12\n",
      "\n",
      "\n",
      "[9, 10, 7, 3]\n",
      "[9, 10, 7, 3] 1 9\n",
      "[9, 10, 7, 3] 2 19\n",
      "[9, 10, 7, 3] 3 26\n",
      "[9, 10, 7, 3] 4 29\n",
      "\n",
      "\n",
      "[9, 10, 7, 3] 4 29\n",
      "\n",
      "\n"
     ]
    }
   ],
   "source": [
    "list_new = [[3,4,5],[9,10,7,3]]\n",
    "\n",
    "for lst in list_new:\n",
    "    print(lst)\n",
    "    # We need a variable to store the length of each list\n",
    "    lst_num=0\n",
    "    lst_sum=0\n",
    "    for num in lst:\n",
    "        lst_num=lst_num+1\n",
    "        lst_sum=lst_sum+num\n",
    "\n",
    "        print(lst,lst_num,lst_sum)\n",
    "    print(\"\\n\")\n",
    "    print(lst,lst_num,lst_sum)\n",
    "    print(\"\\n\")"
   ]
  },
  {
   "cell_type": "markdown",
   "metadata": {},
   "source": [
    "Find the length of each list within my original list without using the len function."
   ]
  },
  {
   "cell_type": "code",
   "execution_count": 55,
   "metadata": {},
   "outputs": [
    {
     "name": "stdout",
     "output_type": "stream",
     "text": [
      "[3, 4, 5]\n",
      "[3, 4, 5] 3\n",
      "[9, 10, 7, 5]\n",
      "[9, 10, 7, 5] 4\n"
     ]
    }
   ],
   "source": [
    "list_new=[[3,4,5],[9,10,7,5]]\n",
    "for lst in list_new:\n",
    "    print(lst)\n",
    "    # we need a variableb to store the length of each list \n",
    "    lst_num=0\n",
    "    for num in lst:\n",
    "        lst_num=lst_num+1\n",
    "\n",
    "    print(lst,lst_num,)"
   ]
  },
  {
   "cell_type": "markdown",
   "metadata": {},
   "source": [
    "# Date: 19 Sep"
   ]
  },
  {
   "cell_type": "markdown",
   "metadata": {},
   "source": [
    "\"Given a positive integer, print each of its digits separately without converting the number into a string.\"\n",
    "\n",
    "1. Try solving it using while loop. Initialise an empty list, and keep appending the digits of the number one by one (without using strings). Then print the elements of the list in reverse order one by one.\n",
    "\n"
   ]
  },
  {
   "cell_type": "code",
   "execution_count": 44,
   "metadata": {},
   "outputs": [
    {
     "name": "stdout",
     "output_type": "stream",
     "text": [
      "[1, 2, 3, 4, 5]\n"
     ]
    }
   ],
   "source": [
    "num_a=12345\n",
    "lst1=[]\n",
    "while num_a>0:\n",
    "    x=num_a%10\n",
    "    num_a=num_a//10\n",
    "    lst1.append(x)\n",
    "lst1.reverse()\n",
    "print(lst1)"
   ]
  },
  {
   "cell_type": "markdown",
   "metadata": {},
   "source": [
    "\"Given a positive integer, print each of its digits separately without converting the number into a string.\"\n",
    "\n",
    "  2.Then try solving it using for loop. You can use log base 10 to find the number of digits in the number given by the user. \n",
    "    To find log of a number, x, to base, y, you can use this:\n",
    "\n",
    "import math # This imports the math library that has many math functions\n",
    "math.log(x, y)"
   ]
  },
  {
   "cell_type": "code",
   "execution_count": 66,
   "metadata": {},
   "outputs": [
    {
     "name": "stdout",
     "output_type": "stream",
     "text": [
      "[3, 2, 4, 5, 6]\n"
     ]
    }
   ],
   "source": [
    "\n",
    "import math\n",
    "num1=32456\n",
    "lst_dgt=[]\n",
    "num_dgt=int(input())\n",
    "\n",
    "\n",
    "for i in range(num_dgt+1):\n",
    "    x=num1%10\n",
    "    num1=num1//10\n",
    "    lst_dgt.append(x)\n",
    "lst_dgt.reverse()\n",
    "print(lst_dgt)\n"
   ]
  },
  {
   "cell_type": "markdown",
   "metadata": {},
   "source": [
    "For a given list of integers,eg [n1,n2,n3], find the factorial of these integer and store it in another list.Use nested for loop7\n",
    "7"
   ]
  },
  {
   "cell_type": "code",
   "execution_count": 51,
   "metadata": {},
   "outputs": [
    {
     "name": "stdout",
     "output_type": "stream",
     "text": [
      "4\n",
      "10\n",
      "5\n",
      "15\n",
      "6\n",
      "21\n"
     ]
    }
   ],
   "source": [
    "list1=[4,5,6]\n",
    "for x in list1:\n",
    "    print(x)\n",
    "    a=0\n",
    "    for i in range(1,x+1):\n",
    "        a=a+i\n",
    "    print(a)"
   ]
  },
  {
   "cell_type": "code",
   "execution_count": 62,
   "metadata": {},
   "outputs": [
    {
     "name": "stdout",
     "output_type": "stream",
     "text": [
      "list of sums is [21, 36, 45]\n"
     ]
    }
   ],
   "source": [
    "lst_int=[6,8,9]\n",
    "lstx=[]\n",
    "for x in range(len(lst_int)):\n",
    "    sum=0\n",
    "    for i in range(lst_int[x]+1):\n",
    "        sum=sum+i\n",
    "    lstx.append(sum)\n",
    "print(\"list of sums is\",lstx)\n"
   ]
  },
  {
   "cell_type": "code",
   "execution_count": 60,
   "metadata": {},
   "outputs": [
    {
     "name": "stdout",
     "output_type": "stream",
     "text": [
      "[10, 15, 21, 28]\n"
     ]
    }
   ],
   "source": [
    "list1=[4,5,6,7]\n",
    "list_sum=[]\n",
    "for i in list1:\n",
    "    sum_int=0\n",
    "    for x in range(1,i+1):\n",
    "        sum_int=sum_int+x\n",
    "    list_sum.append(sum_int)\n",
    "print((list_sum))"
   ]
  },
  {
   "cell_type": "markdown",
   "metadata": {},
   "source": [
    "Prime number\n"
   ]
  },
  {
   "cell_type": "code",
   "execution_count": 63,
   "metadata": {},
   "outputs": [
    {
     "name": "stdout",
     "output_type": "stream",
     "text": [
      "it is a prime number\n"
     ]
    }
   ],
   "source": [
    "num=int(input(\"enter a positive integer\"))\n",
    "a=0\n",
    "for i in range(1,num+1):\n",
    "    if num%i==0:\n",
    "        a=a+1\n",
    "if a==2:\n",
    "    print(\"it is a prime number\")\n",
    "else:\n",
    "    print(\"it is not a prime number\")\n"
   ]
  },
  {
   "cell_type": "code",
   "execution_count": 65,
   "metadata": {},
   "outputs": [
    {
     "name": "stdout",
     "output_type": "stream",
     "text": [
      "[6, 24, 120]\n"
     ]
    }
   ],
   "source": [
    "a=[3,4,5]\n",
    "b=[]\n",
    "for x in a:\n",
    "    f=1\n",
    "    for i in range(1,x+1):\n",
    "        f=f*i\n",
    "    b.append(f)\n",
    "print(b)\n",
    "        "
   ]
  },
  {
   "cell_type": "markdown",
   "metadata": {},
   "source": [
    "1. For a given list of numbers, find out which ones are primes and store them in another list.\n",
    "\n"
   ]
  },
  {
   "cell_type": "code",
   "execution_count": null,
   "metadata": {},
   "outputs": [],
   "source": []
  },
  {
   "cell_type": "markdown",
   "metadata": {},
   "source": [
    "2. For a given number, find out all the primes from 1 up to this number, and store them in a list."
   ]
  },
  {
   "cell_type": "code",
   "execution_count": null,
   "metadata": {},
   "outputs": [],
   "source": []
  },
  {
   "cell_type": "markdown",
   "metadata": {},
   "source": [
    "Given a list of +ve integers,find out how many times each integer occurs in the list"
   ]
  },
  {
   "cell_type": "code",
   "execution_count": null,
   "metadata": {},
   "outputs": [],
   "source": []
  },
  {
   "cell_type": "markdown",
   "metadata": {},
   "source": [
    "Given two no.s, find its LCM &Greatest common divisor"
   ]
  },
  {
   "cell_type": "markdown",
   "metadata": {},
   "source": []
  },
  {
   "cell_type": "markdown",
   "metadata": {},
   "source": [
    "Given two 3*3 matrics (stored as lists) find their product"
   ]
  },
  {
   "cell_type": "markdown",
   "metadata": {},
   "source": []
  },
  {
   "cell_type": "markdown",
   "metadata": {},
   "source": [
    "from a list of numbers, find out which ones and how many are prime."
   ]
  },
  {
   "cell_type": "code",
   "execution_count": 6,
   "metadata": {},
   "outputs": [
    {
     "name": "stdout",
     "output_type": "stream",
     "text": [
      "23 is a prime numbers.\n",
      "5 is a prime numbers.\n",
      "67 is a prime numbers.\n",
      "43 is a prime numbers.\n",
      "5 is a prime numbers.\n",
      "2 is a prime numbers.\n",
      "3 is a prime numbers.\n",
      "7 is a prime numbers.\n",
      "5 is a prime numbers.\n",
      "43 is a prime numbers.\n",
      "47 is a prime numbers.\n",
      "43 is a prime numbers.\n",
      "17 is a prime numbers.\n",
      "13 is a prime numbers.\n",
      "2 is a prime numbers.\n",
      "3 is a prime numbers.\n",
      "5 is a prime numbers.\n",
      "7 is a prime numbers.\n",
      "total prime numbers are: 18\n"
     ]
    }
   ],
   "source": [
    "list_num=[23,4,5,67,98,43,5,2,3,7,5,43,47,51,43,17,13,2,3,5,7,9]\n",
    "c=0\n",
    "#list_checked=[]\n",
    "for i in list_num:\n",
    "    #if i not in list_checked:\n",
    "        a=int(i**0.5)\n",
    "        b=0\n",
    "        for j in range(2,a+1):\n",
    "            if i%j==0:\n",
    "                b=b+1\n",
    "        if b==0:\n",
    "            print(i,\"is a prime numbers.\")\n",
    "            c=c+1\n",
    "        #list_checked.append(i)\n",
    "\n",
    "print(\"total prime numbers are:\",c)"
   ]
  },
  {
   "cell_type": "code",
   "execution_count": null,
   "metadata": {},
   "outputs": [],
   "source": []
  }
 ],
 "metadata": {
  "kernelspec": {
   "display_name": "Python 3",
   "language": "python",
   "name": "python3"
  },
  "language_info": {
   "codemirror_mode": {
    "name": "ipython",
    "version": 3
   },
   "file_extension": ".py",
   "mimetype": "text/x-python",
   "name": "python",
   "nbconvert_exporter": "python",
   "pygments_lexer": "ipython3",
   "version": "3.11.4"
  },
  "orig_nbformat": 4
 },
 "nbformat": 4,
 "nbformat_minor": 2
}
