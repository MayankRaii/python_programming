{
  "cells": [
    {
      "cell_type": "markdown",
      "metadata": {
        "id": "hE2oJ9wWHz5a"
      },
      "source": [
        "# Checking the data type of a python object"
      ]
    },
    {
      "cell_type": "code",
      "execution_count": null,
      "metadata": {
        "id": "naDdPpGbH4oh"
      },
      "outputs": [],
      "source": [
        "a = 2\n",
        "b = [3,4,5]\n",
        "c = {'a':3,'b':5}\n",
        "d = 1.5\n",
        "e = \"hello\""
      ]
    },
    {
      "cell_type": "code",
      "execution_count": null,
      "metadata": {
        "id": "2ffDPHunH4vE"
      },
      "outputs": [],
      "source": [
        "# In the code below, you can replace 'dict' with 'int', 'list', 'float', 'str', etc\n",
        "if isinstance(d,dict):\n",
        "  print(\"It is a dictionary\")\n",
        "else:\n",
        "  print(\"It is not a dictionary\")"
      ]
    },
    {
      "cell_type": "code",
      "execution_count": null,
      "metadata": {},
      "outputs": [],
      "source": [
        "###\n"
      ]
    },
    {
      "cell_type": "markdown",
      "metadata": {
        "id": "3oaUjuZBE3uk"
      },
      "source": [
        "# Arbitrary Arguments, *args"
      ]
    },
    {
      "cell_type": "code",
      "execution_count": null,
      "metadata": {
        "id": "KjV9PzagErKR"
      },
      "outputs": [],
      "source": [
        "# Primarily useful when the user needs to be given flexibility in how to pass the arguments.\n",
        "\n",
        "def my_function(*marks):\n",
        "  print(type(marks))\n",
        "  for item in marks:\n",
        "    print(item)\n",
        "\n",
        "my_function(29, 40, 12)"
      ]
    },
    {
      "cell_type": "code",
      "execution_count": null,
      "metadata": {
        "id": "3p6qrgiAFLyO"
      },
      "outputs": [],
      "source": [
        "# Write a function that computes the distance between two points in 2D space.\n",
        "# The user can give the input either as 4 different numbers, a list of 4 numbers or a dictionary.\n",
        "\n"
      ]
    },
    {
      "cell_type": "code",
      "execution_count": 13,
      "metadata": {
        "id": "qOAjL_RTHDqW"
      },
      "outputs": [],
      "source": [
        "#for int\n",
        "def distint(*points):\n",
        "    print(points)\n",
        "    print(points[0])\n",
        "    if isinstance(points[0],int):\n",
        "        a=((points[0]-points[2])**2+(points[1]-points[3])**2)**0.5\n",
        "    return a\n",
        "    "
      ]
    },
    {
      "cell_type": "code",
      "execution_count": 14,
      "metadata": {},
      "outputs": [
        {
          "name": "stdout",
          "output_type": "stream",
          "text": [
            "(4, 2, 5, 2)\n",
            "4\n"
          ]
        },
        {
          "data": {
            "text/plain": [
              "1.0"
            ]
          },
          "execution_count": 14,
          "metadata": {},
          "output_type": "execute_result"
        }
      ],
      "source": [
        "distint(4,2,5,2)"
      ]
    },
    {
      "cell_type": "code",
      "execution_count": 17,
      "metadata": {},
      "outputs": [],
      "source": [
        "#for list\n",
        "def distlist(*points):\n",
        "    print(points)\n",
        "    print(points[0])\n",
        "    if isinstance(points[0],list):\n",
        "        b=((points[0][0]-points[0][2])**2+(points[0][1]-points[0][3])**2)**0.5\n",
        "    return b\n",
        "    #please try loop"
      ]
    },
    {
      "cell_type": "code",
      "execution_count": 19,
      "metadata": {},
      "outputs": [
        {
          "name": "stdout",
          "output_type": "stream",
          "text": [
            "([4, 2, 5, 2],)\n",
            "[4, 2, 5, 2]\n"
          ]
        },
        {
          "data": {
            "text/plain": [
              "1.0"
            ]
          },
          "execution_count": 19,
          "metadata": {},
          "output_type": "execute_result"
        }
      ],
      "source": [
        "distlist([4,2,5,2])"
      ]
    },
    {
      "cell_type": "code",
      "execution_count": 23,
      "metadata": {},
      "outputs": [],
      "source": [
        "#for dict\n",
        "def distdict(**points):\n",
        "    print(points)\n",
        "    print(points[0])\n",
        "    if isinstance(points[0],dict)"
      ]
    },
    {
      "cell_type": "code",
      "execution_count": 24,
      "metadata": {},
      "outputs": [
        {
          "ename": "TypeError",
          "evalue": "distdict() takes 0 positional arguments but 1 was given",
          "output_type": "error",
          "traceback": [
            "\u001b[1;31m---------------------------------------------------------------------------\u001b[0m",
            "\u001b[1;31mTypeError\u001b[0m                                 Traceback (most recent call last)",
            "\u001b[1;32mc:\\Users\\mayan\\OneDrive\\Desktop\\python\\Python_Functions_Advanced (1).ipynb Cell 13\u001b[0m line \u001b[0;36m1\n\u001b[1;32m----> <a href='vscode-notebook-cell:/c%3A/Users/mayan/OneDrive/Desktop/python/Python_Functions_Advanced%20%281%29.ipynb#X55sZmlsZQ%3D%3D?line=0'>1</a>\u001b[0m distdict({\u001b[39m\"\u001b[39;49m\u001b[39ma\u001b[39;49m\u001b[39m\"\u001b[39;49m:\u001b[39m2\u001b[39;49m,\u001b[39m\"\u001b[39;49m\u001b[39mb\u001b[39;49m\u001b[39m\"\u001b[39;49m:\u001b[39m3\u001b[39;49m,\u001b[39m\"\u001b[39;49m\u001b[39mc\u001b[39;49m\u001b[39m\"\u001b[39;49m:\u001b[39m4\u001b[39;49m,\u001b[39m\"\u001b[39;49m\u001b[39md\u001b[39;49m\u001b[39m\"\u001b[39;49m:\u001b[39m5\u001b[39;49m})\n",
            "\u001b[1;31mTypeError\u001b[0m: distdict() takes 0 positional arguments but 1 was given"
          ]
        }
      ],
      "source": [
        "distdict({\"a\":2,\"b\":3,\"c\":4,\"d\":5})"
      ]
    },
    {
      "cell_type": "markdown",
      "metadata": {
        "id": "VFQXaOudH-nF"
      },
      "source": [
        "# Keyword Arguments\n"
      ]
    },
    {
      "cell_type": "code",
      "execution_count": null,
      "metadata": {
        "id": "epps5hSGIBd8"
      },
      "outputs": [],
      "source": [
        "# You can also send arguments with the key = value syntax.\n",
        "# This way the order of the arguments does not matter.\n",
        "\n",
        "def my_function(n1, n2, n3):\n",
        "  print(\"The second number is : \", n2)\n",
        "\n",
        "my_function(n3 = 2, n1 = 5, n2 = 10)"
      ]
    },
    {
      "cell_type": "code",
      "execution_count": null,
      "metadata": {
        "id": "huyvo42cISy2"
      },
      "outputs": [],
      "source": [
        "# Check what happens in the above code if while calling the function you use a different variable name."
      ]
    },
    {
      "cell_type": "code",
      "execution_count": null,
      "metadata": {
        "id": "ms5r7XO0Idtu"
      },
      "outputs": [],
      "source": [
        "# Write a python function using keyword arguments that takes the student name and marks as input in arbitrary order,\n",
        "# and print them in the correct order (i.e. first name and then marks).\n"
      ]
    },
    {
      "cell_type": "markdown",
      "metadata": {
        "id": "KDlARgQmIinS"
      },
      "source": [
        "# Arbitrary Keyword Arguments, **kwargs"
      ]
    },
    {
      "cell_type": "code",
      "execution_count": null,
      "metadata": {
        "id": "-p5dhgx-Iljg"
      },
      "outputs": [],
      "source": [
        "# If you do not know how many keyword arguments that will be passed into your function,\n",
        "# add two asterisk: ** before the parameter name in the function definition.\n",
        "\n",
        "# This way the function will receive a dictionary of arguments, and can access the items accordingly."
      ]
    },
    {
      "cell_type": "code",
      "execution_count": null,
      "metadata": {
        "id": "NxJY10WeIrKr"
      },
      "outputs": [],
      "source": [
        "def my_function(**numbers):\n",
        "  print(\"The second number is : \", numbers[\"n2\"])\n",
        "\n",
        "my_function(n1 = 3, n2 = 5)"
      ]
    },
    {
      "cell_type": "code",
      "execution_count": null,
      "metadata": {
        "id": "twctT3A4I2MD"
      },
      "outputs": [],
      "source": [
        "# Write a python function using arbitrary keyword arguments that takes the student name and marks as input in arbitrary order,\n",
        "# and print them in the correct order (i.e. first name and then marks).\n"
      ]
    },
    {
      "cell_type": "markdown",
      "metadata": {
        "id": "IQdhXtz3JnJk"
      },
      "source": [
        "# Default Parameter Value"
      ]
    },
    {
      "cell_type": "code",
      "execution_count": null,
      "metadata": {
        "id": "d3_IdwbpJqgz"
      },
      "outputs": [],
      "source": [
        "# The following example shows how to use a default parameter value.\n",
        "# If we call the function without argument, it uses the default value.\n",
        "\n",
        "def my_function(country = \"India\"):\n",
        "  print(\"I am from \" + country)\n",
        "\n",
        "my_function(\"UK\")\n",
        "my_function(\"USA\")\n",
        "my_function()"
      ]
    },
    {
      "cell_type": "code",
      "execution_count": null,
      "metadata": {
        "id": "Tmyh3sZQJzuz"
      },
      "outputs": [],
      "source": [
        "# What if the function takes in two arguments?\n",
        "# Run this cell and see what happens for each function call.\n",
        "\n",
        "def my_function(x, y =1):\n",
        "  print(x**y)\n",
        "\n",
        "# my_function(2,3)\n",
        "# my_function(x=2)\n",
        "# my_function(y=5)\n",
        "# my_function(x=2, y = 5)\n",
        "# my_function(y=2, x = 5)"
      ]
    },
    {
      "cell_type": "code",
      "execution_count": null,
      "metadata": {
        "id": "Zk9jJvl5KCgv"
      },
      "outputs": [],
      "source": [
        "# Write a function that takes two arguments and returns the sum of these two arguments.\n",
        "# If only one argument is given, it should return the same number.\n"
      ]
    },
    {
      "cell_type": "markdown",
      "metadata": {
        "id": "-yBaMNN3Kr1Q"
      },
      "source": [
        "# Mutable and Immutable Objects in Python"
      ]
    },
    {
      "cell_type": "code",
      "execution_count": null,
      "metadata": {
        "id": "HnMY-AC0LRiP"
      },
      "outputs": [],
      "source": [
        "# Analyse the output of these python function calls and think whats going on.\n",
        "\n",
        "def func(a):\n",
        "  a = a+1\n",
        "  print(\"a = \",a)\n",
        "\n",
        "b = 2\n",
        "func(b)\n",
        "print(\"b = \",b)"
      ]
    },
    {
      "cell_type": "code",
      "execution_count": null,
      "metadata": {
        "id": "ODr-FKeQLckO"
      },
      "outputs": [],
      "source": [
        "def func(a):\n",
        "  a = \"I am \" + a\n",
        "  print(\"New string : \",a)\n",
        "\n",
        "b = \"Tommy\"\n",
        "func(b)\n",
        "print(\"Original string : \",b)"
      ]
    },
    {
      "cell_type": "code",
      "execution_count": null,
      "metadata": {
        "id": "nrJ8oztzLlR0"
      },
      "outputs": [],
      "source": [
        "def func(a):\n",
        "  a.append(10)\n",
        "  print(\"New list : \",a)\n",
        "\n",
        "b = [3,4,5]\n",
        "func(b)\n",
        "print(\"Original list : \",b)\n",
        "\n",
        "# Whats the lesson?"
      ]
    },
    {
      "cell_type": "code",
      "execution_count": null,
      "metadata": {
        "id": "4esOp1mEL2EU"
      },
      "outputs": [],
      "source": [
        "def func(a):\n",
        "  a['new key'] = 10\n",
        "  print(\"New dict : \",a)\n",
        "\n",
        "b = {'key1' : 3, 'key2' : 5}\n",
        "func(b)\n",
        "print(\"Original dict : \",b)\n",
        "\n",
        "# Whats the lesson?"
      ]
    },
    {
      "cell_type": "code",
      "execution_count": null,
      "metadata": {
        "id": "JqNrl8h5ME7d"
      },
      "outputs": [],
      "source": []
    },
    {
      "cell_type": "markdown",
      "metadata": {
        "id": "xjGJOKqoMUYt"
      },
      "source": [
        "# Global and Local Variables"
      ]
    },
    {
      "cell_type": "code",
      "execution_count": null,
      "metadata": {
        "id": "4Hf0IZv2MVlU"
      },
      "outputs": [],
      "source": [
        "x = 5\n",
        "\n",
        "def func(y):\n",
        "  print(x+y)\n",
        "\n",
        "func(6)"
      ]
    },
    {
      "cell_type": "code",
      "execution_count": null,
      "metadata": {
        "id": "_jrhWaP3MkQG"
      },
      "outputs": [],
      "source": [
        "x = 5\n",
        "\n",
        "def func(y):\n",
        "  x = 7\n",
        "  print(x+y)\n",
        "\n",
        "func(6)\n",
        "print(x)"
      ]
    },
    {
      "cell_type": "code",
      "execution_count": null,
      "metadata": {
        "id": "VhlgS9_-MpAH"
      },
      "outputs": [],
      "source": [
        "x = 5\n",
        "\n",
        "def func(x):\n",
        "  y = 7\n",
        "  print(x+y)\n",
        "\n",
        "func(6)\n",
        "print(x)"
      ]
    },
    {
      "cell_type": "code",
      "execution_count": null,
      "metadata": {
        "id": "BWDaiHdcMtLf"
      },
      "outputs": [],
      "source": [
        "x = 5\n",
        "\n",
        "def func(y):\n",
        "  global x\n",
        "  x = 7\n",
        "  print(x+y)\n",
        "\n",
        "func(6)\n",
        "print(x)"
      ]
    },
    {
      "cell_type": "code",
      "execution_count": null,
      "metadata": {
        "id": "UZa5tZyVMwSZ"
      },
      "outputs": [],
      "source": [
        "x = 5\n",
        "\n",
        "def func(y):\n",
        "  global x\n",
        "  x = 7\n",
        "  print(x+y)\n",
        "\n",
        "func(6)\n",
        "print(y)"
      ]
    },
    {
      "cell_type": "code",
      "execution_count": null,
      "metadata": {
        "id": "gBrwVBZkM1Lu"
      },
      "outputs": [],
      "source": [
        "def func(y):\n",
        "  z = 7\n",
        "  print(x+z)\n",
        "\n",
        "func(6)\n",
        "print(z)"
      ]
    },
    {
      "cell_type": "code",
      "execution_count": null,
      "metadata": {
        "id": "LbiYX5sdM8IP"
      },
      "outputs": [],
      "source": [
        "def func(y):\n",
        "  global z\n",
        "  z = 7\n",
        "  print(x+z)\n",
        "\n",
        "func(6)\n",
        "print(z)"
      ]
    },
    {
      "cell_type": "code",
      "execution_count": null,
      "metadata": {
        "id": "SlgmCUIRM-PW"
      },
      "outputs": [],
      "source": []
    }
  ],
  "metadata": {
    "colab": {
      "provenance": []
    },
    "kernelspec": {
      "display_name": "Python 3",
      "name": "python3"
    },
    "language_info": {
      "codemirror_mode": {
        "name": "ipython",
        "version": 3
      },
      "file_extension": ".py",
      "mimetype": "text/x-python",
      "name": "python",
      "nbconvert_exporter": "python",
      "pygments_lexer": "ipython3",
      "version": "3.11.4"
    }
  },
  "nbformat": 4,
  "nbformat_minor": 0
}
