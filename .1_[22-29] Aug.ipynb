{
 "cells": [
  {
   "cell_type": "code",
   "execution_count": 1,
   "metadata": {},
   "outputs": [
    {
     "data": {
      "text/plain": [
       "4"
      ]
     },
     "execution_count": 1,
     "metadata": {},
     "output_type": "execute_result"
    }
   ],
   "source": [
    "2+2\n"
   ]
  },
  {
   "cell_type": "code",
   "execution_count": 2,
   "metadata": {},
   "outputs": [
    {
     "data": {
      "text/plain": [
       "8"
      ]
     },
     "execution_count": 2,
     "metadata": {},
     "output_type": "execute_result"
    }
   ],
   "source": [
    "a=3\n",
    "b=5\n",
    "a+b"
   ]
  },
  {
   "cell_type": "code",
   "execution_count": 3,
   "metadata": {},
   "outputs": [
    {
     "name": "stdout",
     "output_type": "stream",
     "text": [
      "15.8\n",
      "9.9\n"
     ]
    }
   ],
   "source": [
    "a=3.5\n",
    "b=6.4\n",
    "c=5.9\n",
    "print(a+b+c)\n",
    "F=a+b\n",
    "print(F)"
   ]
  },
  {
   "cell_type": "code",
   "execution_count": 7,
   "metadata": {},
   "outputs": [
    {
     "name": "stdout",
     "output_type": "stream",
     "text": [
      "3\n",
      "6\n"
     ]
    },
    {
     "data": {
      "text/plain": [
       "5"
      ]
     },
     "execution_count": 7,
     "metadata": {},
     "output_type": "execute_result"
    }
   ],
   "source": [
    "print(int(a))\n",
    "print(int(b))\n",
    "int(c)\n"
   ]
  },
  {
   "cell_type": "code",
   "execution_count": 10,
   "metadata": {},
   "outputs": [
    {
     "name": "stdout",
     "output_type": "stream",
     "text": [
      "3.5\n",
      "6.4\n",
      "5.9\n",
      "9.0\n",
      "6.2\n"
     ]
    }
   ],
   "source": [
    "print(float(a))\n",
    "print(float(b))\n",
    "print(float(c))\n",
    "print(float(9))\n",
    "print(float(6.2))"
   ]
  },
  {
   "cell_type": "code",
   "execution_count": 12,
   "metadata": {},
   "outputs": [
    {
     "name": "stdout",
     "output_type": "stream",
     "text": [
      "9\n"
     ]
    },
    {
     "data": {
      "text/plain": [
       "15"
      ]
     },
     "execution_count": 12,
     "metadata": {},
     "output_type": "execute_result"
    }
   ],
   "source": [
    "print(int(a+b))\n",
    "int(a+b+c)"
   ]
  },
  {
   "cell_type": "code",
   "execution_count": 13,
   "metadata": {},
   "outputs": [
    {
     "data": {
      "text/plain": [
       "9"
      ]
     },
     "execution_count": 13,
     "metadata": {},
     "output_type": "execute_result"
    }
   ],
   "source": [
    "int(a)+int(b)"
   ]
  },
  {
   "cell_type": "code",
   "execution_count": 4,
   "metadata": {},
   "outputs": [
    {
     "name": "stdout",
     "output_type": "stream",
     "text": [
      "The value of a+b is: 9.9\n"
     ]
    }
   ],
   "source": [
    "print(\"The value of a+b is:\", F)"
   ]
  },
  {
   "cell_type": "code",
   "execution_count": 10,
   "metadata": {},
   "outputs": [
    {
     "name": "stdout",
     "output_type": "stream",
     "text": [
      "b is greater\n",
      "Hello World\n"
     ]
    }
   ],
   "source": [
    "# if-if me dono ko cheak karega false ho ya true. \n",
    "\n",
    "a=45\n",
    "b=55\n",
    "if a>b:\n",
    "    print(\"a is greater\")\n",
    "if b>a:\n",
    "    print(\"b is greater\")\n",
    "\n",
    "print(\"Hello World\")\n"
   ]
  },
  {
   "cell_type": "code",
   "execution_count": 12,
   "metadata": {},
   "outputs": [
    {
     "name": "stdout",
     "output_type": "stream",
     "text": [
      "b is greater\n"
     ]
    }
   ],
   "source": [
    "### if-elif-else me 1st condition jab false ho tab hi second condition cheak karega.\n",
    "# Two numbers(a,b) me cheak karna ki kon greater hai,lesser hai,equal hai. \n",
    "a=32\n",
    "b=34\n",
    "if a>b:\n",
    "    print(\"a is greater\")\n",
    "elif b>a:\n",
    "    print(\"b is greater\")\n",
    "else:\n",
    "    print(\"a is equal to b\")"
   ]
  },
  {
   "cell_type": "code",
   "execution_count": 6,
   "metadata": {},
   "outputs": [
    {
     "name": "stdout",
     "output_type": "stream",
     "text": [
      "a is greater\n"
     ]
    }
   ],
   "source": [
    "### Find the greatest no. a & b(a & b are different)\n",
    "a=232\n",
    "b=231\n",
    "if a>b:\n",
    "    print(\"a is greater\")\n",
    "else:\n",
    "    print(\"b is greater\")"
   ]
  },
  {
   "cell_type": "code",
   "execution_count": 13,
   "metadata": {},
   "outputs": [
    {
     "name": "stdout",
     "output_type": "stream",
     "text": [
      "c is greatest\n"
     ]
    }
   ],
   "source": [
    "# 1. Find the greatest no.(a & b & c)are different.\n",
    "a=67\n",
    "b=78\n",
    "c=80\n",
    "if a>b and a>c:\n",
    "    print(\"a is greatest\")\n",
    "elif b>a and b>c:\n",
    "    print(\"b is greatest\")\n",
    "else: \n",
    "    # c>a and c>b\n",
    "    print(\"c is greatest\")"
   ]
  },
  {
   "cell_type": "code",
   "execution_count": 14,
   "metadata": {},
   "outputs": [
    {
     "name": "stdout",
     "output_type": "stream",
     "text": [
      "c is greatest\n"
     ]
    }
   ],
   "source": [
    "### 1. Find the greatest no.(a & b & c)are different.\n",
    "a=67\n",
    "b=78\n",
    "c=80\n",
    "if a>b and a>c:\n",
    "    print(\"a is greatest\")\n",
    "    \n",
    "elif b>c:\n",
    "    print(\"b is greatest\")\n",
    "else: \n",
    "    print(\"c is greatest\")"
   ]
  },
  {
   "cell_type": "code",
   "execution_count": 25,
   "metadata": {},
   "outputs": [
    {
     "name": "stdout",
     "output_type": "stream",
     "text": [
      "c is greatest\n"
     ]
    }
   ],
   "source": [
    "### 2. Find the greatest no.(a & b & c)are different.\n",
    "a=6700\n",
    "b=788\n",
    "c=8088\n",
    "if a>b:\n",
    "    if a>c:\n",
    "        print(\"a is greater\")\n",
    "    else:\n",
    "        print(\"c is greatest\")\n",
    "elif b>c:\n",
    "    print(\"b is greatest\")\n",
    "else:\n",
    "    print(\"c is greatest\")"
   ]
  },
  {
   "cell_type": "code",
   "execution_count": 1,
   "metadata": {},
   "outputs": [
    {
     "name": "stdout",
     "output_type": "stream",
     "text": [
      "b and c are equal and greater than a\n"
     ]
    }
   ],
   "source": [
    "#@@@ 3. Find the greatest no.(a & b & c)are different or equal.\n",
    "a=7\n",
    "b=8\n",
    "c=8\n",
    "if a>b:\n",
    "    if a>c:\n",
    "        print(\"a is greatest.\")\n",
    "    else:\n",
    "        print(\"c is greatest\")\n",
    "elif b>c:\n",
    "    print(\"b is greatest\")\n",
    "elif c>b:\n",
    "    print(\"c is greatest\")\n",
    "elif a==b:\n",
    "    if a<c:\n",
    "        print(\"a and b are equal but c is greatest\")\n",
    "    else:\n",
    "        print(\"a and c are equal and greater than c\")\n",
    "    \n",
    "elif b==c:\n",
    "    if b>a:\n",
    "        print(\"b and c are equal and greater than a\")\n",
    "    else:\n",
    "        print(\"b and c are equal but a is greatest\")\n",
    "elif a==c:\n",
    "    if a>b:\n",
    "        print(\"a and c are equal and greater than b\")\n",
    "    else:\n",
    "        print(\"a and c are equal but b is greatest\")\n",
    "else: \n",
    "    print(\"a,b,c are equal\")\n"
   ]
  },
  {
   "cell_type": "markdown",
   "metadata": {},
   "source": [
    "# (2)Date: 28 AUG"
   ]
  },
  {
   "cell_type": "code",
   "execution_count": 30,
   "metadata": {},
   "outputs": [
    {
     "name": "stdout",
     "output_type": "stream",
     "text": [
      "a is not equal to b \n"
     ]
    }
   ],
   "source": [
    "###\n",
    "a=69\n",
    "b=67\n",
    "if a==b:\n",
    "    print(\"a is equal to b\")\n",
    "else:\n",
    "    print(\"a is not equal to b \")"
   ]
  },
  {
   "cell_type": "code",
   "execution_count": 1,
   "metadata": {},
   "outputs": [],
   "source": [
    "# greater than [>]\n",
    "# less than [<]\n",
    "# equal to [==]\n",
    "# assigned [=]\n",
    "# not equal to [!=]\n",
    "# greater than or equal to [>=]\n",
    "# less than or equal to [<=]\n",
    "# ['+', '-', '*', '/', 'divied', '%', 'remender']"
   ]
  },
  {
   "cell_type": "code",
   "execution_count": 1,
   "metadata": {},
   "outputs": [
    {
     "name": "stdout",
     "output_type": "stream",
     "text": [
      "6\n"
     ]
    },
    {
     "data": {
      "text/plain": [
       "str"
      ]
     },
     "execution_count": 1,
     "metadata": {},
     "output_type": "execute_result"
    }
   ],
   "source": [
    "a = input(\"enter a no.:\")\n",
    "print(a)\n",
    "type(a)\n"
   ]
  },
  {
   "cell_type": "code",
   "execution_count": 37,
   "metadata": {},
   "outputs": [
    {
     "name": "stdout",
     "output_type": "stream",
     "text": [
      "1\n"
     ]
    }
   ],
   "source": [
    "###\n",
    "a=7\n",
    "b=3\n",
    "c=a%b\n",
    "print(c)"
   ]
  },
  {
   "cell_type": "code",
   "execution_count": 38,
   "metadata": {},
   "outputs": [
    {
     "name": "stdout",
     "output_type": "stream",
     "text": [
      "5\n"
     ]
    }
   ],
   "source": [
    "##\n",
    "a = 5.8\n",
    "b=int(a)\n",
    "print(b)"
   ]
  },
  {
   "cell_type": "code",
   "execution_count": 39,
   "metadata": {},
   "outputs": [
    {
     "name": "stdout",
     "output_type": "stream",
     "text": [
      "6\n"
     ]
    }
   ],
   "source": [
    "a=6\n",
    "b=int(a)\n",
    "print(b)"
   ]
  },
  {
   "cell_type": "code",
   "execution_count": null,
   "metadata": {},
   "outputs": [],
   "source": [
    "\n",
    "# problem: cheak if the given no.s is even or odd.\n",
    "# for male[0]\n",
    "# [W=52+(1.9*(inches above 60 inches))]\n",
    "# for female[1]\n",
    "# [W=49+(1.6*(inches above 60 inches))]\n",
    "# length of list = no. of element"
   ]
  },
  {
   "cell_type": "code",
   "execution_count": 3,
   "metadata": {},
   "outputs": [
    {
     "name": "stdout",
     "output_type": "stream",
     "text": [
      "Enter the first no.: 1\n",
      "Enter the second no.: 1\n"
     ]
    }
   ],
   "source": [
    "###\n",
    "A = int(input(\"Enter the first no.\"))\n",
    "print(\"Enter the first no.:\",A)\n",
    "B = int(input(\"Enter the second no.\"))\n",
    "print(\"Enter the second no.:\",B)"
   ]
  },
  {
   "cell_type": "code",
   "execution_count": 10,
   "metadata": {},
   "outputs": [
    {
     "name": "stdout",
     "output_type": "stream",
     "text": [
      "Input no.(A) is an integer\n"
     ]
    }
   ],
   "source": [
    "#@@@ problem (1): check if the input no. is integer or not.\n",
    "A = 908.0\n",
    "B = int(A)\n",
    "if A==B:\n",
    "    print(\"Input no.(A) is an integer\")\n",
    "else:\n",
    "    print(\"Input no. (A) is not an integer\")"
   ]
  },
  {
   "cell_type": "code",
   "execution_count": 5,
   "metadata": {},
   "outputs": [
    {
     "name": "stdout",
     "output_type": "stream",
     "text": [
      "A is an odd\n"
     ]
    }
   ],
   "source": [
    "### problem(2): cheak if the given no.s is even or odd.\n",
    "A = 7\n",
    "B=A%2\n",
    "if B==0:\n",
    "    print(\"A is an even no.\")\n",
    "else:\n",
    "    print(\"A is an odd\")"
   ]
  },
  {
   "cell_type": "code",
   "execution_count": 12,
   "metadata": {},
   "outputs": [
    {
     "name": "stdout",
     "output_type": "stream",
     "text": [
      "female\n",
      "Weight= 65.0\n"
     ]
    }
   ],
   "source": [
    "# problem(3): Robinsion's formula for computing height into weight\n",
    "# male=[0]\n",
    "# female=[1]\n",
    "###\n",
    "a=int(input(\"Enter your gender press 0 or 1\"))\n",
    "b=float(input(\"Enter your height above 60 (in the inches)\"))\n",
    "c=float(b-60)\n",
    "if a==0:\n",
    "    print(\"male\")\n",
    "    W=52+(1.9*(c))\n",
    "    print(\"Weight=\",W)\n",
    "else:\n",
    "    print(\"female\")\n",
    "    We=49+(1.6*(c))\n",
    "    print(\"Weight=\",We)\n"
   ]
  },
  {
   "cell_type": "code",
   "execution_count": null,
   "metadata": {},
   "outputs": [
    {
     "name": "stdout",
     "output_type": "stream",
     "text": [
      "6\n"
     ]
    },
    {
     "data": {
      "text/plain": [
       "str"
      ]
     },
     "execution_count": 9,
     "metadata": {},
     "output_type": "execute_result"
    }
   ],
   "source": [
    "###(1).type function\n",
    "a=input(\"Enter your no.\")\n",
    "print(a)\n",
    "type(a)"
   ]
  },
  {
   "cell_type": "code",
   "execution_count": null,
   "metadata": {},
   "outputs": [
    {
     "name": "stdout",
     "output_type": "stream",
     "text": [
      "9.0\n"
     ]
    },
    {
     "data": {
      "text/plain": [
       "str"
      ]
     },
     "execution_count": 10,
     "metadata": {},
     "output_type": "execute_result"
    }
   ],
   "source": [
    "#(2).\n",
    "a=input(\"Enter your no.\")\n",
    "print(a)\n",
    "type(a)"
   ]
  },
  {
   "cell_type": "code",
   "execution_count": null,
   "metadata": {},
   "outputs": [
    {
     "name": "stdout",
     "output_type": "stream",
     "text": [
      "7\n"
     ]
    },
    {
     "data": {
      "text/plain": [
       "int"
      ]
     },
     "execution_count": 16,
     "metadata": {},
     "output_type": "execute_result"
    }
   ],
   "source": [
    "###(3).\n",
    "a=int(input(\"Enter your no.\"))\n",
    "print(a)\n",
    "type(a)"
   ]
  },
  {
   "cell_type": "code",
   "execution_count": null,
   "metadata": {},
   "outputs": [
    {
     "name": "stdout",
     "output_type": "stream",
     "text": [
      "5.0\n"
     ]
    },
    {
     "data": {
      "text/plain": [
       "float"
      ]
     },
     "execution_count": 11,
     "metadata": {},
     "output_type": "execute_result"
    }
   ],
   "source": [
    "###(4).\n",
    "a=float(input(\"Enter your no.\"))\n",
    "print(a)\n",
    "type(a)"
   ]
  },
  {
   "cell_type": "markdown",
   "metadata": {},
   "source": [
    "# (3)Date: 29 AUG"
   ]
  },
  {
   "cell_type": "markdown",
   "metadata": {},
   "source": [
    "(1). Given two numbers a and b, find ratio a/b (b couldn't be zero)"
   ]
  },
  {
   "cell_type": "code",
   "execution_count": null,
   "metadata": {},
   "outputs": [
    {
     "name": "stdout",
     "output_type": "stream",
     "text": [
      "7\n",
      "7\n",
      "Your answer is: 1.0\n"
     ]
    }
   ],
   "source": [
    "###\n",
    "a = int(input(\"Enter first no.\"))\n",
    "b = int(input(\"Enter second no.\"))\n",
    "print(a)\n",
    "print(b)\n",
    "if b==0:\n",
    "    print(\"you can't divied\") \n",
    "else:\n",
    "    c=a/b\n",
    "    print(\"Your answer is:\",c)"
   ]
  },
  {
   "cell_type": "code",
   "execution_count": 18,
   "metadata": {},
   "outputs": [
    {
     "name": "stdout",
     "output_type": "stream",
     "text": [
      "6\n",
      "0\n",
      "ratio of a and b is not exist\n"
     ]
    }
   ],
   "source": [
    "\n",
    "a=int(input(\"Enter 1st no.\"))\n",
    "b=int(input(\"Enter 2st no.\"))\n",
    "print(a)\n",
    "print(b)\n",
    "if b==0:\n",
    "    print(\"ratio of a and b is not exist\")\n",
    "else:\n",
    "    c=a/b\n",
    "    print(\"ratio is:\",c)\n"
   ]
  },
  {
   "cell_type": "markdown",
   "metadata": {},
   "source": [
    "#\n",
    "(2). Given a point in 2D space, find the quadrant in which it lies. "
   ]
  },
  {
   "cell_type": "code",
   "execution_count": 1,
   "metadata": {},
   "outputs": [
    {
     "name": "stdout",
     "output_type": "stream",
     "text": [
      "(5, 0)\n",
      "(a,b) = (5, 0)  is at +X axis\n"
     ]
    }
   ],
   "source": [
    "###\n",
    "\n",
    "a = int(input(\"Enter point of x axis\"))\n",
    "b = int(input(\"Enter point of y axis\"))\n",
    "c = (a,b)\n",
    "print(c)\n",
    "if a == 0 and b == 0:\n",
    "    print(\"(a,b) =\",c,\"is at origin\")\n",
    "elif a == 0 and b > 0:\n",
    "    print(\"(a,b) =\",c,\" is at +Y axis\" )\n",
    "elif a == 0 and b < 0:\n",
    "    print(\"(a,b) =\",c,\" is at -Y axis\")\n",
    "elif a > 0 and b == 0:\n",
    "    print(\"(a,b) =\",c,\" is at +X axis\" )\n",
    "elif a < 0 and b == 0:\n",
    "    print(\"(a,b) =\",c,\" is at -X axis\")\n",
    "elif a > 0 and b > 0:\n",
    "    print(\"(a,b) =\",c,\" is at first quadrant\" )\n",
    "elif a < 0 and b >0:\n",
    "    print(\"(a,b) =\",c,\" is at second quadrant\")\n",
    "elif  a < 0 and b < 0:\n",
    "    print(\"(a,b) =\",c,\" is at third quadrant\" )\n",
    "else :\n",
    "    print(\"(a,b) =\",c,\" is at fourth quadrant\")\n"
   ]
  },
  {
   "cell_type": "markdown",
   "metadata": {},
   "source": [
    "\n",
    "(3). Given two points in 2D space, find the slope and y-intercept of the line joining them. Consider all cases"
   ]
  },
  {
   "cell_type": "code",
   "execution_count": null,
   "metadata": {},
   "outputs": [
    {
     "name": "stdout",
     "output_type": "stream",
     "text": [
      "Slope is : 5.0\n",
      "Y intercept is : -5.0\n"
     ]
    }
   ],
   "source": [
    "#@@@\n",
    "\n",
    "x1 = int(input(\"Enter X1 point\"))\n",
    "x2 = int(input(\"Enter X2 point\"))\n",
    "y1 = int(input(\"Enter Y1 point\"))\n",
    "y2= int(input(\"Enter Y2 point\"))\n",
    "b =  y2-y1\n",
    "a =  x2-x1\n",
    "\n",
    "if a == 0:\n",
    "    print(\"Slope is infinity\\nY intercept is also infinity\")\n",
    "else: \n",
    "    M = b/a\n",
    "    print(\"Slope is :\", M)\n",
    "    C= y1-M*x1\n",
    "    print(\"Y intercept is :\" , C)"
   ]
  },
  {
   "cell_type": "markdown",
   "metadata": {},
   "source": [
    "4. Given a temperature in Fahrenheit, convert it to Celsius. If the temperature is below 10 degree celcius output cold, between 10 and 25 output pleasant, between 25 and 35 output warm, and above 35 output hot."
   ]
  },
  {
   "cell_type": "code",
   "execution_count": 3,
   "metadata": {},
   "outputs": [
    {
     "name": "stdout",
     "output_type": "stream",
     "text": [
      "32.22222222222222\n",
      "warm\n"
     ]
    }
   ],
   "source": [
    "### C/5= F-32/9\n",
    "F = int(input(\"tempreture in fahrenheit\"))\n",
    "C = 5*(F-32)/9\n",
    "print(C)\n",
    "if C < 10:\n",
    "    print(\"cold\")\n",
    "elif 10 <= C < 25:\n",
    "    print(\"pleasant\")\n",
    "elif 25 <= C <= 35:\n",
    "    print(\"warm\")\n",
    "else:\n",
    "    C> 35\n",
    "    print(\"hot\")"
   ]
  },
  {
   "cell_type": "markdown",
   "metadata": {},
   "source": [
    "5. Given a quadratic equation with coefficients a, b and c, find the two solutions (may be real or complex). You should not take the square root of a negative number in your code."
   ]
  },
  {
   "cell_type": "code",
   "execution_count": 5,
   "metadata": {},
   "outputs": [
    {
     "name": "stdout",
     "output_type": "stream",
     "text": [
      "-147\n",
      "roots are complex\n"
     ]
    }
   ],
   "source": [
    "### ax**2+bx+c=0\n",
    "a=int(input(\"coff. of x**2\"))\n",
    "b=int(input(\"coff. of x\"))\n",
    "c=int(input(\"constant\"))\n",
    "#roots are\n",
    "D = (b**2)-(4*a*c)\n",
    "print(D)\n",
    "if D >= 0:\n",
    "    print(\"roots are real\")\n",
    "    M = ((-b) + (D**0.5))/ (2*a)\n",
    "    N = ((-b) - (D**0.5))/ (2*a)\n",
    "    print(\"first roots is :\", M)\n",
    "    print(\"Second roots is :\", N)\n",
    "else : \n",
    "    D < 0\n",
    "    print(\"roots are complex\")\n"
   ]
  },
  {
   "cell_type": "markdown",
   "metadata": {},
   "source": [
    "\n",
    "\n",
    "\n",
    "\n",
    "\n",
    "6. Given three points, find out whether they lie on the same straight line or not."
   ]
  },
  {
   "cell_type": "code",
   "execution_count": 8,
   "metadata": {},
   "outputs": [
    {
     "name": "stdout",
     "output_type": "stream",
     "text": [
      "1 2 3 4 5 6  are same line\n"
     ]
    }
   ],
   "source": [
    "x1=int(input(\"point no. X1\"))\n",
    "x2=int(input(\"point no. X2\"))\n",
    "x3=int(input(\"point no. X3\"))\n",
    "y1=int(input(\"point no. Y1\"))\n",
    "y2=int(input(\"point no. Y2\"))\n",
    "y3=int(input(\"point no. Y3\"))\n",
    "T = x1*(y2-y3)+x2*(y3-y1)+x3*(y1-y2)\n",
    "if T==0:\n",
    "    print(x1,x2,x3,y1,y2,y3,\" are same line\")\n",
    "else :\n",
    "    print(x1,x2,x3,y1,y2,y3,\" are not same line\")"
   ]
  }
 ],
 "metadata": {
  "kernelspec": {
   "display_name": "Python 3",
   "language": "python",
   "name": "python3"
  },
  "language_info": {
   "codemirror_mode": {
    "name": "ipython",
    "version": 3
   },
   "file_extension": ".py",
   "mimetype": "text/x-python",
   "name": "python",
   "nbconvert_exporter": "python",
   "pygments_lexer": "ipython3",
   "version": "3.11.4"
  },
  "orig_nbformat": 4
 },
 "nbformat": 4,
 "nbformat_minor": 2
}
