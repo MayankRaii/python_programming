{
 "cells": [
  {
   "cell_type": "code",
   "execution_count": null,
   "metadata": {},
   "outputs": [],
   "source": [
    "\n",
    "\n",
    "Dictionary practice problems:\n",
    "\n",
    "1. Convert these two lists into a dictionary. Take the keys from the first list, and values from the second one.\n",
    "keys = ['Ten', 'Twenty', 'Thirty']\n",
    "values = [10, 20, 30]\n",
    "\n",
    "2. Merge these two dictionaries into one using for loop\n",
    "\n",
    "dict1 = {'Ten': 10, 'Twenty': 20, 'Thirty': 30}\n",
    "dict2 = {'Thirty': 30, 'Fourty': 40, 'Fifty': 50}\n",
    "\n",
    "3. Check if a key exists in a dictionary:\n",
    "\n",
    "sample_dict = {'a': 100, 'b': 200, 'c': 300}\n",
    "key_needed = ‘d’\n",
    "\n",
    "4. Check if a value exists in a dictionary:\n",
    "\n",
    "sample_dict = {'a': 100, 'b': 200, 'c': 300}\n",
    "value_needed = 200\n",
    "\n",
    "\n",
    "5. Create a new dictionary so that it only has the keys mentioned in another list\n",
    "\n",
    "sample_dict = { \"name\": \"Kelly\", \"age\": 25, \"salary\": 8000, \"city\": \"New york\"}\n",
    "# Keys to extract\n",
    "keys = [\"name\", \"salary\"]\n",
    "\n",
    "6. Remove a key from a dictionary\n",
    "\n",
    "dict_name.pop(key_name)\n",
    "\n",
    "What does this function return?\n",
    "\n",
    "7. Use pop to rename a key\n",
    "\n",
    "8. Create a dictionary to store the total marks of 5 students in the class in 3 subjects (Course1, Course2, Course3). The keys must be the student names, and the values must be the list of marks. Create another list which has the course names in the same order as the marks are stored in the dictionary values. Now write a nested for loop to print the marks for each student exam wise.\n",
    "\n",
    "Student1\n",
    "Course1 marks : 82\n",
    "Course2 marks : 84\n",
    "Course3 marks : 72\n",
    "\n",
    "Student2\n",
    "Course1 marks : 87\n",
    "Course2 marks : 83\n",
    "Course3 marks : 78\n",
    "\n",
    "8. Write a for loop to create another dictionary from the above where the marks are replaced by grades. Above 80 is A grade, 60-80 is B grade, 40-60 is C grade, and below 40 is F. Create another dictionary to store the max and average marks for each student. \n",
    "\n",
    "9. Use the dictionary created above to compute the final CPI of the student. Course1 is of 4 credits, Course2 of 10 credits, and Course3 of 6 credits. Store these credits in a list.\n",
    "\n",
    "10. Write the dictionary as a json file, and read it back into a new dictionary. Look for the syntax on the web."
   ]
  },
  {
   "cell_type": "markdown",
   "metadata": {},
   "source": [
    "1. Convert these two lists into a dictionary. Take the keys from the first list, and values from the second one.\n",
    "\n",
    "keys = ['Ten', 'Twenty', 'Thirty']\n",
    "values = [10, 20, 30]"
   ]
  },
  {
   "cell_type": "code",
   "execution_count": 3,
   "metadata": {},
   "outputs": [
    {
     "name": "stdout",
     "output_type": "stream",
     "text": [
      "{'Ten': 10, 'Twenty': 20, 'Thirty': 30}\n"
     ]
    }
   ],
   "source": [
    "keys = ['Ten', 'Twenty', 'Thirty']\n",
    "values = [10, 20, 30]\n",
    "dict1={}\n",
    "dict1['Ten']=10\n",
    "dict1['Twenty']=20\n",
    "dict1['Thirty']=30\n",
    "print(dict1)"
   ]
  },
  {
   "cell_type": "markdown",
   "metadata": {},
   "source": [
    "2. Merge these two dictionaries into one using for loop\n",
    "\n",
    "dict1 = {'Ten': 10, 'Twenty': 20, 'Thirty': 30}\n",
    "dict2 = {'Thirty': 30, 'Fourty': 40, 'Fifty': 50}\n"
   ]
  },
  {
   "cell_type": "code",
   "execution_count": 1,
   "metadata": {},
   "outputs": [
    {
     "name": "stdout",
     "output_type": "stream",
     "text": [
      "{'Ten': 10, 'Twenty': 20, 'Thirty': 30, 'Fourty': 40, 'Fifty': 50}\n"
     ]
    }
   ],
   "source": [
    "dict1 = {'Ten': 10, 'Twenty': 20, 'Thirty': 30}\n",
    "dict2 = {'Thirty': 30, 'Fourty': 40, 'Fifty': 50}\n",
    "dict3=dict1.copy()\n",
    "\n",
    "for key,value in dict2.items():\n",
    "    if key not in dict3.keys():\n",
    "        dict3[key]=value\n",
    "print(dict3)"
   ]
  },
  {
   "cell_type": "markdown",
   "metadata": {},
   "source": [
    "3. Check if a key exists in a dictionary:\n",
    "\n",
    "sample_dict = {'a': 100, 'b': 200, 'c': 300}\n",
    "key_needed = ‘d’"
   ]
  },
  {
   "cell_type": "code",
   "execution_count": 7,
   "metadata": {},
   "outputs": [
    {
     "name": "stdout",
     "output_type": "stream",
     "text": [
      "d is not in the sample_dict\n"
     ]
    }
   ],
   "source": [
    "sample_dict = {'a': 100, 'b': 200, 'c': 300}\n",
    "key_needed = \"d\"\n",
    "if key_needed in sample_dict.keys():\n",
    "    print(key_needed,\"is in the sample_dict\")\n",
    "else:\n",
    "    print(key_needed,\"is not in the sample_dict\")\n"
   ]
  },
  {
   "cell_type": "code",
   "execution_count": 12,
   "metadata": {},
   "outputs": [
    {
     "name": "stdout",
     "output_type": "stream",
     "text": [
      "d is not in the sample_dict\n",
      "e is not in the sample_dict\n",
      "f is not in the sample_dict\n"
     ]
    }
   ],
   "source": [
    "sample_dict = {'a': 100, 'b': 200, 'c': 300}\n",
    "key_needed = [\"d\",\"e\",\"f\"]\n",
    "for key in key_needed:              \n",
    "    if key in sample_dict.keys():\n",
    "        print(key,\"is in the sample_dict\")\n",
    "\n",
    "    else:\n",
    "        print(key,\"is not in the sample_dict\")\n"
   ]
  },
  {
   "cell_type": "markdown",
   "metadata": {},
   "source": [
    "4. Check if a value exists in a dictionary:\n",
    "\n",
    "sample_dict = {'a': 100, 'b': 200, 'c': 300}\n",
    "value_needed = 200\n"
   ]
  },
  {
   "cell_type": "code",
   "execution_count": 15,
   "metadata": {},
   "outputs": [
    {
     "name": "stdout",
     "output_type": "stream",
     "text": [
      "200 is in the sample_dict\n"
     ]
    }
   ],
   "source": [
    "sample_dict = {'a': 100, 'b': 200, 'c': 300}\n",
    "value_needed = 200\n",
    "if value_needed in sample_dict.values():\n",
    "    print(value_needed,\"is in the sample_dict\")\n",
    "else:\n",
    "    print(value_needed,\"is not in the sample_dict\")\n",
    "    \n",
    "    \n",
    "\n"
   ]
  },
  {
   "cell_type": "markdown",
   "metadata": {},
   "source": [
    "5. Create a new dictionary so that it only has the keys mentioned in another list\n",
    "\n",
    "sample_dict = { \"name\": \"Kelly\", \"age\": 25, \"salary\": 8000, \"city\": \"New york\"}\n",
    "\n",
    "Keys to extract\n",
    "\n",
    "keys = [\"name\", \"salary\"]"
   ]
  },
  {
   "cell_type": "code",
   "execution_count": 30,
   "metadata": {},
   "outputs": [
    {
     "name": "stdout",
     "output_type": "stream",
     "text": [
      "{'name': 'Kelly', 'salary': 8000}\n"
     ]
    }
   ],
   "source": [
    "sample_dict = { \"name\": \"Kelly\", \"age\": 25, \"salary\": 8000, \"city\": \"New york\"}\n",
    "keys = [\"name\", \"salary\"]\n",
    "new_dict={}\n",
    "for key,value in sample_dict.items():\n",
    "    for x in keys:\n",
    "        if x==key:\n",
    "            new_dict[x]=value\n",
    "            \n",
    "print(new_dict)\n"
   ]
  },
  {
   "cell_type": "markdown",
   "metadata": {},
   "source": [
    "6. Remove a key from a dictionary\n",
    "\n",
    "dict_name.pop(key_name)\n",
    "\n",
    "What does this function return?"
   ]
  },
  {
   "cell_type": "code",
   "execution_count": 26,
   "metadata": {},
   "outputs": [
    {
     "name": "stdout",
     "output_type": "stream",
     "text": [
      "{'b': 2, 'c': 3}\n"
     ]
    }
   ],
   "source": [
    "dict1={\"a\":1,\"b\":2,\"c\":3}\n",
    "dict1.pop(\"a\")     #output is the corresponding value & this key is remove\n",
    "print(dict1)"
   ]
  },
  {
   "cell_type": "markdown",
   "metadata": {},
   "source": [
    "7. Use pop to rename a key"
   ]
  },
  {
   "cell_type": "code",
   "execution_count": 29,
   "metadata": {},
   "outputs": [
    {
     "name": "stdout",
     "output_type": "stream",
     "text": [
      "{'b': 2, 'c': 3, 'd': 1}\n"
     ]
    }
   ],
   "source": [
    "dict1={\"a\":1,\"b\":2,\"c\":3}\n",
    "dict1[\"d\"]=dict1.pop(\"a\")\n",
    "print(dict1)"
   ]
  },
  {
   "cell_type": "markdown",
   "metadata": {},
   "source": [
    "8. Create a dictionary to store the total marks of 2 students in the class in 3 subjects (Course1, Course2, Course3). The keys must be the student names, and the values must be the list of marks. Create another list which has the course names in the same order as the marks are stored in the dictionary values. Now write a nested for loop to print the marks for each student exam wise.\n",
    "\n",
    "Student1\n",
    "Course1 marks : 82\n",
    "Course2 marks : 84\n",
    "Course3 marks : 72\n",
    "\n",
    "Student2\n",
    "Course1 marks : 87\n",
    "Course2 marks : 83\n",
    "Course3 marks : 78"
   ]
  },
  {
   "cell_type": "code",
   "execution_count": 32,
   "metadata": {},
   "outputs": [
    {
     "name": "stdout",
     "output_type": "stream",
     "text": [
      "{'student1': [82, 84, 72], 'student2': [87, 83, 78]}\n"
     ]
    }
   ],
   "source": [
    "new_dict={}\n",
    "new_dict[\"student1\"]=[82,84,72]\n",
    "new_dict[\"student2\"]=[87,83,78]\n",
    "print(new_dict)\n",
    "list1=[\"course1\",\"course2\",\"course3\"]\n",
    "for x in list1:\n",
    "    for key,value in new_list:\n",
    "        "
   ]
  },
  {
   "cell_type": "markdown",
   "metadata": {},
   "source": [
    "9. Write a for loop to create another dictionary from the above where the marks are replaced by grades. Above 80 is A grade, 60-80 is B grade, 40-60 is C grade, and below 40 is F. Create another dictionary to store the max and average marks for each student. "
   ]
  },
  {
   "cell_type": "code",
   "execution_count": null,
   "metadata": {},
   "outputs": [],
   "source": []
  },
  {
   "cell_type": "markdown",
   "metadata": {},
   "source": [
    "10. Use the dictionary created above to compute the final CPI of the student. Course1 is of 4 credits, Course2 of 10 credits, and Course3 of 6 credits. Store these credits in a list.\n"
   ]
  },
  {
   "cell_type": "code",
   "execution_count": null,
   "metadata": {},
   "outputs": [],
   "source": []
  },
  {
   "cell_type": "markdown",
   "metadata": {},
   "source": [
    "11. Write the dictionary as a json file, and read it back into a new dictionary. Look for the syntax on the web.\n"
   ]
  },
  {
   "cell_type": "markdown",
   "metadata": {},
   "source": []
  }
 ],
 "metadata": {
  "kernelspec": {
   "display_name": "Python 3",
   "language": "python",
   "name": "python3"
  },
  "language_info": {
   "codemirror_mode": {
    "name": "ipython",
    "version": 3
   },
   "file_extension": ".py",
   "mimetype": "text/x-python",
   "name": "python",
   "nbconvert_exporter": "python",
   "pygments_lexer": "ipython3",
   "version": "3.11.4"
  }
 },
 "nbformat": 4,
 "nbformat_minor": 2
}
