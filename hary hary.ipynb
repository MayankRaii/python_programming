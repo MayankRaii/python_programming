{
 "cells": [
  {
   "cell_type": "code",
   "execution_count": 2,
   "metadata": {},
   "outputs": [
    {
     "name": "stdout",
     "output_type": "stream",
     "text": [
      "Mahakal Ki Maya\n"
     ]
    }
   ],
   "source": [
    "print(\"Mahakal Ki Maya\")"
   ]
  },
  {
   "cell_type": "code",
   "execution_count": 3,
   "metadata": {},
   "outputs": [
    {
     "name": "stdout",
     "output_type": "stream",
     "text": [
      "teri hi krapa se 1dam mast jindgi hai\n"
     ]
    }
   ],
   "source": [
    "print(\"teri hi krapa se 1dam mast jindgi hai\")"
   ]
  },
  {
   "cell_type": "code",
   "execution_count": 4,
   "metadata": {},
   "outputs": [
    {
     "name": "stdout",
     "output_type": "stream",
     "text": [
      "1567\n"
     ]
    }
   ],
   "source": [
    "a=1567\n",
    "print(a)"
   ]
  },
  {
   "cell_type": "code",
   "execution_count": 5,
   "metadata": {},
   "outputs": [
    {
     "name": "stdout",
     "output_type": "stream",
     "text": [
      "mama\n"
     ]
    }
   ],
   "source": [
    "b=\"mama\"\n",
    "print(b)"
   ]
  },
  {
   "cell_type": "code",
   "execution_count": 6,
   "metadata": {},
   "outputs": [
    {
     "name": "stdout",
     "output_type": "stream",
     "text": [
      "8\n"
     ]
    }
   ],
   "source": [
    "mama=8\n",
    "b=mama\n",
    "print(b)"
   ]
  },
  {
   "cell_type": "code",
   "execution_count": 7,
   "metadata": {},
   "outputs": [
    {
     "name": "stdout",
     "output_type": "stream",
     "text": [
      "11\n"
     ]
    }
   ],
   "source": [
    "a=2\n",
    "ak=9\n",
    "print(a +ak)\n"
   ]
  },
  {
   "cell_type": "code",
   "execution_count": 8,
   "metadata": {},
   "outputs": [
    {
     "name": "stdout",
     "output_type": "stream",
     "text": [
      "The type of a is <class 'int'>\n"
     ]
    }
   ],
   "source": [
    " k=2\n",
    "print(\"The type of a is\" , type(a))"
   ]
  },
  {
   "cell_type": "code",
   "execution_count": 9,
   "metadata": {},
   "outputs": [
    {
     "name": "stdout",
     "output_type": "stream",
     "text": [
      "The type of b is <class 'str'>\n"
     ]
    }
   ],
   "source": [
    "p=\"kaka\"\n",
    "print(\"The type of b is\" , type(p) )"
   ]
  },
  {
   "cell_type": "code",
   "execution_count": 10,
   "metadata": {},
   "outputs": [
    {
     "name": "stdout",
     "output_type": "stream",
     "text": [
      "The type of c is <class 'bool'>\n"
     ]
    }
   ],
   "source": [
    "c= True\n",
    "print(\"The type of c is\" , type(c))"
   ]
  },
  {
   "cell_type": "code",
   "execution_count": 11,
   "metadata": {},
   "outputs": [
    {
     "name": "stdout",
     "output_type": "stream",
     "text": [
      "The type of d is  <class 'NoneType'>\n"
     ]
    }
   ],
   "source": [
    "d= None\n",
    "print(\"The type of d is \" , type(d))"
   ]
  },
  {
   "cell_type": "code",
   "execution_count": 12,
   "metadata": {},
   "outputs": [
    {
     "name": "stdout",
     "output_type": "stream",
     "text": [
      "The type of a is <class 'float'>\n"
     ]
    }
   ],
   "source": [
    "a=1.1\n",
    "print(\"The type of a is\", type(a))"
   ]
  },
  {
   "cell_type": "code",
   "execution_count": 13,
   "metadata": {},
   "outputs": [
    {
     "name": "stdout",
     "output_type": "stream",
     "text": [
      "The type of a is <class 'complex'>\n"
     ]
    }
   ],
   "source": [
    "a=complex(6-3)\n",
    "print(\"The type of a is\" , type(a))"
   ]
  },
  {
   "cell_type": "code",
   "execution_count": 14,
   "metadata": {},
   "outputs": [
    {
     "name": "stdout",
     "output_type": "stream",
     "text": [
      "The type of a is <class 'complex'>\n"
     ]
    }
   ],
   "source": [
    "a=complex(6,3)\n",
    "print(\"The type of a is\" , type(a))"
   ]
  },
  {
   "cell_type": "code",
   "execution_count": 15,
   "metadata": {},
   "outputs": [
    {
     "name": "stdout",
     "output_type": "stream",
     "text": [
      "[3, 9.8, 5, 6, [-5, -6], ['apple', 'banana']]\n"
     ]
    }
   ],
   "source": [
    "list1 = [3,9.8,5,6, [-5 , -6] , [\"apple\" , \"banana\"]]\n",
    "print(list1)"
   ]
  },
  {
   "cell_type": "code",
   "execution_count": 16,
   "metadata": {},
   "outputs": [
    {
     "name": "stdout",
     "output_type": "stream",
     "text": [
      "(('parrot', 'sparrow'), ('Joker', 'haha'))\n"
     ]
    }
   ],
   "source": [
    "tuple1 = ((\"parrot\" , \"sparrow\") , (\"Joker\" , \"haha\"))\n",
    "print(tuple1)"
   ]
  },
  {
   "cell_type": "code",
   "execution_count": 17,
   "metadata": {},
   "outputs": [],
   "source": [
    "# python me sab kuchh ek object hai\n",
    "#opretr"
   ]
  },
  {
   "cell_type": "code",
   "execution_count": 18,
   "metadata": {},
   "outputs": [
    {
     "name": "stdout",
     "output_type": "stream",
     "text": [
      "11\n",
      "-1\n",
      "30\n",
      "0.8333333333333334\n",
      "8\n",
      "2\n",
      "25\n",
      "-1\n"
     ]
    }
   ],
   "source": [
    "print(5+6)\n",
    "print(5-6)\n",
    "print(5*6)\n",
    "print(5/6)\n",
    "print(50//6)\n",
    "print(50%6)\n",
    "print(5**2)\n",
    "print(5-6)"
   ]
  },
  {
   "cell_type": "code",
   "execution_count": 19,
   "metadata": {},
   "outputs": [
    {
     "name": "stdout",
     "output_type": "stream",
     "text": [
      "the value of 3 + 4 is: 7\n",
      "The value of 3 - 4 is: -1\n",
      "The vaiue of  3 * 4 is: 12\n",
      "the value of 3 / 4 is: 0.75\n",
      "The value of 3 // 4 is: 0\n",
      "The vaiue of  3 % 4 is: 3\n",
      "the value of 3 ** 4 is: 81\n"
     ]
    }
   ],
   "source": [
    "# Calculater\n",
    "# Alt+Shift+Down arrow\n",
    "# Alt dabakar click kare \"Multiple Carcle milega\"\n",
    "a= 3\n",
    "b=4\n",
    "print(\"the value of\", a, \"+\", b, \"is:\", a+b)\n",
    "print(\"The value of\", a,\"-\",b, \"is:\", a-b)\n",
    "print(\"The vaiue of \", a,\"*\", b, \"is:\" ,a*b)\n",
    "print(\"the value of\", a,\"/\",b, \"is:\", a/b)\n",
    "print(\"The value of\", a,\"//\",b, \"is:\", a//b)\n",
    "print(\"The vaiue of \", a,\"%\", b, \"is:\" ,a%b)\n",
    "print(\"the value of\", a,\"**\",b, \"is:\", a**b)\n"
   ]
  },
  {
   "cell_type": "code",
   "execution_count": 20,
   "metadata": {},
   "outputs": [
    {
     "name": "stdout",
     "output_type": "stream",
     "text": [
      "12\n"
     ]
    }
   ],
   "source": [
    "# string + string \n",
    "a=\"1\"\n",
    "b=\"2\"\n",
    "print(a+b)"
   ]
  },
  {
   "cell_type": "code",
   "execution_count": 21,
   "metadata": {},
   "outputs": [
    {
     "name": "stdout",
     "output_type": "stream",
     "text": [
      "Maya Mahakal Ki\n"
     ]
    }
   ],
   "source": [
    "a= \"Maya\"\n",
    "b= \" Mahakal Ki\"\n",
    "print(a+b)"
   ]
  },
  {
   "cell_type": "code",
   "execution_count": 22,
   "metadata": {},
   "outputs": [
    {
     "name": "stdout",
     "output_type": "stream",
     "text": [
      "5\n"
     ]
    }
   ],
   "source": [
    "a=\"1\"\n",
    "a=1\n",
    "b= \"4\"\n",
    "b=4\n",
    "print(a+b)"
   ]
  },
  {
   "cell_type": "code",
   "execution_count": 23,
   "metadata": {},
   "outputs": [
    {
     "name": "stdout",
     "output_type": "stream",
     "text": [
      "34\n",
      "7\n"
     ]
    }
   ],
   "source": [
    "# string convert intege\n",
    "a=\"3\"\n",
    "b=\"4\"\n",
    "print(a+b)\n",
    "print(int(a)+int(b))"
   ]
  },
  {
   "cell_type": "code",
   "execution_count": 24,
   "metadata": {},
   "outputs": [
    {
     "name": "stdout",
     "output_type": "stream",
     "text": [
      "The sum of both the number is : 22\n"
     ]
    }
   ],
   "source": [
    "string = \"15\"\n",
    "number = \"7\"\n",
    "string_number = int(string)\n",
    "sum = int(number) + string_number\n",
    "print(\"The sum of both the number is :\" , sum)"
   ]
  },
  {
   "cell_type": "code",
   "execution_count": 25,
   "metadata": {},
   "outputs": [
    {
     "name": "stdout",
     "output_type": "stream",
     "text": [
      "The sum of both the number is : 22\n"
     ]
    }
   ],
   "source": [
    "string = \"15\"\n",
    "number = 7\n",
    "string_number = int(string)\n",
    "sum = int(number) + string_number\n",
    "print(\"The sum of both the number is :\" , sum)"
   ]
  },
  {
   "cell_type": "code",
   "execution_count": 26,
   "metadata": {},
   "outputs": [
    {
     "name": "stdout",
     "output_type": "stream",
     "text": [
      "8.9\n"
     ]
    }
   ],
   "source": [
    "a=3\n",
    "b=5.9\n",
    "print(a+b)"
   ]
  },
  {
   "cell_type": "code",
   "execution_count": 27,
   "metadata": {},
   "outputs": [
    {
     "name": "stdout",
     "output_type": "stream",
     "text": [
      "<class 'int'>\n",
      "<class 'float'>\n",
      "<class 'float'>\n"
     ]
    }
   ],
   "source": [
    "# python autometicly converts\n",
    "# a to int \n",
    "# b to float \n",
    "# c is float addintion\n",
    "a =7\n",
    "print(type(a))\n",
    "b = 3.0\n",
    "print(type(b))\n",
    "c= a+b\n",
    "print(type(c))"
   ]
  },
  {
   "cell_type": "code",
   "execution_count": 28,
   "metadata": {},
   "outputs": [
    {
     "name": "stdout",
     "output_type": "stream",
     "text": [
      "\n"
     ]
    }
   ],
   "source": [
    "a= input()\n",
    "print(a)"
   ]
  },
  {
   "cell_type": "code",
   "execution_count": 29,
   "metadata": {},
   "outputs": [
    {
     "name": "stdout",
     "output_type": "stream",
     "text": [
      "My name is: \n"
     ]
    }
   ],
   "source": [
    "a = input()\n",
    "print(\"My name is:\", a)"
   ]
  },
  {
   "cell_type": "code",
   "execution_count": 30,
   "metadata": {},
   "outputs": [
    {
     "name": "stdout",
     "output_type": "stream",
     "text": [
      "\n"
     ]
    }
   ],
   "source": [
    "a= input(\"Enter first number :\")\n",
    "b= input(\"Enter second name :\" )\n",
    "print(a +b)"
   ]
  },
  {
   "cell_type": "code",
   "execution_count": 31,
   "metadata": {},
   "outputs": [],
   "source": [
    "a= input(\"Enter first number :\")\n",
    "b= input(\"Enter second name :\" )\n",
    "print(a +          b)\n",
    "print(int(a)+int(b))"
   ]
  },
  {
   "cell_type": "code",
   "execution_count": null,
   "metadata": {},
   "outputs": [
    {
     "ename": "TypeError",
     "evalue": "unsupported operand type(s) for -: 'str' and 'str'",
     "output_type": "error",
     "traceback": [
      "\u001b[1;31m---------------------------------------------------------------------------\u001b[0m",
      "\u001b[1;31mTypeError\u001b[0m                                 Traceback (most recent call last)",
      "Cell \u001b[1;32mIn[6], line 3\u001b[0m\n\u001b[0;32m      1\u001b[0m a\u001b[39m=\u001b[39m \u001b[39minput\u001b[39m(\u001b[39m\"\u001b[39m\u001b[39mEnter first number :\u001b[39m\u001b[39m\"\u001b[39m)\n\u001b[0;32m      2\u001b[0m b\u001b[39m=\u001b[39m \u001b[39minput\u001b[39m(\u001b[39m\"\u001b[39m\u001b[39mEnter second name :\u001b[39m\u001b[39m\"\u001b[39m )\n\u001b[1;32m----> 3\u001b[0m \u001b[39mprint\u001b[39m(a \u001b[39m-\u001b[39;49m b)\n\u001b[0;32m      4\u001b[0m \u001b[39mprint\u001b[39m(\u001b[39mint\u001b[39m(a)\u001b[39m-\u001b[39m\u001b[39mint\u001b[39m(b))\n",
      "\u001b[1;31mTypeError\u001b[0m: unsupported operand type(s) for -: 'str' and 'str'"
     ]
    }
   ],
   "source": [
    "a= input(\"Enter first number :\")\n",
    "b= input(\"Enter second name :\" )\n",
    "print(a - b)\n",
    "print(int(a)-int(b))"
   ]
  },
  {
   "cell_type": "code",
   "execution_count": null,
   "metadata": {},
   "outputs": [
    {
     "ename": "TypeError",
     "evalue": "unsupported operand type(s) for ** or pow(): 'str' and 'str'",
     "output_type": "error",
     "traceback": [
      "\u001b[1;31m---------------------------------------------------------------------------\u001b[0m",
      "\u001b[1;31mTypeError\u001b[0m                                 Traceback (most recent call last)",
      "Cell \u001b[1;32mIn[9], line 3\u001b[0m\n\u001b[0;32m      1\u001b[0m a\u001b[39m=\u001b[39m \u001b[39minput\u001b[39m(\u001b[39m\"\u001b[39m\u001b[39mEnter first number :\u001b[39m\u001b[39m\"\u001b[39m)\n\u001b[0;32m      2\u001b[0m b\u001b[39m=\u001b[39m \u001b[39minput\u001b[39m(\u001b[39m\"\u001b[39m\u001b[39mEnter second name :\u001b[39m\u001b[39m\"\u001b[39m )\n\u001b[1;32m----> 3\u001b[0m \u001b[39mprint\u001b[39m(a \u001b[39m*\u001b[39;49m\u001b[39m*\u001b[39;49m b)\n\u001b[0;32m      4\u001b[0m \u001b[39mprint\u001b[39m(\u001b[39mint\u001b[39m(a)\u001b[39m*\u001b[39m\u001b[39m*\u001b[39m\u001b[39mint\u001b[39m(b))\n",
      "\u001b[1;31mTypeError\u001b[0m: unsupported operand type(s) for ** or pow(): 'str' and 'str'"
     ]
    }
   ],
   "source": [
    "a= input(\"Enter first number :\")\n",
    "b= input(\"Enter second name :\" )\n",
    "print(a ** b)\n",
    "print(int(a)**int(b))"
   ]
  },
  {
   "cell_type": "code",
   "execution_count": null,
   "metadata": {},
   "outputs": [
    {
     "name": "stdout",
     "output_type": "stream",
     "text": [
      "Hello,Mayank\n",
      "He said, Hi Harry hey I am good I want to eat an apple\n",
      "He said,\n",
      "Hi Harry\n",
      "hey I am good \n",
      "I want to eat an apple\n"
     ]
    }
   ],
   "source": [
    "# triple single/ double core ke ander ki chij string ban jati hai\n",
    "name = \"Mayank\"\n",
    "friend =\" Nayra\"\n",
    "apple= \"He said, Hi Harry hey I am good I want to eat an apple\"\n",
    "mango= \"\"\"He said,\n",
    "Hi Harry\n",
    "hey I am good \n",
    "I want to eat an apple\"\"\"\n",
    "print(\"Hello,\" + name)\n",
    "print(apple)\n",
    "print(mango)"
   ]
  },
  {
   "cell_type": "code",
   "execution_count": null,
   "metadata": {},
   "outputs": [
    {
     "name": "stdout",
     "output_type": "stream",
     "text": [
      "M\n",
      "a\n",
      "y\n",
      "a\n",
      "n\n",
      "k\n",
      "N\n",
      "a\n",
      "y\n",
      "r\n",
      "a\n"
     ]
    }
   ],
   "source": [
    "friend =\"Nayra\"\n",
    "print(name[0])\n",
    "print(name[1])\n",
    "print(name[2])\n",
    "print(name[3])\n",
    "print(name[4])\n",
    "print(name[5])\n",
    "print(friend[0])\n",
    "print(friend[1])\n",
    "print(friend[2])\n",
    "print(friend[3])\n",
    "print(friend[4])\n"
   ]
  },
  {
   "cell_type": "code",
   "execution_count": null,
   "metadata": {},
   "outputs": [
    {
     "name": "stdout",
     "output_type": "stream",
     "text": [
      "H\n",
      "e\n",
      " \n",
      "s\n",
      "a\n",
      "i\n",
      "d\n",
      ",\n",
      "\n",
      "\n",
      "H\n",
      "i\n",
      " \n",
      "H\n",
      "a\n",
      "r\n",
      "r\n",
      "y\n",
      "\n",
      "\n",
      "h\n",
      "e\n",
      "y\n",
      " \n",
      "I\n",
      " \n",
      "a\n",
      "m\n",
      " \n",
      "g\n",
      "o\n",
      "o\n",
      "d\n",
      " \n",
      "\n",
      "\n",
      "I\n",
      " \n",
      "w\n",
      "a\n",
      "n\n",
      "t\n",
      " \n",
      "t\n",
      "o\n",
      " \n",
      "e\n",
      "a\n",
      "t\n",
      " \n",
      "a\n",
      "n\n",
      " \n",
      "a\n",
      "p\n",
      "p\n",
      "l\n",
      "e\n"
     ]
    }
   ],
   "source": [
    "mango= \"\"\"He said,\n",
    "Hi Harry\n",
    "hey I am good \n",
    "I want to eat an apple\"\"\"\n",
    "for character in mango :\n",
    "    print(character)\n"
   ]
  },
  {
   "cell_type": "code",
   "execution_count": null,
   "metadata": {},
   "outputs": [
    {
     "name": "stdout",
     "output_type": "stream",
     "text": [
      "M\n",
      "a\n",
      "y\n",
      "a\n",
      "n\n",
      "k\n"
     ]
    }
   ],
   "source": [
    "for character in name :\n",
    "    print(character)"
   ]
  },
  {
   "cell_type": "code",
   "execution_count": null,
   "metadata": {},
   "outputs": [
    {
     "name": "stdout",
     "output_type": "stream",
     "text": [
      "Lets use a for loop\n",
      "N\n",
      "a\n",
      "y\n",
      "r\n",
      "a\n"
     ]
    }
   ],
   "source": [
    "print(\"Lets use a for loop\")\n",
    "for character in friend :\n",
    "    print(character)"
   ]
  },
  {
   "cell_type": "code",
   "execution_count": null,
   "metadata": {},
   "outputs": [
    {
     "name": "stdout",
     "output_type": "stream",
     "text": [
      "Lets use a for loop\n",
      "\n",
      "N\n",
      "a\n",
      "y\n",
      "r\n",
      "a\n"
     ]
    }
   ],
   "source": [
    "print(\"Lets use a for loop\\n\")\n",
    "for character in friend :\n",
    "    print(character)"
   ]
  },
  {
   "cell_type": "code",
   "execution_count": null,
   "metadata": {},
   "outputs": [
    {
     "name": "stdout",
     "output_type": "stream",
     "text": [
      "harry,\n"
     ]
    }
   ],
   "source": [
    "names = \"harry,Mayank\"\n",
    "print(names[0:6])\n",
    "# 0 se lekar n-1 tak batata hai"
   ]
  },
  {
   "cell_type": "code",
   "execution_count": null,
   "metadata": {},
   "outputs": [
    {
     "name": "stdout",
     "output_type": "stream",
     "text": [
      "12\n"
     ]
    }
   ],
   "source": [
    "print(len(names))"
   ]
  },
  {
   "cell_type": "code",
   "execution_count": null,
   "metadata": {},
   "outputs": [
    {
     "name": "stdout",
     "output_type": "stream",
     "text": [
      "Mango is a 5 letter word\n"
     ]
    }
   ],
   "source": [
    "fruit = \"Mango\"\n",
    "len1 = len(fruit)\n",
    "print(\"Mango is a\" , len1 , \"letter word\")"
   ]
  },
  {
   "cell_type": "code",
   "execution_count": null,
   "metadata": {},
   "outputs": [
    {
     "name": "stdout",
     "output_type": "stream",
     "text": [
      "Mang\n"
     ]
    }
   ],
   "source": [
    "print(fruit[0:4])"
   ]
  },
  {
   "cell_type": "code",
   "execution_count": null,
   "metadata": {},
   "outputs": [
    {
     "name": "stdout",
     "output_type": "stream",
     "text": [
      "Mang\n"
     ]
    }
   ],
   "source": [
    "print(fruit[:4])\n",
    "# 0 aapne aap laga deta hai"
   ]
  },
  {
   "cell_type": "code",
   "execution_count": null,
   "metadata": {},
   "outputs": [
    {
     "name": "stdout",
     "output_type": "stream",
     "text": [
      "ang\n"
     ]
    }
   ],
   "source": [
    "print(fruit[1:4])"
   ]
  },
  {
   "cell_type": "code",
   "execution_count": null,
   "metadata": {},
   "outputs": [
    {
     "name": "stdout",
     "output_type": "stream",
     "text": [
      "Mango\n",
      "Mango\n",
      "Mango\n"
     ]
    }
   ],
   "source": [
    "print(fruit[:])\n",
    "print(fruit[:5])\n",
    "print(fruit[0:5])"
   ]
  },
  {
   "cell_type": "code",
   "execution_count": null,
   "metadata": {},
   "outputs": [
    {
     "name": "stdout",
     "output_type": "stream",
     "text": [
      "Ma\n",
      "Ma\n",
      "Ma\n"
     ]
    }
   ],
   "source": [
    "print(fruit[0:-3])\n",
    "print(fruit[0: len(fruit)-3])\n",
    "print(fruit[: len(fruit)-3])"
   ]
  },
  {
   "cell_type": "code",
   "execution_count": null,
   "metadata": {},
   "outputs": [
    {
     "name": "stdout",
     "output_type": "stream",
     "text": [
      "a\n",
      "a\n",
      "an\n",
      "an\n",
      "ang\n",
      "ang\n"
     ]
    }
   ],
   "source": [
    "# [0:4]including 0 but not a 4\n",
    "print(fruit[-4:len(fruit)-3]) \n",
    "print(fruit[-4:-3]) \n",
    "print(fruit[-4:len(fruit)-2])\n",
    "print(fruit[-4:-2])\n",
    "print(fruit[-4:len(fruit)-1])\n",
    "print(fruit[-4:-1])"
   ]
  },
  {
   "cell_type": "code",
   "execution_count": null,
   "metadata": {},
   "outputs": [
    {
     "name": "stdout",
     "output_type": "stream",
     "text": [
      "6\n",
      "MAYANK\n",
      "mayank\n"
     ]
    }
   ],
   "source": [
    "# strings are immutable\\ unchange but make new string\n",
    "a = \"Mayank\"\n",
    "print(len (a))\n",
    "print(a.upper())\n",
    "print(a.lower()) \n"
   ]
  },
  {
   "cell_type": "code",
   "execution_count": null,
   "metadata": {},
   "outputs": [
    {
     "name": "stdout",
     "output_type": "stream",
     "text": [
      "MAHAKAL!!!!!!\n",
      "mahakal!!!!!!\n",
      "Mahakal\n"
     ]
    }
   ],
   "source": [
    "b = \"Mahakal!!!!!!\"\n",
    "print(b.upper())\n",
    "print(b.lower())\n",
    "print(b.rstrip(\"!\"))"
   ]
  },
  {
   "cell_type": "code",
   "execution_count": null,
   "metadata": {},
   "outputs": [
    {
     "name": "stdout",
     "output_type": "stream",
     "text": [
      "!!!!!Maya\n"
     ]
    }
   ],
   "source": [
    "c= \"!!!!!Maya!!!!!\"\n",
    "print(c.rstrip(\"!\"))"
   ]
  },
  {
   "cell_type": "code",
   "execution_count": null,
   "metadata": {},
   "outputs": [
    {
     "name": "stdout",
     "output_type": "stream",
     "text": [
      "!!!!pooja!!!!pooja!!!!\n"
     ]
    }
   ],
   "source": [
    "d= \"!!!!megha!!!!megha!!!!\"\n",
    "print(d.replace(\"megha\",\"pooja\"))"
   ]
  },
  {
   "cell_type": "code",
   "execution_count": null,
   "metadata": {},
   "outputs": [
    {
     "name": "stdout",
     "output_type": "stream",
     "text": [
      "['srmu', 'srmu', '!!!!', 'mayami::::', \"usa'''''''\"]\n"
     ]
    }
   ],
   "source": [
    "E= \"srmu srmu !!!! mayami:::: usa'''''''\"\n",
    "print(E.split(\" \"))"
   ]
  },
  {
   "cell_type": "code",
   "execution_count": null,
   "metadata": {},
   "outputs": [
    {
     "name": "stdout",
     "output_type": "stream",
     "text": [
      "Introducation of cs\n"
     ]
    }
   ],
   "source": [
    "f=\"introdUcatioN of cS\"\n",
    "print(f.capitalize())"
   ]
  },
  {
   "cell_type": "code",
   "execution_count": null,
   "metadata": {},
   "outputs": [
    {
     "name": "stdout",
     "output_type": "stream",
     "text": [
      "26\n",
      "            welcome to the console!!!!            \n",
      "50\n"
     ]
    }
   ],
   "source": [
    "str1 = \"welcome to the console!!!!\"\n",
    "print(len(str1))\n",
    "print(str1.center(50))\n",
    "print(len(str1.center(50)))"
   ]
  },
  {
   "cell_type": "code",
   "execution_count": null,
   "metadata": {},
   "outputs": [
    {
     "name": "stdout",
     "output_type": "stream",
     "text": [
      "2\n",
      "2\n"
     ]
    }
   ],
   "source": [
    "print(d.count(\"megha\"))\n",
    "print(E.count('srmu'))"
   ]
  },
  {
   "cell_type": "code",
   "execution_count": null,
   "metadata": {},
   "outputs": [
    {
     "name": "stdout",
     "output_type": "stream",
     "text": [
      "True\n",
      "True\n",
      "True\n",
      "True\n"
     ]
    }
   ],
   "source": [
    "str1 = \"welcome to the console!!!!\"\n",
    "print(str1.endswith(\"!!!!\"))\n",
    "print(str1.endswith(\"!!!\"))\n",
    "print(str1.endswith(\"to\", 4,10))\n",
    "print(str1.endswith(\"he\" , 9,14))"
   ]
  },
  {
   "cell_type": "code",
   "execution_count": null,
   "metadata": {},
   "outputs": [
    {
     "name": "stdout",
     "output_type": "stream",
     "text": [
      "14\n",
      "-1\n"
     ]
    }
   ],
   "source": [
    "W= \"He's name is DON. he is an honest man.\"\n",
    "print(W.find(\"ON\"))\n",
    "print(W.find(\"love\"))"
   ]
  },
  {
   "cell_type": "code",
   "execution_count": null,
   "metadata": {},
   "outputs": [
    {
     "name": "stdout",
     "output_type": "stream",
     "text": [
      "13\n"
     ]
    }
   ],
   "source": [
    "W= \"He's name is DON. he is an honest man.\"\n",
    "\n",
    "print(W.index(\"DON\"))"
   ]
  },
  {
   "cell_type": "code",
   "execution_count": null,
   "metadata": {},
   "outputs": [
    {
     "ename": "ValueError",
     "evalue": "substring not found",
     "output_type": "error",
     "traceback": [
      "\u001b[1;31m---------------------------------------------------------------------------\u001b[0m",
      "\u001b[1;31mValueError\u001b[0m                                Traceback (most recent call last)",
      "Cell \u001b[1;32mIn[127], line 1\u001b[0m\n\u001b[1;32m----> 1\u001b[0m \u001b[39mprint\u001b[39m(W\u001b[39m.\u001b[39;49mindex(\u001b[39m\"\u001b[39;49m\u001b[39mdon\u001b[39;49m\u001b[39m\"\u001b[39;49m))\n",
      "\u001b[1;31mValueError\u001b[0m: substring not found"
     ]
    }
   ],
   "source": [
    "print(W.index(\"don\"))"
   ]
  },
  {
   "cell_type": "code",
   "execution_count": null,
   "metadata": {},
   "outputs": [
    {
     "name": "stdout",
     "output_type": "stream",
     "text": [
      "True\n"
     ]
    }
   ],
   "source": [
    "R = \"WeicomeTotheconsole90876\"\n",
    "print(R.isalnum())"
   ]
  },
  {
   "cell_type": "code",
   "execution_count": null,
   "metadata": {},
   "outputs": [
    {
     "name": "stdout",
     "output_type": "stream",
     "text": [
      "False\n"
     ]
    }
   ],
   "source": [
    "W= \"He's name is DON. he is an honest man.\"\n",
    "print(W.isalnum())"
   ]
  },
  {
   "cell_type": "code",
   "execution_count": null,
   "metadata": {},
   "outputs": [],
   "source": []
  },
  {
   "cell_type": "code",
   "execution_count": null,
   "metadata": {},
   "outputs": [
    {
     "name": "stdout",
     "output_type": "stream",
     "text": [
      "False\n"
     ]
    }
   ],
   "source": [
    "R = \"WeicomeTotheconsole90876\"\n",
    "print(R.isalpha())"
   ]
  },
  {
   "cell_type": "code",
   "execution_count": null,
   "metadata": {},
   "outputs": [
    {
     "name": "stdout",
     "output_type": "stream",
     "text": [
      "True\n"
     ]
    }
   ],
   "source": [
    "R = \"WeicomeTotheconsole\"\n",
    "print(R.isalnum())"
   ]
  },
  {
   "cell_type": "code",
   "execution_count": null,
   "metadata": {},
   "outputs": [
    {
     "name": "stdout",
     "output_type": "stream",
     "text": [
      "False\n"
     ]
    }
   ],
   "source": [
    "R = \"WeicomeTotheconsole90876\"\n",
    "print(R.islower())"
   ]
  },
  {
   "cell_type": "code",
   "execution_count": null,
   "metadata": {},
   "outputs": [],
   "source": []
  },
  {
   "cell_type": "code",
   "execution_count": null,
   "metadata": {},
   "outputs": [
    {
     "name": "stdout",
     "output_type": "stream",
     "text": [
      "weicometotheconsole90876\n"
     ]
    }
   ],
   "source": [
    "R= \"WeicomeTotheconsole90876\"\n",
    "print(R.lower())"
   ]
  },
  {
   "cell_type": "code",
   "execution_count": null,
   "metadata": {},
   "outputs": [
    {
     "name": "stdout",
     "output_type": "stream",
     "text": [
      "True\n"
     ]
    }
   ],
   "source": [
    "a= \"weicometotheconsole90876\"\n",
    "print(a.islower())"
   ]
  },
  {
   "cell_type": "code",
   "execution_count": null,
   "metadata": {},
   "outputs": [
    {
     "name": "stdout",
     "output_type": "stream",
     "text": [
      "True\n"
     ]
    }
   ],
   "source": [
    "M = \"WeicomeTotheconsole90876\"\n",
    "print(M.isprintable())"
   ]
  },
  {
   "cell_type": "code",
   "execution_count": null,
   "metadata": {},
   "outputs": [
    {
     "name": "stdout",
     "output_type": "stream",
     "text": [
      "True\n"
     ]
    }
   ],
   "source": [
    "M = \"WeicomeTotheconsole90876/n\"\n",
    "print(M.isprintable())"
   ]
  },
  {
   "cell_type": "code",
   "execution_count": null,
   "metadata": {},
   "outputs": [
    {
     "name": "stdout",
     "output_type": "stream",
     "text": [
      "WeicomeTotheconsole90876\n",
      "\n",
      "False\n"
     ]
    }
   ],
   "source": [
    "M = \"WeicomeTotheconsole90876\\n\"\n",
    "print(M)\n",
    "print(M.isprintable())\n"
   ]
  },
  {
   "cell_type": "code",
   "execution_count": null,
   "metadata": {},
   "outputs": [
    {
     "name": "stdout",
     "output_type": "stream",
     "text": [
      "True\n"
     ]
    }
   ],
   "source": [
    "S=\"            \"                \n",
    "# using spacebar\n",
    "print(S.isspace())"
   ]
  },
  {
   "cell_type": "code",
   "execution_count": null,
   "metadata": {},
   "outputs": [
    {
     "name": "stdout",
     "output_type": "stream",
     "text": [
      "True\n"
     ]
    }
   ],
   "source": [
    "S=\"                 \"\n",
    "# using tab\n",
    "print(S.isspace())"
   ]
  },
  {
   "cell_type": "code",
   "execution_count": null,
   "metadata": {},
   "outputs": [
    {
     "name": "stdout",
     "output_type": "stream",
     "text": [
      "False\n"
     ]
    }
   ],
   "source": [
    "Q=\"using         spacebar\"\n",
    "print(Q.isspace())"
   ]
  },
  {
   "cell_type": "code",
   "execution_count": null,
   "metadata": {},
   "outputs": [
    {
     "name": "stdout",
     "output_type": "stream",
     "text": [
      "False\n"
     ]
    }
   ],
   "source": [
    "Q=\"uSing spacebar\"\n",
    "print(Q.istitle())"
   ]
  },
  {
   "cell_type": "code",
   "execution_count": null,
   "metadata": {},
   "outputs": [
    {
     "name": "stdout",
     "output_type": "stream",
     "text": [
      "False\n"
     ]
    }
   ],
   "source": [
    "Q=\"using Zpacebar\"\n",
    "print(Q.istitle())"
   ]
  },
  {
   "cell_type": "code",
   "execution_count": null,
   "metadata": {},
   "outputs": [
    {
     "name": "stdout",
     "output_type": "stream",
     "text": [
      "True\n"
     ]
    }
   ],
   "source": [
    "Q=\"Xing Spacebar\"\n",
    "print(Q.istitle())"
   ]
  },
  {
   "cell_type": "code",
   "execution_count": null,
   "metadata": {},
   "outputs": [
    {
     "name": "stdout",
     "output_type": "stream",
     "text": [
      "True\n"
     ]
    }
   ],
   "source": [
    "Q=\"Cing Lpacebar\"\n",
    "print(Q.istitle())"
   ]
  },
  {
   "cell_type": "code",
   "execution_count": null,
   "metadata": {},
   "outputs": [
    {
     "name": "stdout",
     "output_type": "stream",
     "text": [
      "False\n"
     ]
    }
   ],
   "source": [
    "Q=\"King spacebar\"\n",
    "print(Q.isspace())"
   ]
  },
  {
   "cell_type": "code",
   "execution_count": null,
   "metadata": {},
   "outputs": [
    {
     "name": "stdout",
     "output_type": "stream",
     "text": [
      "False\n"
     ]
    }
   ],
   "source": [
    "Q=\"Aging spacebar\"\n",
    "print(Q.isupper())"
   ]
  },
  {
   "cell_type": "code",
   "execution_count": null,
   "metadata": {},
   "outputs": [
    {
     "name": "stdout",
     "output_type": "stream",
     "text": [
      "AGING SPACEBAR\n"
     ]
    }
   ],
   "source": [
    "Q=\"Aging spacebar\"\n",
    "print(Q.upper())"
   ]
  },
  {
   "cell_type": "code",
   "execution_count": null,
   "metadata": {},
   "outputs": [
    {
     "name": "stdout",
     "output_type": "stream",
     "text": [
      "True\n"
     ]
    }
   ],
   "source": [
    "Y=\"AGING SPACEBAR\"\n",
    "print(Y.isupper())"
   ]
  },
  {
   "cell_type": "code",
   "execution_count": null,
   "metadata": {},
   "outputs": [
    {
     "name": "stdout",
     "output_type": "stream",
     "text": [
      "True\n"
     ]
    }
   ],
   "source": [
    "O=\"AGING SPACEBAR\"\n",
    "print(O.startswith(\"AG\"))"
   ]
  },
  {
   "cell_type": "code",
   "execution_count": null,
   "metadata": {},
   "outputs": [
    {
     "name": "stdout",
     "output_type": "stream",
     "text": [
      "True\n"
     ]
    }
   ],
   "source": [
    "O=\"AGING SPACEBAR\"\n",
    "print(O.startswith(\"AGING SPA\"))"
   ]
  },
  {
   "cell_type": "code",
   "execution_count": null,
   "metadata": {},
   "outputs": [
    {
     "name": "stdout",
     "output_type": "stream",
     "text": [
      "vijay thailapati is mine crush\n"
     ]
    }
   ],
   "source": [
    "S= \"VIJAY THAILAPATI IS MINE CRUSH\"\n",
    "print(S.swapcase())"
   ]
  },
  {
   "cell_type": "code",
   "execution_count": null,
   "metadata": {},
   "outputs": [
    {
     "name": "stdout",
     "output_type": "stream",
     "text": [
      "vijay thailapati is mine crush\n"
     ]
    }
   ],
   "source": [
    "S= \"VIJAY THAILAPATI IS MINE CRUSH\"\n",
    "print(S.lower())"
   ]
  },
  {
   "cell_type": "code",
   "execution_count": null,
   "metadata": {},
   "outputs": [
    {
     "name": "stdout",
     "output_type": "stream",
     "text": [
      "VIJAY THAILAPATI IS MINE CRUSH\n"
     ]
    }
   ],
   "source": [
    "A=\"vijay thailapati is mine crush\"\n",
    "print(A.swapcase())"
   ]
  },
  {
   "cell_type": "code",
   "execution_count": null,
   "metadata": {},
   "outputs": [
    {
     "name": "stdout",
     "output_type": "stream",
     "text": [
      "vijay thailapati IS MINE CRUSH\n"
     ]
    }
   ],
   "source": [
    "A=\"VIJAY THAILAPATI is mine crush\"\n",
    "print(A.swapcase())"
   ]
  },
  {
   "cell_type": "code",
   "execution_count": null,
   "metadata": {},
   "outputs": [
    {
     "name": "stdout",
     "output_type": "stream",
     "text": [
      "Vijay Thailapati Is Mine Crush\n"
     ]
    }
   ],
   "source": [
    "W= \"VIJAY THAILAPATI is mine crush\"\n",
    "print(W.title())"
   ]
  },
  {
   "cell_type": "code",
   "execution_count": null,
   "metadata": {},
   "outputs": [
    {
     "name": "stdout",
     "output_type": "stream",
     "text": [
      "Your age is: 3\n",
      "You can not drive\n"
     ]
    }
   ],
   "source": [
    "a = int(input (\"Enter Your Age\"))\n",
    "print(\"Your age is:\" , a)\n",
    "if a>18:\n",
    "    print(\"you can drive\")\n",
    "else :\n",
    "    print(\"You can not drive\")\n",
    "   "
   ]
  },
  {
   "cell_type": "code",
   "execution_count": null,
   "metadata": {},
   "outputs": [
    {
     "name": "stdout",
     "output_type": "stream",
     "text": [
      "Your age is: 18\n",
      "False\n",
      "False\n",
      "True\n",
      "True\n",
      "True\n",
      "False\n"
     ]
    }
   ],
   "source": [
    "# conditional operators\n",
    "# <,>, >=, <=,==,!=\n",
    "a = int(input (\"Enter Your Age\"))\n",
    "print(\"Your age is:\" , a)\n",
    "print(a>18)\n",
    "print(a<18)\n",
    "print(a>=18)\n",
    "print(a<=18)\n",
    "print(a==18)\n",
    "print(a!=18)"
   ]
  },
  {
   "cell_type": "code",
   "execution_count": null,
   "metadata": {},
   "outputs": [
    {
     "name": "stdout",
     "output_type": "stream",
     "text": [
      "Your age is: 19\n",
      "True\n",
      "False\n",
      "True\n",
      "False\n",
      "False\n",
      "True\n"
     ]
    }
   ],
   "source": [
    "a = int(input (\"Enter Your Age\"))\n",
    "print(\"Your age is:\" , a)\n",
    "print(a>18)\n",
    "print(a<18)\n",
    "print(a>=18)\n",
    "print(a<=18)\n",
    "print(a==18)\n",
    "print(a!=18)"
   ]
  },
  {
   "cell_type": "code",
   "execution_count": null,
   "metadata": {},
   "outputs": [
    {
     "name": "stdout",
     "output_type": "stream",
     "text": [
      "Alexa,add 1 kg Apples to the cart. \n"
     ]
    }
   ],
   "source": [
    "ApplePrice =200\n",
    "Budght = 200\n",
    "if (ApplePrice <= Budght):\n",
    "    print(\"Alexa,add 1 kg Apples to the cart. \")\n",
    "else:\n",
    "    print(\"Alexa, do not add apples in the cart\")\n"
   ]
  },
  {
   "cell_type": "code",
   "execution_count": null,
   "metadata": {},
   "outputs": [
    {
     "name": "stdout",
     "output_type": "stream",
     "text": [
      "Alexa,add 1 kg Apples to the cart. \n"
     ]
    }
   ],
   "source": [
    "ApplePrice =10\n",
    "Budght = 200\n",
    "if (Budght-ApplePrice > 50 ):\n",
    "    print(\"Alexa,add 1 kg Apples to the cart. \")\n",
    "elif (Budght-ApplePrice > 70 ):\n",
    "    print(\"Alexa, It's okay you can buy . \")\n",
    "else:\n",
    "    print(\"Alexa, do not add apples in the cart\")\n",
    "  "
   ]
  },
  {
   "cell_type": "code",
   "execution_count": null,
   "metadata": {},
   "outputs": [
    {
     "name": "stdout",
     "output_type": "stream",
     "text": [
      "No. is zero.\n"
     ]
    }
   ],
   "source": [
    "num = int(input(\"Enter the value of num:\"))\n",
    "if (num <0 ):\n",
    "    print(\"No. is negative\")\n",
    "elif (num == 0):\n",
    "    print(\"No. is zero.\")\n",
    "    \n",
    "else:\n",
    "    print(\"No. is positive\")"
   ]
  },
  {
   "cell_type": "code",
   "execution_count": null,
   "metadata": {},
   "outputs": [
    {
     "name": "stdout",
     "output_type": "stream",
     "text": [
      "No. is zero.\n"
     ]
    }
   ],
   "source": [
    "num = int(input(\"Enter the value of num:\"))\n",
    "if (num <0 ):\n",
    "    print(\"No. is negative\")\n",
    "elif (num == 0):\n",
    "    print(\"No. is zero.\")\n",
    "elif (num == 999):\n",
    "    print(\"No. is zero.\")\n",
    "else:\n",
    "    print(\"No. is positive\")"
   ]
  },
  {
   "cell_type": "code",
   "execution_count": null,
   "metadata": {},
   "outputs": [
    {
     "name": "stdout",
     "output_type": "stream",
     "text": [
      "No. is between 11-20\n"
     ]
    }
   ],
   "source": [
    "num = 18\n",
    "if (num <  0):\n",
    "    print(\"Number is negative\")\n",
    "elif (num > 0):\n",
    "    if (num <= 10):\n",
    "        print(\"No. is between 1-10\")\n",
    "    elif (num > 10 and num <= 20):\n",
    "        print(\"No. is between 11-20\")\n",
    "    else: print(\"No. is greater than 20\")\n",
    "else:\n",
    "    print(\"no. is zero\")"
   ]
  },
  {
   "cell_type": "code",
   "execution_count": null,
   "metadata": {},
   "outputs": [],
   "source": [
    "#say good morning"
   ]
  },
  {
   "cell_type": "code",
   "execution_count": null,
   "metadata": {},
   "outputs": [
    {
     "name": "stdout",
     "output_type": "stream",
     "text": [
      "18 is not 90\n"
     ]
    }
   ],
   "source": [
    "x = int(input(\"Enter the value of num:\"))\n",
    "# x is the variable to match\n",
    "match x:\n",
    "    # if x is 0\n",
    "    case 0:\n",
    "        print(\"No. is Zero\")\n",
    "    # case with if-condition\n",
    "    case 4:\n",
    "        print(\"No. is 4\")\n",
    "    case _ if x!=90:\n",
    "        print(x, \"is not 90\")\n",
    "    case _ if x!=80:\n",
    "        print(x, \"is not 80\")\n",
    "    case _:\n",
    "        print(x)    \n"
   ]
  },
  {
   "cell_type": "markdown",
   "metadata": {},
   "source": [
    "# Video 17 : LOOP"
   ]
  },
  {
   "cell_type": "code",
   "execution_count": null,
   "metadata": {},
   "outputs": [
    {
     "name": "stdout",
     "output_type": "stream",
     "text": [
      "1\n",
      "2\n",
      "3\n",
      "4\n",
      "5\n",
      "6\n"
     ]
    }
   ],
   "source": [
    "print(1)\n",
    "print(2)\n",
    "print(3)\n",
    "print(4)\n",
    "print(5)\n",
    "print(6)\n"
   ]
  },
  {
   "cell_type": "code",
   "execution_count": null,
   "metadata": {},
   "outputs": [
    {
     "name": "stdout",
     "output_type": "stream",
     "text": [
      "m\n",
      "a\n",
      "y\n",
      "a\n",
      "n\n",
      "k\n"
     ]
    }
   ],
   "source": [
    "#LOOP\n",
    "# 1.for 2.while \n",
    "name = \"mayank\"\n",
    "for i in name:\n",
    "    print(i) "
   ]
  },
  {
   "cell_type": "code",
   "execution_count": null,
   "metadata": {},
   "outputs": [
    {
     "name": "stdout",
     "output_type": "stream",
     "text": [
      "m\n",
      "a\n",
      "y\n",
      "This is something special!\n",
      "a\n",
      "n\n",
      "k\n"
     ]
    }
   ],
   "source": [
    "name = \"mayank\"\n",
    "for i in name:\n",
    "    print(i) \n",
    "    if(i ==\"y\"):\n",
    "        print(\"This is something special!\")"
   ]
  },
  {
   "cell_type": "code",
   "execution_count": null,
   "metadata": {},
   "outputs": [
    {
     "name": "stdout",
     "output_type": "stream",
     "text": [
      "RED\n",
      "GREEN\n",
      "BLUE\n",
      "YELLOW\n"
     ]
    }
   ],
   "source": [
    "colors = [\"RED\",\"GREEN\",\"BLUE\",\"YELLOW\"]\n",
    "for x in colors:\n",
    "    print(x)"
   ]
  },
  {
   "cell_type": "code",
   "execution_count": null,
   "metadata": {},
   "outputs": [
    {
     "name": "stdout",
     "output_type": "stream",
     "text": [
      "RED\n",
      "R\n",
      "E\n",
      "D\n",
      "GREEN\n",
      "G\n",
      "R\n",
      "E\n",
      "E\n",
      "N\n",
      "BLUE\n",
      "B\n",
      "L\n",
      "U\n",
      "E\n",
      "YELLOW\n",
      "Y\n",
      "E\n",
      "L\n",
      "L\n",
      "O\n",
      "W\n"
     ]
    }
   ],
   "source": [
    "#Doubt\n",
    "colors = [\"RED\",\"GREEN\",\"BLUE\",\"YELLOW\"]\n",
    "for x in colors:\n",
    "    print(x)\n",
    "    for i in x:\n",
    "        print(i)"
   ]
  },
  {
   "cell_type": "code",
   "execution_count": null,
   "metadata": {},
   "outputs": [
    {
     "name": "stdout",
     "output_type": "stream",
     "text": [
      "0\n",
      "1\n",
      "2\n",
      "3\n",
      "4\n"
     ]
    }
   ],
   "source": [
    "#0 se 4 tak\n",
    "for k in range(5):\n",
    "    print(k)"
   ]
  },
  {
   "cell_type": "code",
   "execution_count": null,
   "metadata": {},
   "outputs": [
    {
     "name": "stdout",
     "output_type": "stream",
     "text": [
      "1\n",
      "2\n",
      "3\n",
      "4\n",
      "5\n"
     ]
    }
   ],
   "source": [
    "for h in range(5):\n",
    "    print(h+1)"
   ]
  },
  {
   "cell_type": "code",
   "execution_count": null,
   "metadata": {},
   "outputs": [
    {
     "name": "stdout",
     "output_type": "stream",
     "text": [
      "3\n",
      "4\n",
      "5\n",
      "6\n",
      "7\n",
      "8\n",
      "9\n",
      "10\n",
      "11\n",
      "12\n",
      "13\n",
      "14\n",
      "15\n",
      "16\n",
      "17\n",
      "18\n",
      "19\n",
      "20\n",
      "21\n"
     ]
    }
   ],
   "source": [
    "#range\n",
    "for j in range(1,20):\n",
    "    print(j+2)"
   ]
  },
  {
   "cell_type": "code",
   "execution_count": null,
   "metadata": {},
   "outputs": [
    {
     "name": "stdout",
     "output_type": "stream",
     "text": [
      "1\n",
      "4\n",
      "7\n",
      "10\n"
     ]
    }
   ],
   "source": [
    "for k in range(1,12,3):\n",
    "    print(k)"
   ]
  },
  {
   "cell_type": "code",
   "execution_count": null,
   "metadata": {},
   "outputs": [
    {
     "name": "stdout",
     "output_type": "stream",
     "text": [
      "0\n",
      "1\n",
      "2\n"
     ]
    }
   ],
   "source": [
    "for i in range(3):\n",
    "    print(i)"
   ]
  },
  {
   "cell_type": "code",
   "execution_count": null,
   "metadata": {},
   "outputs": [
    {
     "name": "stdout",
     "output_type": "stream",
     "text": [
      "0\n",
      "1\n",
      "2\n",
      "Done with the loop\n"
     ]
    }
   ],
   "source": [
    "# while\n",
    "i=0\n",
    "while(i<3):\n",
    "    print(i)\n",
    "    i = i+1\n",
    "print(\"Done with the loop\")"
   ]
  },
  {
   "cell_type": "code",
   "execution_count": null,
   "metadata": {},
   "outputs": [
    {
     "name": "stdout",
     "output_type": "stream",
     "text": [
      "0\n",
      "1\n",
      "2\n",
      "3\n",
      "Done with the loop\n"
     ]
    }
   ],
   "source": [
    "i=0\n",
    "while(i<=3):\n",
    "    print(i)\n",
    "    i = i+1\n",
    "print(\"Done with the loop\")"
   ]
  },
  {
   "cell_type": "code",
   "execution_count": null,
   "metadata": {},
   "outputs": [
    {
     "name": "stdout",
     "output_type": "stream",
     "text": [
      "24\n",
      "34\n",
      "35\n",
      "36\n",
      "34\n",
      "34\n",
      "34\n",
      "36\n",
      "38\n",
      "39\n",
      "Done with the loop\n"
     ]
    }
   ],
   "source": [
    "i=int(input(\"enter the no. :\"))\n",
    "while(i<=38):\n",
    "    i=int(input(\"enter the no. :\"))\n",
    "    print(i)\n",
    "  \n",
    "print(\"Done with the loop\")"
   ]
  },
  {
   "cell_type": "code",
   "execution_count": null,
   "metadata": {},
   "outputs": [
    {
     "name": "stdout",
     "output_type": "stream",
     "text": [
      "5\n",
      "4\n",
      "3\n",
      "2\n",
      "1\n"
     ]
    }
   ],
   "source": [
    "#dicrimenting while loop\n",
    "count = 5\n",
    "while (count > 0):\n",
    "    print(count)\n",
    "    count = count - 1\n",
    "    "
   ]
  },
  {
   "cell_type": "code",
   "execution_count": null,
   "metadata": {},
   "outputs": [
    {
     "name": "stdout",
     "output_type": "stream",
     "text": [
      "5\n",
      "4\n",
      "3\n",
      "2\n",
      "1\n",
      "I am inside else\n"
     ]
    }
   ],
   "source": [
    "count = 5\n",
    "while (count > 0):\n",
    "    print(count)\n",
    "    count = count - 1\n",
    "else:\n",
    "    print(\"I am inside else\")"
   ]
  },
  {
   "cell_type": "code",
   "execution_count": null,
   "metadata": {},
   "outputs": [
    {
     "name": "stdout",
     "output_type": "stream",
     "text": [
      "I am inside else\n"
     ]
    }
   ],
   "source": [
    "count = -5\n",
    "while (count > 0):\n",
    "    print(count)\n",
    "    count = count - 1\n",
    "else:\n",
    "    print(\"I am inside else\")"
   ]
  },
  {
   "cell_type": "markdown",
   "metadata": {},
   "source": [
    "# Day : 19"
   ]
  },
  {
   "cell_type": "code",
   "execution_count": null,
   "metadata": {},
   "outputs": [
    {
     "name": "stdout",
     "output_type": "stream",
     "text": [
      "5 X  0 = 0\n",
      "5 X  1 = 5\n",
      "5 X  2 = 10\n",
      "5 X  3 = 15\n",
      "5 X  4 = 20\n",
      "5 X  5 = 25\n",
      "5 X  6 = 30\n",
      "5 X  7 = 35\n",
      "5 X  8 = 40\n",
      "5 X  9 = 45\n",
      "5 X  10 = 50\n",
      "5 X  11 = 55\n"
     ]
    }
   ],
   "source": [
    "for i in range(12):\n",
    "    print(\"5 X \",i ,\"=\",5*i)"
   ]
  },
  {
   "cell_type": "code",
   "execution_count": null,
   "metadata": {},
   "outputs": [
    {
     "name": "stdout",
     "output_type": "stream",
     "text": [
      "5 X  1 = 5\n",
      "5 X  2 = 10\n",
      "5 X  3 = 15\n",
      "5 X  4 = 20\n",
      "5 X  5 = 25\n",
      "5 X  6 = 30\n",
      "5 X  7 = 35\n",
      "5 X  8 = 40\n",
      "5 X  9 = 45\n",
      "5 X  10 = 50\n",
      "5 X  11 = 55\n",
      "5 X  12 = 60\n"
     ]
    }
   ],
   "source": [
    "for i in range(12):\n",
    "    print(\"5 X \",i+1 ,\"=\",5 * (i+1))"
   ]
  },
  {
   "cell_type": "code",
   "execution_count": null,
   "metadata": {},
   "outputs": [
    {
     "name": "stdout",
     "output_type": "stream",
     "text": [
      "5 X  1 = 5\n",
      "5 X  2 = 10\n",
      "5 X  3 = 15\n",
      "5 X  4 = 20\n",
      "5 X  5 = 25\n",
      "5 X  6 = 30\n",
      "5 X  7 = 35\n",
      "5 X  8 = 40\n",
      "5 X  9 = 45\n",
      "5 X  10 = 50\n",
      "5 X  11 = 55\n",
      "Loop ko chodkar nikal gaya\n"
     ]
    }
   ],
   "source": [
    "# break means loop ko chhodkar nikal jao.\n",
    "# continew means itretion ko chhodkar nikal jao.\n",
    "for i in range(12):\n",
    "    print(\"5 X \",i+1 ,\"=\",5 * (i+1))\n",
    "    if(i == 10):\n",
    "        break\n",
    "print(\"Loop ko chodkar nikal gaya\")"
   ]
  },
  {
   "cell_type": "code",
   "execution_count": null,
   "metadata": {},
   "outputs": [
    {
     "name": "stdout",
     "output_type": "stream",
     "text": [
      "5 X  1 = 5\n",
      "5 X  2 = 10\n",
      "5 X  3 = 15\n",
      "5 X  4 = 20\n",
      "5 X  5 = 25\n",
      "5 X  6 = 30\n",
      "5 X  7 = 35\n",
      "5 X  8 = 40\n",
      "5 X  9 = 45\n",
      "5 X  10 = 50\n",
      "Loop ko chodkar nikal gaya\n"
     ]
    }
   ],
   "source": [
    "for i in range(12):\n",
    "    if(i == 10):\n",
    "        break\n",
    "    print(\"5 X \",i+1 ,\"=\",5 * (i+1))\n",
    "print(\"Loop ko chodkar nikal gaya\")"
   ]
  },
  {
   "cell_type": "code",
   "execution_count": null,
   "metadata": {},
   "outputs": [
    {
     "name": "stdout",
     "output_type": "stream",
     "text": [
      "5 X  0 = 0\n",
      "5 X  1 = 5\n",
      "5 X  2 = 10\n",
      "5 X  3 = 15\n",
      "5 X  4 = 20\n",
      "5 X  5 = 25\n",
      "5 X  6 = 30\n",
      "5 X  7 = 35\n",
      "5 X  8 = 40\n",
      "5 X  9 = 45\n",
      "skip the iteration\n",
      "5 X  11 = 55\n"
     ]
    }
   ],
   "source": [
    "for i in range(12):\n",
    "    if(i == 10):\n",
    "        print(\"skip the iteration\")\n",
    "        continue\n",
    "    print(\"5 X \",i ,\"=\",5 * (i))"
   ]
  },
  {
   "cell_type": "code",
   "execution_count": null,
   "metadata": {},
   "outputs": [
    {
     "name": "stdout",
     "output_type": "stream",
     "text": [
      "0\n",
      "1\n",
      "2\n",
      "3\n",
      "4\n",
      "5\n",
      "6\n",
      "7\n",
      "8\n",
      "9\n"
     ]
    }
   ],
   "source": [
    "i=0\n",
    "while True:\n",
    "    print(i)\n",
    "    i=i+1\n",
    "    if i%10 ==0:\n",
    "        break"
   ]
  },
  {
   "cell_type": "code",
   "execution_count": null,
   "metadata": {},
   "outputs": [],
   "source": [
    "# for f in [2,3,4,5,6,7,8,0]:\n",
    "#     if (1%2 != 0):\n",
    "#         continue\n",
    "#     print(f)"
   ]
  },
  {
   "cell_type": "markdown",
   "metadata": {},
   "source": [
    "# Day : 20"
   ]
  },
  {
   "cell_type": "code",
   "execution_count": 1,
   "metadata": {},
   "outputs": [
    {
     "name": "stdout",
     "output_type": "stream",
     "text": [
      "4.235294117647059\n"
     ]
    }
   ],
   "source": [
    "a = 9\n",
    "b = 8\n",
    "gmean = (a*b)/(a+b)\n",
    "print(gmean)"
   ]
  },
  {
   "cell_type": "code",
   "execution_count": 2,
   "metadata": {},
   "outputs": [
    {
     "name": "stdout",
     "output_type": "stream",
     "text": [
      "3.7333333333333334\n"
     ]
    }
   ],
   "source": [
    "a = 8\n",
    "b = 7\n",
    "gmean = (a*b)/(a+b)\n",
    "print(gmean)"
   ]
  },
  {
   "cell_type": "code",
   "execution_count": 10,
   "metadata": {},
   "outputs": [
    {
     "name": "stdout",
     "output_type": "stream",
     "text": [
      "4.235294117647059\n"
     ]
    }
   ],
   "source": [
    "# gmean ke code ko ek function me dal diya. means identity type kuchh bana liya\n",
    "def calculateGmean(a,b):\n",
    "    mean = (a*b)/(a+b)\n",
    "    print(mean)\n",
    "\n",
    "a = 9\n",
    "b = 8\n",
    "calculateGmean(a,b)"
   ]
  },
  {
   "cell_type": "code",
   "execution_count": 9,
   "metadata": {},
   "outputs": [
    {
     "name": "stdout",
     "output_type": "stream",
     "text": [
      "3.7333333333333334\n"
     ]
    }
   ],
   "source": [
    "c=8\n",
    "d=7\n",
    "calculateGmean(c,d)"
   ]
  },
  {
   "cell_type": "code",
   "execution_count": 22,
   "metadata": {},
   "outputs": [
    {
     "name": "stdout",
     "output_type": "stream",
     "text": [
      "First is greater\n",
      "4.235294117647059\n",
      "second is greater or equal\n",
      "6.363636363636363\n",
      "second is greater or equal\n",
      "5.0\n"
     ]
    }
   ],
   "source": [
    "a=9\n",
    "b=8\n",
    "if a>b:\n",
    "    print(\"First is greater\")\n",
    "else:\n",
    "    print(\"second is greater or equal\")\n",
    "\n",
    "calculateGmean(a,b)\n",
    "\n",
    "c=7\n",
    "d=70\n",
    "if c>d:\n",
    "    print(\"First is greater\")\n",
    "else:\n",
    "    print(\"second is greater or equal\")\n",
    "\n",
    "calculateGmean(c,d)\n",
    "\n",
    "e=10\n",
    "f=10\n",
    "if e>f:\n",
    "    print(\"First is greater\")\n",
    "else:\n",
    "    print(\"second is greater or equal\")\n",
    "\n",
    "calculateGmean(e,f)"
   ]
  },
  {
   "cell_type": "code",
   "execution_count": 27,
   "metadata": {},
   "outputs": [
    {
     "name": "stdout",
     "output_type": "stream",
     "text": [
      "First is greater\n",
      "4.235294117647059\n",
      "second is greater or equal\n",
      "7.17948717948718\n",
      "second is greater or equal\n",
      "5.0\n"
     ]
    }
   ],
   "source": [
    "def isGreater(a,b):\n",
    "    if a>b:\n",
    "        print(\"First is greater\")\n",
    "    else:\n",
    "        print(\"second is greater or equal\")\n",
    "\n",
    "\n",
    "a = 9\n",
    "b = 8\n",
    "isGreater(a,b)\n",
    "calculateGmean(a,b)\n",
    "\n",
    "c=8\n",
    "d=70\n",
    "isGreater(c,d)\n",
    "calculateGmean(c,d)\n",
    "\n",
    "e=10\n",
    "f=10\n",
    "isGreater(e,f)\n",
    "calculateGmean(e,f)"
   ]
  },
  {
   "cell_type": "code",
   "execution_count": 31,
   "metadata": {},
   "outputs": [],
   "source": [
    "# hmne socha ki isa bhi kuchh ho sakta, mai bad me aakar ise poora karuga to pass laga ke chhod do.\n",
    "def isLesser(a,b):\n",
    "    pass"
   ]
  },
  {
   "cell_type": "code",
   "execution_count": null,
   "metadata": {},
   "outputs": [],
   "source": [
    "# 2 type of function.\n",
    "# 1. build in function=def se define nahi karna padta\n",
    "# 2. User defined function=def se define user khud banata hai\n",
    "\n"
   ]
  },
  {
   "cell_type": "markdown",
   "metadata": {},
   "source": [
    "# Day: 22"
   ]
  },
  {
   "cell_type": "code",
   "execution_count": 14,
   "metadata": {},
   "outputs": [
    {
     "name": "stdout",
     "output_type": "stream",
     "text": [
      "[3, 5, 6, 'harry', True]\n",
      "<class 'list'>\n",
      "3\n",
      "5\n",
      "6\n",
      "harry\n",
      "True\n",
      "6\n",
      "6\n",
      "6\n",
      "6\n"
     ]
    }
   ],
   "source": [
    "l = [3,5,6,\"harry\", True]\n",
    "print(l)\n",
    "print(type(l))\n",
    "print(l[0])\n",
    "print(l[1])\n",
    "print(l[2])\n",
    "print(l[3])\n",
    "print(l[4])\n",
    "print(l[-3]) # negative index\n",
    "print(l[len(l)-3]) # positive index\n",
    "print(l[5-3])\n",
    "print(l[2])"
   ]
  },
  {
   "cell_type": "code",
   "execution_count": null,
   "metadata": {},
   "outputs": [],
   "source": [
    "# tuple change nahi hota & list is chanded\n",
    " "
   ]
  },
  {
   "cell_type": "code",
   "execution_count": 19,
   "metadata": {},
   "outputs": [
    {
     "name": "stdout",
     "output_type": "stream",
     "text": [
      "yes\n"
     ]
    }
   ],
   "source": [
    "b=[5,6,8,0,7,9]\n",
    "if 7 in b:\n",
    "    print(\"yes\")\n",
    "else:\n",
    "    print(\"No\")"
   ]
  },
  {
   "cell_type": "code",
   "execution_count": 25,
   "metadata": {},
   "outputs": [
    {
     "name": "stdout",
     "output_type": "stream",
     "text": [
      "yes\n"
     ]
    }
   ],
   "source": [
    "b=[5,6,8,0,7,9,\"harry\"]\n",
    "if \"harry\" in b:\n",
    "    print(\"yes\")\n",
    "else:\n",
    "    print(\"No\")"
   ]
  },
  {
   "cell_type": "code",
   "execution_count": 23,
   "metadata": {},
   "outputs": [
    {
     "name": "stdout",
     "output_type": "stream",
     "text": [
      "No\n"
     ]
    }
   ],
   "source": [
    "\n",
    "b=[5,6,8,0,7,9,\"harry\"]\n",
    "if \"6\" in b:\n",
    "    print(\"yes\")\n",
    "else:\n",
    "    print(\"No\")"
   ]
  },
  {
   "cell_type": "code",
   "execution_count": 29,
   "metadata": {},
   "outputs": [
    {
     "name": "stdout",
     "output_type": "stream",
     "text": [
      "yes\n"
     ]
    }
   ],
   "source": [
    "if \"maya\" in \"mayank\":\n",
    "    print(\"yes\")\n",
    "else:\n",
    "    print(\"no\")"
   ]
  },
  {
   "cell_type": "code",
   "execution_count": 38,
   "metadata": {},
   "outputs": [
    {
     "name": "stdout",
     "output_type": "stream",
     "text": [
      "[6, 7, 8, 9, 0, 4, 2, 1]\n",
      "[6, 7, 8, 9, 0, 4, 2, 1]\n",
      "[7, 8, 9, 0, 4, 2, 1]\n",
      "[8, 9, 0, 4, 2, 1]\n",
      "[7, 8, 9, 0, 4, 2]\n",
      "[7, 8, 9, 0, 4, 2]\n",
      "[7, 9, 4]\n",
      "[7, 0, 1]\n"
     ]
    }
   ],
   "source": [
    "a=[6,7,8,9,0,4,2,1]\n",
    "print(a)\n",
    "print(a[:])\n",
    "print(a[1:])\n",
    "print(a[1:len()])\n",
    "print(a[2:])\n",
    "print(a[1:-1])\n",
    "print(a[1:7])\n",
    "print(a[1:7:2])\n",
    "print(a[1:8:3])\n",
    "p"
   ]
  },
  {
   "cell_type": "code",
   "execution_count": 1,
   "metadata": {},
   "outputs": [
    {
     "name": "stdout",
     "output_type": "stream",
     "text": [
      "[0, 1, 2, 3]\n"
     ]
    }
   ],
   "source": [
    "lst=[i for i in range(4)]\n",
    "print(lst)"
   ]
  },
  {
   "cell_type": "code",
   "execution_count": 2,
   "metadata": {},
   "outputs": [
    {
     "name": "stdout",
     "output_type": "stream",
     "text": [
      "[0, 1, 4, 9]\n"
     ]
    }
   ],
   "source": [
    "lst=[i*i for i in range(4)]\n",
    "print(lst)"
   ]
  },
  {
   "cell_type": "code",
   "execution_count": 3,
   "metadata": {},
   "outputs": [
    {
     "name": "stdout",
     "output_type": "stream",
     "text": [
      "[0, 4, 16, 36, 64]\n"
     ]
    }
   ],
   "source": [
    "lst=[i*i for i in range(10) if i%2==0]\n",
    "print(lst)"
   ]
  },
  {
   "cell_type": "markdown",
   "metadata": {},
   "source": [
    "# Day: 23 (List Methods)"
   ]
  },
  {
   "cell_type": "code",
   "execution_count": 6,
   "metadata": {},
   "outputs": [
    {
     "name": "stdout",
     "output_type": "stream",
     "text": [
      "[1, 2, 3, 4, 6, 9]\n",
      "[1, 2, 3, 4, 6, 9, 7]\n"
     ]
    }
   ],
   "source": [
    "l=[1,2,3,4,6,9]\n",
    "print(l)\n",
    "l.append(7)\n",
    "print(l)"
   ]
  },
  {
   "cell_type": "code",
   "execution_count": 7,
   "metadata": {},
   "outputs": [
    {
     "name": "stdout",
     "output_type": "stream",
     "text": [
      "[8, 7, 6, 5, 4, 2, 7]\n",
      "[2, 4, 5, 6, 7, 7, 8]\n"
     ]
    }
   ],
   "source": [
    "m=[8,7,6,5,4,2,7]\n",
    "print(m)\n",
    "m.sort()\n",
    "print(m)"
   ]
  },
  {
   "cell_type": "code",
   "execution_count": 8,
   "metadata": {},
   "outputs": [
    {
     "name": "stdout",
     "output_type": "stream",
     "text": [
      "[8, 7, 6, 5, 4, 2, 7]\n",
      "[8, 7, 7, 6, 5, 4, 2]\n"
     ]
    }
   ],
   "source": [
    "m=[8,7,6,5,4,2,7]\n",
    "print(m)\n",
    "m.sort(reverse=True)\n",
    "print(m)"
   ]
  },
  {
   "cell_type": "code",
   "execution_count": 11,
   "metadata": {},
   "outputs": [
    {
     "name": "stdout",
     "output_type": "stream",
     "text": [
      "[2, 4, 5, 6, 7, 7, 8]\n"
     ]
    }
   ],
   "source": [
    "m.reverse()\n",
    "print(m)\n"
   ]
  },
  {
   "cell_type": "code",
   "execution_count": 15,
   "metadata": {},
   "outputs": [
    {
     "name": "stdout",
     "output_type": "stream",
     "text": [
      "[90, 1, 67, 1, 3, 34, 76, 56, 9]\n"
     ]
    }
   ],
   "source": [
    "l=[9,56,76,34,3,1,67,1,90]\n",
    "l.reverse()\n",
    "print(l)"
   ]
  },
  {
   "cell_type": "code",
   "execution_count": 16,
   "metadata": {},
   "outputs": [
    {
     "name": "stdout",
     "output_type": "stream",
     "text": [
      "1\n"
     ]
    }
   ],
   "source": [
    "\n",
    "print(l.index(1))"
   ]
  },
  {
   "cell_type": "code",
   "execution_count": 17,
   "metadata": {},
   "outputs": [
    {
     "name": "stdout",
     "output_type": "stream",
     "text": [
      "2\n"
     ]
    }
   ],
   "source": [
    "print(l.count(1))"
   ]
  },
  {
   "cell_type": "code",
   "execution_count": 19,
   "metadata": {},
   "outputs": [
    {
     "name": "stdout",
     "output_type": "stream",
     "text": [
      "10\n",
      "11\n"
     ]
    }
   ],
   "source": [
    "p=[1,1,1,1,1,1,1,1,1,1,2,2,2,2,2,2,2,2,2,2,2]\n",
    "print(p.count(1))\n",
    "print(p.count(2))"
   ]
  },
  {
   "cell_type": "code",
   "execution_count": 23,
   "metadata": {},
   "outputs": [
    {
     "name": "stdout",
     "output_type": "stream",
     "text": [
      "[11, 45, 1, 2, 4, 6, 1, 1]\n",
      "[0, 45, 1, 2, 4, 6, 1, 1]\n",
      "[0, 45, 1, 2, 4, 6, 1, 1]\n"
     ]
    }
   ],
   "source": [
    "l=[11,45,1,2,4,6,1,1]\n",
    "print(l)\n",
    "m=l\n",
    "m[0]=0\n",
    "print(l)\n",
    "print(m) # l bhi change"
   ]
  },
  {
   "cell_type": "code",
   "execution_count": 24,
   "metadata": {},
   "outputs": [
    {
     "name": "stdout",
     "output_type": "stream",
     "text": [
      "[11, 45, 1, 2, 4, 6, 1, 1]\n",
      "[11, 45, 1, 2, 4, 6, 1, 1]\n",
      "[0, 45, 1, 2, 4, 6, 1, 1]\n"
     ]
    }
   ],
   "source": [
    "l=[11,45,1,2,4,6,1,1]\n",
    "print(l)\n",
    "m=l.copy()\n",
    "m[0]=0\n",
    "print(l)\n",
    "print(m)"
   ]
  },
  {
   "cell_type": "code",
   "execution_count": 25,
   "metadata": {},
   "outputs": [
    {
     "name": "stdout",
     "output_type": "stream",
     "text": [
      "[11, 899, 45, 1, 2, 4, 6, 1, 1]\n"
     ]
    }
   ],
   "source": [
    "l.insert(1,899)\n",
    "print(l)"
   ]
  },
  {
   "cell_type": "code",
   "execution_count": 28,
   "metadata": {},
   "outputs": [
    {
     "name": "stdout",
     "output_type": "stream",
     "text": [
      "[11, 899, 45, 1, 2, 4, 6, 1, 1, 900, 1000, 1100]\n"
     ]
    }
   ],
   "source": [
    "m=[900,1000,1100]\n",
    "l.extend(m)  # m ko kholo aur l ke and me dalo\n",
    "print(l)    # l changee"
   ]
  },
  {
   "cell_type": "code",
   "execution_count": 30,
   "metadata": {},
   "outputs": [
    {
     "name": "stdout",
     "output_type": "stream",
     "text": [
      "[44, 55, 66, 77, 88, 99, 33, 44, 5, 58, 1, 2, 3, 4, 5, 6, 7, 8, 9, 0]\n"
     ]
    }
   ],
   "source": [
    "L=[44,55,66,77,88,99,33,44,5,58]\n",
    "M=[1,2,3,4,5,6,7,8,9,0]\n",
    "k=L+M\n",
    "print(k)"
   ]
  },
  {
   "cell_type": "markdown",
   "metadata": {},
   "source": [
    " \n",
    " # Day:24 Tuple"
   ]
  },
  {
   "cell_type": "code",
   "execution_count": 1,
   "metadata": {},
   "outputs": [
    {
     "name": "stdout",
     "output_type": "stream",
     "text": [
      "<class 'tuple'> (1, 5, 6)\n"
     ]
    }
   ],
   "source": [
    "tup=(1,5,6)\n",
    "print(type(tup),tup)"
   ]
  },
  {
   "cell_type": "code",
   "execution_count": 2,
   "metadata": {},
   "outputs": [
    {
     "name": "stdout",
     "output_type": "stream",
     "text": [
      "<class 'tuple'> (1, 5)\n"
     ]
    }
   ],
   "source": [
    "tup=(1,5)\n",
    "print(type(tup),tup)"
   ]
  },
  {
   "cell_type": "code",
   "execution_count": 3,
   "metadata": {},
   "outputs": [
    {
     "name": "stdout",
     "output_type": "stream",
     "text": [
      "<class 'int'> 1\n"
     ]
    }
   ],
   "source": [
    "tup=(1)\n",
    "print(type(tup),tup)"
   ]
  },
  {
   "cell_type": "code",
   "execution_count": 4,
   "metadata": {},
   "outputs": [
    {
     "name": "stdout",
     "output_type": "stream",
     "text": [
      "<class 'tuple'> (1,)\n"
     ]
    }
   ],
   "source": [
    "tup=(1,)\n",
    "print(type(tup),tup)"
   ]
  },
  {
   "cell_type": "code",
   "execution_count": 5,
   "metadata": {},
   "outputs": [
    {
     "ename": "TypeError",
     "evalue": "'tuple' object does not support item assignment",
     "output_type": "error",
     "traceback": [
      "\u001b[1;31m---------------------------------------------------------------------------\u001b[0m",
      "\u001b[1;31mTypeError\u001b[0m                                 Traceback (most recent call last)",
      "\u001b[1;32mc:\\Users\\mayan\\OneDrive\\Desktop\\python\\hary hary.ipynb Cell 164\u001b[0m line \u001b[0;36m2\n\u001b[0;32m      <a href='vscode-notebook-cell:/c%3A/Users/mayan/OneDrive/Desktop/python/hary%20hary.ipynb#Y322sZmlsZQ%3D%3D?line=0'>1</a>\u001b[0m tup\u001b[39m=\u001b[39m(\u001b[39m1\u001b[39m,\u001b[39m5\u001b[39m,\u001b[39m6\u001b[39m)\n\u001b[1;32m----> <a href='vscode-notebook-cell:/c%3A/Users/mayan/OneDrive/Desktop/python/hary%20hary.ipynb#Y322sZmlsZQ%3D%3D?line=1'>2</a>\u001b[0m tup[\u001b[39m0\u001b[39;49m]\u001b[39m=\u001b[39m\u001b[39m90\u001b[39m\n",
      "\u001b[1;31mTypeError\u001b[0m: 'tuple' object does not support item assignment"
     ]
    }
   ],
   "source": [
    "tup=(1,5,6)\n",
    "tup[0]=90  # tuple change nahi"
   ]
  },
  {
   "cell_type": "code",
   "execution_count": 7,
   "metadata": {},
   "outputs": [
    {
     "name": "stdout",
     "output_type": "stream",
     "text": [
      "[90, 5, 6]\n"
     ]
    }
   ],
   "source": [
    "tup=[1,5,6]\n",
    "tup[0]=90\n",
    "print(tup) "
   ]
  },
  {
   "cell_type": "code",
   "execution_count": 11,
   "metadata": {},
   "outputs": [
    {
     "name": "stdout",
     "output_type": "stream",
     "text": [
      "<class 'tuple'> (1, 5, 6, 'green', 3, 4)\n"
     ]
    }
   ],
   "source": [
    "tup=(1,5,6,\"green\",3,4)\n",
    "print(type(tup),tup)"
   ]
  },
  {
   "cell_type": "code",
   "execution_count": 12,
   "metadata": {},
   "outputs": [
    {
     "name": "stdout",
     "output_type": "stream",
     "text": [
      "1\n",
      "5\n",
      "6\n",
      "green\n"
     ]
    },
    {
     "ename": "IndexError",
     "evalue": "tuple index out of range",
     "output_type": "error",
     "traceback": [
      "\u001b[1;31m---------------------------------------------------------------------------\u001b[0m",
      "\u001b[1;31mIndexError\u001b[0m                                Traceback (most recent call last)",
      "\u001b[1;32mc:\\Users\\mayan\\OneDrive\\Desktop\\python\\hary hary.ipynb Cell 167\u001b[0m line \u001b[0;36m6\n\u001b[0;32m      <a href='vscode-notebook-cell:/c%3A/Users/mayan/OneDrive/Desktop/python/hary%20hary.ipynb#Y325sZmlsZQ%3D%3D?line=2'>3</a>\u001b[0m \u001b[39mprint\u001b[39m(tup[\u001b[39m2\u001b[39m])\n\u001b[0;32m      <a href='vscode-notebook-cell:/c%3A/Users/mayan/OneDrive/Desktop/python/hary%20hary.ipynb#Y325sZmlsZQ%3D%3D?line=3'>4</a>\u001b[0m \u001b[39mprint\u001b[39m(tup[\u001b[39m3\u001b[39m])\n\u001b[1;32m----> <a href='vscode-notebook-cell:/c%3A/Users/mayan/OneDrive/Desktop/python/hary%20hary.ipynb#Y325sZmlsZQ%3D%3D?line=5'>6</a>\u001b[0m \u001b[39mprint\u001b[39m(tup[\u001b[39m34\u001b[39;49m])\n",
      "\u001b[1;31mIndexError\u001b[0m: tuple index out of range"
     ]
    }
   ],
   "source": [
    "print(tup[0])\n",
    "print(tup[1])\n",
    "print(tup[2])\n",
    "print(tup[3])\n",
    "\n",
    "print(tup[34])"
   ]
  },
  {
   "cell_type": "code",
   "execution_count": 16,
   "metadata": {},
   "outputs": [
    {
     "name": "stdout",
     "output_type": "stream",
     "text": [
      "4\n",
      "4\n"
     ]
    }
   ],
   "source": [
    "print(tup[-1])\n",
    "print(tup[len(tup)-1])"
   ]
  },
  {
   "cell_type": "code",
   "execution_count": 23,
   "metadata": {},
   "outputs": [
    {
     "name": "stdout",
     "output_type": "stream",
     "text": [
      "Yes,33 is present in this list\n"
     ]
    }
   ],
   "source": [
    "p=(1,2,3,4,5,6,7,8,22,33,44,55,66,77,88,99)\n",
    "if 33 in p:\n",
    "    print(\"Yes,33 is present in this list\")\n",
    "else:\n",
    "    print(\"No\")"
   ]
  },
  {
   "cell_type": "code",
   "execution_count": 25,
   "metadata": {},
   "outputs": [
    {
     "name": "stdout",
     "output_type": "stream",
     "text": [
      "(2, 3, 4)\n"
     ]
    }
   ],
   "source": [
    "#tuple ki slicing nahi hoti new tuple ban jata hai\n",
    "tup2=(1,2,3,4,5,6,7,8,9)\n",
    "tup3=tup2[1:4]\n",
    "print(tup3)"
   ]
  },
  {
   "cell_type": "markdown",
   "metadata": {},
   "source": [
    "# Day:25 "
   ]
  },
  {
   "cell_type": "markdown",
   "metadata": {},
   "source": [
    "tuple ko indirectly change kar sakte hai"
   ]
  },
  {
   "cell_type": "code",
   "execution_count": 1,
   "metadata": {},
   "outputs": [
    {
     "name": "stdout",
     "output_type": "stream",
     "text": [
      "('Spain', 'Italy', 'Finland', 'Germany', 'Russia')\n"
     ]
    }
   ],
   "source": [
    "countries=(\"Spain\",\"Italy\",\"India\",\"England\",\"Germany\")\n",
    "temp=list(countries)\n",
    "temp.append(\"Russia\")    #add item\n",
    "temp.pop(3)              #remove item\n",
    "temp[2]=\"Finland\"        #change item\n",
    "countries=tuple(temp)\n",
    "print(countries)        #new tuple milega!!!!!"
   ]
  },
  {
   "cell_type": "code",
   "execution_count": 3,
   "metadata": {},
   "outputs": [
    {
     "name": "stdout",
     "output_type": "stream",
     "text": [
      "('pakistan', 'afghanistan', 'bangladesh', 'shrilanka', 'Vietnam', 'India', 'china')\n"
     ]
    }
   ],
   "source": [
    "countries1 =(\"pakistan\",\"afghanistan\",\"bangladesh\",\"shrilanka\")\n",
    "countries2 =(\"Vietnam\",\"India\", \"china\")\n",
    "southeastasia = countries1+countries2\n",
    "print(southeastasia)\n"
   ]
  },
  {
   "cell_type": "code",
   "execution_count": 6,
   "metadata": {},
   "outputs": [
    {
     "name": "stdout",
     "output_type": "stream",
     "text": [
      "count of 3 in tuple is: 3\n"
     ]
    }
   ],
   "source": [
    "tuple1=(0,1,2,3,2,3,1,3,2)\n",
    "res=tuple1.count(3)\n",
    "print(\"count of 3 in tuple is:\",res)"
   ]
  },
  {
   "cell_type": "code",
   "execution_count": 8,
   "metadata": {},
   "outputs": [
    {
     "name": "stdout",
     "output_type": "stream",
     "text": [
      "Count of 3 in tuple is: 5\n"
     ]
    }
   ],
   "source": [
    "tuple1=(0,1,2,31,2,3,1,3,2)\n",
    "res=tuple1.index(3)\n",
    "print(\"index of 3 in tuple is:\",res)"
   ]
  },
  {
   "cell_type": "code",
   "execution_count": 10,
   "metadata": {},
   "outputs": [
    {
     "name": "stdout",
     "output_type": "stream",
     "text": [
      "index of 3 in tuple is: 5\n"
     ]
    }
   ],
   "source": [
    "tuple1=(0,1,2,31,2,3,1,3,2)\n",
    "res=tuple1.index(3,4,8)       #(4,8)silysing tuple 3 ka index\n",
    "print(\"index of 3 in tuple is:\",res)"
   ]
  },
  {
   "cell_type": "code",
   "execution_count": 11,
   "metadata": {},
   "outputs": [
    {
     "ename": "ValueError",
     "evalue": "tuple.index(x): x not in tuple",
     "output_type": "error",
     "traceback": [
      "\u001b[1;31m---------------------------------------------------------------------------\u001b[0m",
      "\u001b[1;31mValueError\u001b[0m                                Traceback (most recent call last)",
      "\u001b[1;32mc:\\Users\\mayan\\OneDrive\\Desktop\\python\\hary hary.ipynb Cell 178\u001b[0m line \u001b[0;36m2\n\u001b[0;32m      <a href='vscode-notebook-cell:/c%3A/Users/mayan/OneDrive/Desktop/python/hary%20hary.ipynb#Y342sZmlsZQ%3D%3D?line=0'>1</a>\u001b[0m tuple1\u001b[39m=\u001b[39m(\u001b[39m0\u001b[39m,\u001b[39m1\u001b[39m,\u001b[39m2\u001b[39m,\u001b[39m31\u001b[39m,\u001b[39m2\u001b[39m,\u001b[39m3\u001b[39m,\u001b[39m1\u001b[39m,\u001b[39m3\u001b[39m,\u001b[39m2\u001b[39m)\n\u001b[1;32m----> <a href='vscode-notebook-cell:/c%3A/Users/mayan/OneDrive/Desktop/python/hary%20hary.ipynb#Y342sZmlsZQ%3D%3D?line=1'>2</a>\u001b[0m res\u001b[39m=\u001b[39mtuple1\u001b[39m.\u001b[39;49mindex(\u001b[39m311\u001b[39;49m)\n\u001b[0;32m      <a href='vscode-notebook-cell:/c%3A/Users/mayan/OneDrive/Desktop/python/hary%20hary.ipynb#Y342sZmlsZQ%3D%3D?line=2'>3</a>\u001b[0m \u001b[39mprint\u001b[39m(\u001b[39m\"\u001b[39m\u001b[39mCount of 3 in tuple is:\u001b[39m\u001b[39m\"\u001b[39m,res)\n",
      "\u001b[1;31mValueError\u001b[0m: tuple.index(x): x not in tuple"
     ]
    }
   ],
   "source": [
    "tuple1=(0,1,2,31,2,3,1,3,2)\n",
    "res=tuple1.index(311)\n",
    "print(\"Count of 3 in tuple is:\",res)"
   ]
  },
  {
   "cell_type": "code",
   "execution_count": 14,
   "metadata": {},
   "outputs": [
    {
     "name": "stdout",
     "output_type": "stream",
     "text": [
      " length tuple is: 9\n"
     ]
    }
   ],
   "source": [
    "tuple1=(0,1,2,31,2,3,1,3,2)\n",
    "res=len(tuple1)\n",
    "print(\" length tuple is:\",res)"
   ]
  },
  {
   "cell_type": "code",
   "execution_count": null,
   "metadata": {},
   "outputs": [],
   "source": []
  }
 ],
 "metadata": {
  "kernelspec": {
   "display_name": "Python 3",
   "language": "python",
   "name": "python3"
  },
  "language_info": {
   "codemirror_mode": {
    "name": "ipython",
    "version": 3
   },
   "file_extension": ".py",
   "mimetype": "text/x-python",
   "name": "python",
   "nbconvert_exporter": "python",
   "pygments_lexer": "ipython3",
   "version": "3.11.4"
  },
  "orig_nbformat": 4
 },
 "nbformat": 4,
 "nbformat_minor": 2
}
