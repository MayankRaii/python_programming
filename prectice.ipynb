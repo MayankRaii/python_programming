{
 "cells": [
  {
   "cell_type": "code",
   "execution_count": 8,
   "metadata": {},
   "outputs": [
    {
     "name": "stdout",
     "output_type": "stream",
     "text": [
      "[1, 2, 3]\n",
      "[2, 3, 4]\n",
      "[4, 5, 6]\n"
     ]
    }
   ],
   "source": [
    "list=[[1,2,3],[2,3,4],[4,5,6]]\n",
    "\n",
    "for ele in list:\n",
    "    # newlist=[]\n",
    "    # for i in ele:\n",
    "    #     newlist.append(i)\n",
    "    # print(newlist)\n",
    "    print(ele)"
   ]
  },
  {
   "cell_type": "code",
   "execution_count": 3,
   "metadata": {},
   "outputs": [
    {
     "name": "stdout",
     "output_type": "stream",
     "text": [
      "[24, 1, 2, 3, 4, 5, 6, 7]\n"
     ]
    }
   ],
   "source": [
    "m=[23,24,1,2,3,4,5,6,7]\n",
    "m.remove(23)\n",
    "print(m)\n"
   ]
  },
  {
   "cell_type": "code",
   "execution_count": 4,
   "metadata": {},
   "outputs": [
    {
     "name": "stdout",
     "output_type": "stream",
     "text": [
      "[24, 1, 2, 3, 4, 5, 6, 7]\n"
     ]
    }
   ],
   "source": [
    "m=[23,24,1,2,3,4,5,6,7]\n",
    "m.remove(23)\n",
    "print(m)"
   ]
  },
  {
   "cell_type": "code",
   "execution_count": 5,
   "metadata": {},
   "outputs": [
    {
     "ename": "TypeError",
     "evalue": "list.remove() takes exactly one argument (2 given)",
     "output_type": "error",
     "traceback": [
      "\u001b[1;31m---------------------------------------------------------------------------\u001b[0m",
      "\u001b[1;31mTypeError\u001b[0m                                 Traceback (most recent call last)",
      "\u001b[1;32mUntitled-1.ipynb Cell 4\u001b[0m line \u001b[0;36m2\n\u001b[0;32m      <a href='vscode-notebook-cell:Untitled-1.ipynb?jupyter-notebook#W3sdW50aXRsZWQ%3D?line=0'>1</a>\u001b[0m m\u001b[39m=\u001b[39m[\u001b[39m23\u001b[39m,\u001b[39m24\u001b[39m,\u001b[39m1\u001b[39m,\u001b[39m2\u001b[39m,\u001b[39m3\u001b[39m,\u001b[39m4\u001b[39m,\u001b[39m5\u001b[39m,\u001b[39m6\u001b[39m,\u001b[39m7\u001b[39m]\n\u001b[1;32m----> <a href='vscode-notebook-cell:Untitled-1.ipynb?jupyter-notebook#W3sdW50aXRsZWQ%3D?line=1'>2</a>\u001b[0m m\u001b[39m.\u001b[39;49mremove(\u001b[39m23\u001b[39;49m,\u001b[39m24\u001b[39;49m)\n\u001b[0;32m      <a href='vscode-notebook-cell:Untitled-1.ipynb?jupyter-notebook#W3sdW50aXRsZWQ%3D?line=2'>3</a>\u001b[0m \u001b[39mprint\u001b[39m(m)\n",
      "\u001b[1;31mTypeError\u001b[0m: list.remove() takes exactly one argument (2 given)"
     ]
    }
   ],
   "source": [
    "m=[23,24,1,2,3,4,5,6,7]\n",
    "m.remove(23,24)\n",
    "print(m)"
   ]
  },
  {
   "cell_type": "code",
   "execution_count": 10,
   "metadata": {},
   "outputs": [
    {
     "name": "stdout",
     "output_type": "stream",
     "text": [
      "[23, 24, 1, 2, 3, 4, 5, 6, 7, 90]\n",
      "[23, 24, 1, 2, 3, 4, 5, 6, 7, 90, 80]\n",
      "[23, 24, 1, 2, 3, 4, 5, 6, 7, 80]\n",
      "[23, 24, 1, 2, 3, 4, 5, 6, 7]\n"
     ]
    },
    {
     "ename": "ValueError",
     "evalue": "list.remove(x): x not in list",
     "output_type": "error",
     "traceback": [
      "\u001b[1;31m---------------------------------------------------------------------------\u001b[0m",
      "\u001b[1;31mValueError\u001b[0m                                Traceback (most recent call last)",
      "\u001b[1;32mUntitled-1.ipynb Cell 5\u001b[0m line \u001b[0;36m1\n\u001b[0;32m     <a href='vscode-notebook-cell:Untitled-1.ipynb?jupyter-notebook#W4sdW50aXRsZWQ%3D?line=9'>10</a>\u001b[0m m\u001b[39m.\u001b[39mremove(i)\n\u001b[0;32m     <a href='vscode-notebook-cell:Untitled-1.ipynb?jupyter-notebook#W4sdW50aXRsZWQ%3D?line=10'>11</a>\u001b[0m \u001b[39mprint\u001b[39m(m)\n\u001b[1;32m---> <a href='vscode-notebook-cell:Untitled-1.ipynb?jupyter-notebook#W4sdW50aXRsZWQ%3D?line=11'>12</a>\u001b[0m m\u001b[39m.\u001b[39;49mremove(i)\n",
      "\u001b[1;31mValueError\u001b[0m: list.remove(x): x not in list"
     ]
    }
   ],
   "source": [
    "m=[23,24,1,2,3,4,5,6,7]\n",
    "o=90\n",
    "i=80\n",
    "m.append(o)\n",
    "print(m)\n",
    "m.append(i)\n",
    "print(m)\n",
    "m.remove(o)\n",
    "print(m)\n",
    "m.remove(i)\n",
    "print(m)\n",
    "m.remove(i)"
   ]
  },
  {
   "cell_type": "code",
   "execution_count": 2,
   "metadata": {},
   "outputs": [
    {
     "name": "stdout",
     "output_type": "stream",
     "text": [
      "[0, 1, 2, 3]\n"
     ]
    }
   ],
   "source": [
    "m=[0,1,2,3,4,5,6,7,8,9]\n",
    "print(m[0:4])"
   ]
  },
  {
   "cell_type": "code",
   "execution_count": 3,
   "metadata": {},
   "outputs": [
    {
     "data": {
      "text/plain": [
       "56"
      ]
     },
     "execution_count": 3,
     "metadata": {},
     "output_type": "execute_result"
    }
   ],
   "source": [
    "max(12,33,56)"
   ]
  },
  {
   "cell_type": "code",
   "execution_count": 8,
   "metadata": {},
   "outputs": [
    {
     "name": "stdout",
     "output_type": "stream",
     "text": [
      "[4, 5, 6, 7, 8, 9, 0]\n"
     ]
    }
   ],
   "source": [
    "import math\n",
    "a=int(input(\"enter\"))\n",
    "lst=[]\n",
    "b=int(math.log10(a))+1\n",
    "for i in range(b):\n",
    "    x=a%10\n",
    "    a=a//10\n",
    "    lst.append(x)\n",
    "lst.reverse()\n",
    "print(lst)\n"
   ]
  },
  {
   "cell_type": "code",
   "execution_count": 10,
   "metadata": {},
   "outputs": [
    {
     "name": "stdout",
     "output_type": "stream",
     "text": [
      "LCM IS: 12\n",
      "HCF IS 4.0\n"
     ]
    }
   ],
   "source": [
    "x=12\n",
    "y=4\n",
    "if x>y:\n",
    "    for i in range(x):\n",
    "        a=x*(i+1)\n",
    "        if a%y==0:\n",
    "            print(\"LCM IS:\",a)\n",
    "            break\n",
    "    HCF=(x*y)/a \n",
    "    print(\"HCF IS\",HCF)\n",
    "else:\n",
    "    for i in range(y):\n",
    "        b=b*(i+1)\n",
    "        if b%x==0:\n",
    "            print(\"LCM IS\",b)\n",
    "            break\n",
    "    HCF=(x*y)/b\n",
    "    print(\"HCF IS\",HCF)\n",
    "\n"
   ]
  },
  {
   "cell_type": "code",
   "execution_count": 9,
   "metadata": {},
   "outputs": [
    {
     "name": "stdout",
     "output_type": "stream",
     "text": [
      "1 is 2 time \n",
      "2 is 2 time \n",
      "3 is 3 time \n",
      "4 is 3 time \n",
      "5 is 2 time \n",
      "12 is 1 time \n",
      "56 is 1 time \n",
      "6 is 1 time \n",
      "67 is 1 time \n",
      "8 is 3 time \n",
      "9 is 1 time \n",
      "99 is 2 time \n"
     ]
    }
   ],
   "source": [
    "a=[1,2,3,4,5,5,4,3,2,1,12,3,4,56,6,67,8,8,8,9,99,99]\n",
    "c=[]\n",
    "for ele in a:\n",
    "    if ele not in c:\n",
    "        count=0\n",
    "        for i in a:\n",
    "            if ele==i:\n",
    "                count=count+1\n",
    "                c.append(ele)\n",
    "        print(ele,\"is\",count,\"time \")\n",
    "\n"
   ]
  },
  {
   "cell_type": "code",
   "execution_count": 10,
   "metadata": {},
   "outputs": [
    {
     "name": "stdout",
     "output_type": "stream",
     "text": [
      "[[1, 3, 7], [2, 4, 8], [3, 5, 9]]\n"
     ]
    }
   ],
   "source": [
    "x=[[1,2,3],[3,4,5],[7,8,9]]\n",
    "r=[[0,0,0],[0,0,0],[0,0,0]]\n",
    "for i in range(len(x)):\n",
    "    for j in range(len(x[0])):\n",
    "        r[j][i]=x[i][j]\n",
    "print(r)"
   ]
  },
  {
   "cell_type": "code",
   "execution_count": 12,
   "metadata": {},
   "outputs": [
    {
     "name": "stdout",
     "output_type": "stream",
     "text": [
      "1\n",
      "2\n",
      "3\n",
      "3\n",
      "4\n",
      "5\n",
      "7\n",
      "8\n",
      "9\n"
     ]
    }
   ],
   "source": [
    "x=[[1,2,3],[3,4,5],[7,8,9]]\n",
    "for i in range(len(x)):\n",
    "    for j in range(len(x[0])):\n",
    "        a=x[i][j]\n",
    "        print(a)"
   ]
  },
  {
   "cell_type": "code",
   "execution_count": 1,
   "metadata": {},
   "outputs": [
    {
     "name": "stdout",
     "output_type": "stream",
     "text": [
      "HCF of two numbers: 4\n"
     ]
    }
   ],
   "source": [
    "num1=int(input(\"1st\"))\n",
    "num2=int(input(\"2st\"))\n",
    "if num1>0 and num2>0:\n",
    "    if num1>num2:\n",
    "        min_num=num2\n",
    "    else:\n",
    "        min_num=num1\n",
    "    for i in range(1,min_num+1):\n",
    "        if num1%i==0 and num2%i==0:\n",
    "            HCF=i\n",
    "    print(\"HCF of two numbers:\",HCF)\n",
    "elif num1==0 or num2==0:\n",
    "    print()\n"
   ]
  },
  {
   "cell_type": "code",
   "execution_count": 21,
   "metadata": {},
   "outputs": [
    {
     "name": "stdout",
     "output_type": "stream",
     "text": [
      "{'mango': 50, 'banana': 60, 'tomato': 70, 'patato': 80}\n"
     ]
    }
   ],
   "source": [
    "lst1=[\"mango\",\"banana\",\"tomato\",\"patato\"]\n",
    "lst2=[50,60,70,80]\n",
    "Dict={}\n",
    "lst1_len= len(lst1)\n",
    "lst2_len=len(lst2)\n",
    "if lst1_len==lst2_len:\n",
    "    for i in range(lst1_len):\n",
    "        # for x in range(lst2_len):\n",
    "        Dict[lst1[i]]=lst2[i]\n",
    "print(Dict)\n",
    "\n",
    "\n",
    "\n"
   ]
  },
  {
   "cell_type": "code",
   "execution_count": 22,
   "metadata": {},
   "outputs": [
    {
     "name": "stdout",
     "output_type": "stream",
     "text": [
      "[[2, 3], [4, 5]]\n"
     ]
    }
   ],
   "source": [
    "mat=[[1,2],[3,4]]\n",
    "new_list=[]\n",
    "for ele in mat:\n",
    "    lst2=[]\n",
    "    for i in ele:\n",
    "        a=i+1\n",
    "        lst2.append(a)\n",
    "    new_list.append(lst2)\n",
    "print(new_list)"
   ]
  },
  {
   "cell_type": "code",
   "execution_count": 2,
   "metadata": {},
   "outputs": [
    {
     "name": "stdout",
     "output_type": "stream",
     "text": [
      "{'Apple': 100, 'Banana': 200}\n"
     ]
    }
   ],
   "source": [
    "list_num=[\"Apple\",\"Banana\"]\n",
    "list_price=[100,200]\n",
    "dict={}\n",
    "len_list_num=len(list_num)\n",
    "len_list_price=len(list_price)\n",
    "if len_list_num==len_list_price:\n",
    "    for i in range(len_list_num):\n",
    "        dict[list_num[i]]=list_price[i]\n",
    "    print(dict)\n"
   ]
  },
  {
   "cell_type": "code",
   "execution_count": 3,
   "metadata": {},
   "outputs": [
    {
     "name": "stdout",
     "output_type": "stream",
     "text": [
      "{'mango': 100, 'banana': 50, 'cow': 1000, 'lion': 2000}\n"
     ]
    }
   ],
   "source": [
    "dict1={\"mango\":100,\"banana\":50}\n",
    "dict2={\"cow\":1000,\"lion\":2000}\n",
    "dict3={}\n",
    "dict3=dict1.copy()\n",
    "for key,value in dict2.items():\n",
    "    dict3[key]=value\n",
    "print(dict3)\n",
    "\n",
    "\n",
    "\n"
   ]
  },
  {
   "cell_type": "code",
   "execution_count": 4,
   "metadata": {},
   "outputs": [
    {
     "name": "stdout",
     "output_type": "stream",
     "text": [
      "{'mango': 90, 'banana': 100, 'orange': 50}\n"
     ]
    }
   ],
   "source": [
    "dict1={\"mango\":90,\"banana\":100}\n",
    "dict2={\"mango\":120,\"banana\":130,\"orange\":50}\n",
    "dict3={}\n",
    "dict3=dict1.copy()\n",
    "for key,value in dict2.items():\n",
    "    if key not in dict3:\n",
    "        dict3[key]=value\n",
    "print(dict3)"
   ]
  },
  {
   "cell_type": "code",
   "execution_count": 11,
   "metadata": {},
   "outputs": [
    {
     "name": "stdout",
     "output_type": "stream",
     "text": [
      "{'Banana': 10, 'Coconut': 15, 'Brinjal': 30, 'pea': 40}\n"
     ]
    }
   ],
   "source": [
    "dict_3={'apple': 20, 'mango': 27, 'pear': 31, 'Banana': 10, 'Coconut': 15}\n",
    "list_fruits=[\"Banana\",\"Coconut\",\"Brinjal\",\"pea\"]\n",
    "dict4={}\n",
    "for x in list_fruits:\n",
    "    if x in dict_3.keys():\n",
    "        dict4[x]=dict_3[x]\n",
    "        \n",
    "    else:\n",
    "        \n",
    "        a=int(input(\"enter the value\"))\n",
    "        dict4[x]=a\n",
    "print(dict4)\n",
    "\n",
    "\n",
    "    \n",
    "    "
   ]
  },
  {
   "cell_type": "code",
   "execution_count": 14,
   "metadata": {},
   "outputs": [
    {
     "name": "stdout",
     "output_type": "stream",
     "text": [
      "{'MAYANK': [100, 98, 78], 'SAURABH': [45, 67, 89], 'KAALI': [34, 56, 78]}\n",
      "MAYANK\n",
      "physics : 100\n",
      "chemistry : 98\n",
      "maths : 78\n",
      "SAURABH\n",
      "physics : 45\n",
      "chemistry : 67\n",
      "maths : 89\n",
      "KAALI\n",
      "physics : 34\n",
      "chemistry : 56\n",
      "maths : 78\n"
     ]
    }
   ],
   "source": [
    "dict1={}\n",
    "dict1[\"MAYANK\"]=[100,98,78]\n",
    "dict1[\"SAURABH\"]=[45,67,89]\n",
    "dict1[\"KAALI\"]=[34,56,78]\n",
    "print(dict1)\n",
    "sub=[\"physics\",\"chemistry\",\"maths\"]\n",
    "len_sub=len(sub)\n",
    "for key,value in dict1.items():\n",
    "    print(key)\n",
    "    for i in range(len_sub):\n",
    "        print(sub[i],':',value[i])\n",
    "    "
   ]
  },
  {
   "cell_type": "code",
   "execution_count": 6,
   "metadata": {},
   "outputs": [
    {
     "name": "stdout",
     "output_type": "stream",
     "text": [
      "88\n"
     ]
    }
   ],
   "source": [
    "a=[2,3,4,5,6,7,22,33,44,55,66,88,8,9]\n",
    "max_num=a[0]\n",
    "for x in a:\n",
    "    if max_num<x:\n",
    "        max_num=x\n",
    "print(max_num)\n"
   ]
  },
  {
   "cell_type": "code",
   "execution_count": 5,
   "metadata": {},
   "outputs": [
    {
     "name": "stdout",
     "output_type": "stream",
     "text": [
      "1\n"
     ]
    }
   ],
   "source": [
    "a=[2,3,4,5,6,7,77,88,9,9,1,8,9,7,66,55]\n",
    "min_num=a[0]\n",
    "for x in a:\n",
    "    if min_num>x:\n",
    "        min_num=x\n",
    "print(min_num)"
   ]
  },
  {
   "cell_type": "code",
   "execution_count": 8,
   "metadata": {},
   "outputs": [
    {
     "name": "stdout",
     "output_type": "stream",
     "text": [
      "88\n",
      "-897\n"
     ]
    }
   ],
   "source": [
    "a=[2,3,4,5,6,7,77,88,9,9,1,8,9,0,-11,-99,-876,-897,66,55]\n",
    "max_num=a[0]\n",
    "min_num=a[0]\n",
    "for x in a:\n",
    "    if max_num<x:\n",
    "        max_num=x\n",
    "    if min_num>x:\n",
    "        min_num=x\n",
    "print(max_num)\n",
    "print(min_num)\n",
    "    \n",
    "\n"
   ]
  },
  {
   "cell_type": "code",
   "execution_count": null,
   "metadata": {},
   "outputs": [],
   "source": []
  }
 ],
 "metadata": {
  "kernelspec": {
   "display_name": "Python 3",
   "language": "python",
   "name": "python3"
  },
  "language_info": {
   "codemirror_mode": {
    "name": "ipython",
    "version": 3
   },
   "file_extension": ".py",
   "mimetype": "text/x-python",
   "name": "python",
   "nbconvert_exporter": "python",
   "pygments_lexer": "ipython3",
   "version": "3.11.4"
  }
 },
 "nbformat": 4,
 "nbformat_minor": 2
}
