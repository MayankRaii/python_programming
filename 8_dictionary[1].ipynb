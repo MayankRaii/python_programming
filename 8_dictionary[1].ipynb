{
 "cells": [
  {
   "cell_type": "markdown",
   "metadata": {},
   "source": [
    "# Dictionary"
   ]
  },
  {
   "cell_type": "markdown",
   "metadata": {},
   "source": [
    "1. There are a keys and corresponding values assign to them.\n",
    "2. A dictionary can't have two same/duplicate keys in a single dictionary."
   ]
  },
  {
   "cell_type": "code",
   "execution_count": null,
   "metadata": {},
   "outputs": [],
   "source": [
    "dict={}\n",
    "dict[\"ram\"]=14\n",
    "print(dict)"
   ]
  },
  {
   "cell_type": "code",
   "execution_count": null,
   "metadata": {},
   "outputs": [],
   "source": [
    "dict_marks={\"saurabh\":99,\"hemant\":100,\"deepak\":98}\n",
    "dict_marks.keys()\n"
   ]
  },
  {
   "cell_type": "code",
   "execution_count": null,
   "metadata": {},
   "outputs": [],
   "source": [
    "dict_marks={\"saurabh\":99,\"hemant\":100,\"deepak\":98}\n",
    "\n",
    "for key in dict_marks.keys():\n",
    "    print(key,dict_marks[key])"
   ]
  },
  {
   "cell_type": "markdown",
   "metadata": {},
   "source": [
    "# Itrating keys, Values and Items"
   ]
  },
  {
   "cell_type": "code",
   "execution_count": null,
   "metadata": {},
   "outputs": [],
   "source": [
    "dict_name={\"a\":2,\"b\":3,\"c\":5}\n",
    "print(dict_name)\n",
    "print(type(dict_name))\n",
    "dict_name={}\n",
    "dict_name['a']=2\n",
    "dict_name['b']=3\n",
    "dict_name['c']=5\n",
    "print(dict_name)\n"
   ]
  },
  {
   "cell_type": "code",
   "execution_count": null,
   "metadata": {},
   "outputs": [],
   "source": [
    "dict_name={\"a\":2,\"b\":3,\"c\":5}\n",
    "for key in dict_name.keys():\n",
    "    print(key)"
   ]
  },
  {
   "cell_type": "code",
   "execution_count": null,
   "metadata": {},
   "outputs": [],
   "source": [
    "dict_name={\"a\":2,\"b\":3,\"c\":5}\n",
    "for value in dict_name.values():\n",
    "    print(value)"
   ]
  },
  {
   "cell_type": "code",
   "execution_count": null,
   "metadata": {},
   "outputs": [],
   "source": [
    "dict_name={\"a\":2,\"b\":3,\"c\":5}\n",
    "for items in dict_name.items():\n",
    "    print(items)\n",
    "print(type(items))"
   ]
  },
  {
   "cell_type": "code",
   "execution_count": null,
   "metadata": {},
   "outputs": [],
   "source": [
    "dict_name={\"a\":True  ,\"b\":3,\"c\":5}\n",
    "for key,value in dict_name.items():\n",
    "    print(key,value)\n",
    "    print(type(key))\n",
    "    print(type(value))"
   ]
  },
  {
   "cell_type": "markdown",
   "metadata": {},
   "source": [
    "# Questions"
   ]
  },
  {
   "cell_type": "markdown",
   "metadata": {},
   "source": [
    "Create a dictionary using for loop from given list list."
   ]
  },
  {
   "cell_type": "code",
   "execution_count": null,
   "metadata": {},
   "outputs": [],
   "source": [
    "list_name=['apple','mango','pear']\n",
    "list_price=[20,27,31]\n",
    "\n",
    "list_name_len=len(list_name)\n",
    "list_price_len=len(list_price)\n",
    "if list_name_len==list_price_len:\n",
    "\n",
    "    dict_fruits={}\n",
    "    \n",
    "    for i in range(list_price_len):\n",
    "        key=list_name[i]\n",
    "        value=list_price[i]\n",
    "        dict_fruits[key]=value\n",
    "    print(\"fruits and prices:\",dict_fruits)\n"
   ]
  },
  {
   "cell_type": "markdown",
   "metadata": {},
   "source": [
    "Create a new dictionary using two dictionary."
   ]
  },
  {
   "cell_type": "code",
   "execution_count": null,
   "metadata": {},
   "outputs": [],
   "source": [
    "dict_1={'apple': 20, 'mango': 27, 'pear': 31}\n",
    "dict_2={'Banana':10,'Coconut':15}\n",
    "dict_3={}\n",
    "\n",
    "for key,value in dict_1.items():\n",
    "    dict_3[key]=value\n",
    "for key,value in dict_2.items():\n",
    "    dict_3[key]=value\n",
    "print(\"List of all fruits and there price is:\",dict_3)"
   ]
  },
  {
   "cell_type": "markdown",
   "metadata": {},
   "source": [
    "Add two dictionary and avoid overiding."
   ]
  },
  {
   "cell_type": "code",
   "execution_count": null,
   "metadata": {},
   "outputs": [],
   "source": [
    "dict_1={'apple': 20, 'mango': 27, 'pear': 31}\n",
    "dict_2={'Banana':10,'Coconut':15,'apple':50}\n",
    "dict_3={}\n",
    "dict_3=dict_1.copy()\n",
    "for key,value in dict_2.items():\n",
    "    if key not in dict_1.keys():# I use dict_1 here to make it efficient because if i use\n",
    "        dict_3[key]=value       #dic_3, code have to check for a big dict.\n",
    "print(\"new dictionary\",dict_3)"
   ]
  },
  {
   "cell_type": "markdown",
   "metadata": {},
   "source": [
    "Shows the prices of items available to sell."
   ]
  },
  {
   "cell_type": "code",
   "execution_count": null,
   "metadata": {},
   "outputs": [],
   "source": [
    "dict_3={'apple': 20, 'mango': 27, 'pear': 31, 'Banana': 10, 'Coconut': 15}\n",
    "list_fruits=[\"Banana\",\"Coconut\",\"Brinjal\",\"pea\"]\n",
    "dict_4={}\n",
    "\n",
    "for x in list_fruits:\n",
    "    if x in dict_3.keys():\n",
    "        dict_4[x]=dict_3[x]\n",
    "    else:\n",
    "        print(x,\"is not in databases,enter the prices manually.\")\n",
    "        a=int(input(\"Enter the price of item not in database:\"))\n",
    "        dict_4[x]=a\n",
    "print(\"Prices of items you want to display:\",dict_4)\n",
    "        "
   ]
  },
  {
   "cell_type": "markdown",
   "metadata": {},
   "source": [
    "Itrate the marks of each students>"
   ]
  },
  {
   "cell_type": "code",
   "execution_count": null,
   "metadata": {},
   "outputs": [],
   "source": [
    "dict_marks={}\n",
    "dict_marks[\"saurabh\"]=[97,56,27]\n",
    "dict_marks[\"deepak\"]=[100,67,12]\n",
    "dict_marks[\"hemant\"]=[78,56,100]\n",
    "dict_marks[\"jamal\"]=[23,56,89]\n",
    "dict_marks[\"utkarsh\"]=[78,89,90]\n",
    "print(dict_marks)\n",
    "course_name=[\"maths\",\"physics\",\"chemistry\"]\n",
    "course_name_len=len(course_name)\n",
    "for key,value in dict_marks.items():\n",
    "    print(key)\n",
    "    for i in range(course_name_len):\n",
    "        print(course_name[i],\":\",value[i],\"\\n\")\n"
   ]
  },
  {
   "cell_type": "markdown",
   "metadata": {},
   "source": [
    "Create a new dictionary  : dict_stat={max marks,average}"
   ]
  },
  {
   "cell_type": "code",
   "execution_count": 10,
   "metadata": {},
   "outputs": [
    {
     "name": "stdout",
     "output_type": "stream",
     "text": [
      "Students name and their marks in Physics,Chemistry and Maths accordingly: {'saurabh': [97, 56, 27], 'deepak': [100, 67, 12], 'hemant': [78, 56, 100], 'jamal': [23, 56, 89], 'utkarsh': [78, 89, 90]}\n",
      "required stat is {'saurabh': [97, 60.0], 'deepak': [100, 59.666666666666664], 'hemant': [100, 78.0], 'jamal': [89, 56.0], 'utkarsh': [90, 85.66666666666667]}\n"
     ]
    }
   ],
   "source": [
    "dict_marks={}\n",
    "dict_marks[\"saurabh\"]=[97,56,27]\n",
    "dict_marks[\"deepak\"]=[100,67,12]\n",
    "dict_marks[\"hemant\"]=[78,56,100]\n",
    "dict_marks[\"jamal\"]=[23,56,89]\n",
    "dict_marks[\"utkarsh\"]=[78,89,90]\n",
    "print(\"Students name and their marks in Physics,Chemistry and Maths accordingly:\",dict_marks)\n",
    "dict_stat={}\n",
    "\n",
    "for key,value in dict_marks.items():\n",
    "    list_max_average=[]\n",
    "    max_mark=0\n",
    "    for mark in value:\n",
    "        if mark>max_mark:\n",
    "            max_mark=mark\n",
    "    \n",
    "    average=sum(value)/len(value)\n",
    "    list_max_average.append(max_mark)\n",
    "    list_max_average.append(average)\n",
    "    dict_stat[key]=list_max_average\n",
    "print(\"required stat is\",dict_stat)\n",
    "    "
   ]
  },
  {
   "cell_type": "markdown",
   "metadata": {},
   "source": [
    "# Homeworks1"
   ]
  },
  {
   "cell_type": "markdown",
   "metadata": {},
   "source": [
    "1.Convert on dictionary from, keys=[\"Ten\",\"Twenty\",\"Thirty\"], value=[10,20,30]\n"
   ]
  },
  {
   "cell_type": "code",
   "execution_count": null,
   "metadata": {},
   "outputs": [],
   "source": [
    "key=[\"Ten\",'Twenty',\"Thirty\"]\n",
    "value=[10,20,30]\n",
    "dict_required={}\n",
    "a=len(key)\n",
    "for x in range(a):\n",
    "    dict_required[key[x]]=value[x]\n",
    "print(\"Required dictionary is:\",dict_required)"
   ]
  },
  {
   "cell_type": "markdown",
   "metadata": {},
   "source": [
    "2.Merge two dictionary."
   ]
  },
  {
   "cell_type": "code",
   "execution_count": null,
   "metadata": {},
   "outputs": [],
   "source": [
    "dict1={\"ten\":10,'twenty':20,'thirty':30}\n",
    "dict2={'thirty':30,'fourty':40,'fifty':50}\n",
    "dict3=dict1.copy()\n",
    "for key,value in dict2.items():\n",
    "#To avoid overiding the value of key already present use Conditional statements.\n",
    "    dict3[key]=value\n",
    "print(\"merged dictionary =\",dict3)"
   ]
  },
  {
   "cell_type": "markdown",
   "metadata": {},
   "source": [
    "3.Check if key exist in dictionary."
   ]
  },
  {
   "cell_type": "code",
   "execution_count": null,
   "metadata": {},
   "outputs": [],
   "source": [
    "sample_dict={\"a\":100,'b':200,'c':300}\n",
    "key_checking=input(\"Enter the key:\")\n",
    "if key_checking in sample_dict.keys():\n",
    "    print(\"key is present.\")\n",
    "else:\n",
    "    print(\"key is not present.\")\n",
    "\n"
   ]
  },
  {
   "cell_type": "markdown",
   "metadata": {},
   "source": [
    "4.Check if value exists in dictionary of not."
   ]
  },
  {
   "cell_type": "code",
   "execution_count": null,
   "metadata": {},
   "outputs": [],
   "source": [
    "sample_dict={\"a\":100,'b':200,'c':300}\n",
    "value_checking=int(input(\"Enter a vaule you want to check: \"))\n",
    "\n",
    "if value_checking in sample_dict.values():\n",
    "    print(\"Value is present in dictionary\")\n",
    "else:\n",
    "    print(\"Value is not present in dictionary\")\n"
   ]
  },
  {
   "cell_type": "markdown",
   "metadata": {},
   "source": [
    "5.Create a of dictionary keys and values mention in another dictionary."
   ]
  },
  {
   "cell_type": "code",
   "execution_count": null,
   "metadata": {},
   "outputs": [],
   "source": [
    "sample_dict={\"name\":\"Kelly\",\"age\":25,\"salary\":80000,\"city\":\"New york\"}\n",
    "list_keys=[\"name\",\"salary\"]\n",
    "dict_required1={}\n",
    "for key,value in sample_dict.items():\n",
    "    if key in list_keys:\n",
    "        dict_required1[key]=value\n",
    "    else:\n",
    "        print(key,\": is not in the list of key to be checked.\")\n",
    "print(\"required dictionary is:\",dict_required1)\n"
   ]
  },
  {
   "cell_type": "markdown",
   "metadata": {},
   "source": [
    "6.Remove the key from a dictionary [dict_name.pop(key_name)]."
   ]
  },
  {
   "cell_type": "code",
   "execution_count": null,
   "metadata": {},
   "outputs": [],
   "source": [
    "sample_dict={\"name\":\"Kelly\",\"age\":25,\"salary\":80000,\"city\":\"New york\"}\n",
    "sample_dict.pop(\"name\")# This funtion removes the keys as well as coresponding values from the dictionary.\n",
    "print(\"new dictionary:\",sample_dict)"
   ]
  },
  {
   "cell_type": "markdown",
   "metadata": {},
   "source": [
    "7.Use the pop() to raname the key."
   ]
  },
  {
   "cell_type": "code",
   "execution_count": null,
   "metadata": {},
   "outputs": [],
   "source": [
    "sample_dict={\"name\":\"Kelly\",\"age\":25,\"salary\":80000,\"city\":\"New york\"}\n",
    "sample_dict[\"town\"]=sample_dict.pop(\"city\")\n",
    "print(sample_dict)"
   ]
  },
  {
   "cell_type": "markdown",
   "metadata": {},
   "source": [
    "8.\n",
    "Create a dictionary to store the total marks of 5 students in the class in 3 subjects (Course1, Course2, Course3). The keys must be the student names, and the values must be the list of marks. Create another list which has the course names in the same order as the marks are stored in the dictionary values. \n",
    "Write a for loop to create another dictionary from the above where the marks are replaced by grades. Above 80 is A grade, 60-80 is B grade, 40-60 is C grade, and below 40 is F. Create another dictionary to store the max and average marks for each student. "
   ]
  },
  {
   "cell_type": "code",
   "execution_count": 15,
   "metadata": {},
   "outputs": [
    {
     "name": "stdout",
     "output_type": "stream",
     "text": [
      "{'Saurabh': ['A', 'C', 'B'], 'Jamal': ['F', 'B', 'A'], 'Utkarsh': ['B', 'B', 'A'], 'styam': ['A', 'B', 'C'], 'Saurabh_yadav': ['F', 'A', 'A']}\n"
     ]
    }
   ],
   "source": [
    "dict_marks={}\n",
    "dict_marks[\"Saurabh\"]=[89,55,70]\n",
    "dict_marks[\"Jamal\"]=[33,67,99]\n",
    "dict_marks[\"Utkarsh\"]=[67,75,97]\n",
    "dict_marks[\"styam\"]=[88,79,59]\n",
    "dict_marks[\"Saurabh_yadav\"]=[0,93.4,89.4]\n",
    "subject_list=[\"Chemistry\",\"Maths\",\"Physics\"]\n",
    "dict_grades={}\n",
    "\n",
    "for key,value in dict_marks.items():\n",
    "    list_grades=[]\n",
    "    for i in range(len(subject_list)):\n",
    "        if value[i]>80:\n",
    "            list_grades.append(\"A\")\n",
    "        elif value[i]>60:\n",
    "            list_grades.append(\"B\")\n",
    "        elif value[i]>40:\n",
    "            list_grades.append(\"C\")\n",
    "        else:\n",
    "            list_grades.append(\"F\")\n",
    "    dict_grades[key]=list_grades\n",
    "print(dict_grades)\n",
    "\n",
    "\n"
   ]
  },
  {
   "cell_type": "markdown",
   "metadata": {},
   "source": [
    "9.Use the dictionary created above to compute the final CPI of the student. Course1 is of 4 credits, Course2 of 10 credits, and Course3 of 6 credits. Store these credits in a list.\n"
   ]
  },
  {
   "cell_type": "code",
   "execution_count": null,
   "metadata": {},
   "outputs": [],
   "source": [
    "#complecated way to solve it \n",
    "dict_marks={}\n",
    "dict_marks[\"Saurabh\"]=[89,55,70]\n",
    "dict_marks[\"Jamal\"]=[33,67,99]\n",
    "dict_marks[\"Utkarsh\"]=[67,75,97]\n",
    "dict_marks[\"styam\"]=[88,79,59]      \n",
    "dict_marks[\"Saurabh_yadav\"]=[0,93.4,89.4]\n",
    "subject_order_list=[\"Chemistry\",\"Maths\",\"Physics\"]   \n",
    "list_credits=[4,10,6]\n",
    "sumcredits=sum(list_credits)\n",
    "dict_CPI={}\n",
    "creditsum=sum(list_credits)\n",
    "for key,value in dict_marks.items():\n",
    "    grades_number=0\n",
    "    sum_grades=0\n",
    "    i=0\n",
    "    for mark in value:# I am converting grades into numbers.\n",
    "        if mark>80:\n",
    "            grades_number=10\n",
    "        elif mark>60:\n",
    "            grades_number=9\n",
    "        elif mark>40:\n",
    "            grades_marks=8\n",
    "        else:\n",
    "            grades_number=5\n",
    "        sum_grades=sum_grades+(grades_number*list_credits[i])\n",
    "    cpi=sum_grades/sumcredits\n",
    "    dict_CPI[key]=cpi\n",
    "print(dict_CPI)\n",
    "\n",
    "        \n",
    "# Sir ne bola hai ki grade ki vlaue assign karane k liye dictionary ka use karo. \n",
    "    "
   ]
  },
  {
   "cell_type": "code",
   "execution_count": null,
   "metadata": {},
   "outputs": [],
   "source": [
    "dict_grades={'Saurabh': ['A', 'C', 'B'], 'Jamal': ['F', 'B', 'A'], 'Utkarsh': ['B', 'B', 'A'], 'styam': ['A', 'B', 'C'], 'Saurabh_yadav': ['F', 'A', 'A']}\n",
    "dict_grade_marks={\"A\":10,\"B\":9,\"C\":8,\"F\":5}\n",
    "list_credits=[4,10,6]\n",
    "total_credit=sum(list_credits)\n",
    "dict_CPI={}\n",
    "for key,value in dict_grades.items():\n",
    "    i=0\n",
    "    sum=0\n",
    "    for grade in value:\n",
    "        product=dict_grade_marks[grade]*list_credits[i]\n",
    "        sum=sum+product\n",
    "        i=i+1\n",
    "    CPI=sum/total_credit\n",
    "    dict_CPI[key]=CPI\n",
    "print(dict_CPI)"
   ]
  },
  {
   "cell_type": "markdown",
   "metadata": {},
   "source": [
    " 10.Write the dictionary as a json file, and read it back into a new dictionary. Look for the syntax on the web."
   ]
  },
  {
   "cell_type": "code",
   "execution_count": null,
   "metadata": {},
   "outputs": [],
   "source": []
  },
  {
   "cell_type": "markdown",
   "metadata": {},
   "source": [
    "# Homework2"
   ]
  },
  {
   "cell_type": "markdown",
   "metadata": {},
   "source": [
    "1.Create a dictionary of your marks in various subjects and then sort it by its values first in descending order, and then in ascending order."
   ]
  },
  {
   "cell_type": "code",
   "execution_count": 32,
   "metadata": {},
   "outputs": [
    {
     "name": "stdout",
     "output_type": "stream",
     "text": [
      "[9, 26, 14]\n",
      "{'Python': 9}\n"
     ]
    }
   ],
   "source": [
    "dictmarks1={\"Python\":9,\"Maths\":26,\"English\":14}\n",
    "list_value=list(dictmarks1.values())\n",
    "print(list_value)\n",
    "dictnew={}\n",
    "min_marks=list_value[1]\n",
    "for key,value in dictmarks1.items():\n",
    "    \n",
    "    "
   ]
  },
  {
   "cell_type": "markdown",
   "metadata": {},
   "source": [
    "2.Create a dictionary whose keys are the names of your family members and friends, and the value are the list of fruits the like to eat. Now if the user gives a fruit as input, the code should print the list of names who like this fruit. Write another code to print the list of people who don not like this fruits."
   ]
  },
  {
   "cell_type": "code",
   "execution_count": 4,
   "metadata": {},
   "outputs": [
    {
     "name": "stdout",
     "output_type": "stream",
     "text": [
      "list of people who like banana : ['saurabh', 'sachin', 'utkarsh']\n",
      "List of people don't like banana ['sivam', 'menika', 'jamal']\n"
     ]
    }
   ],
   "source": [
    "dict_fruits_like={}\n",
    "dict_fruits_like[\"saurabh\"]=[\"mango\",\"banana\",\"orange\",\"apple\"]\n",
    "dict_fruits_like[\"sivam\"]=[\"mango\",\"apple\"]\n",
    "dict_fruits_like[\"sachin\"]=[\"mango\",\"pineapple\",\"civi\",\"banana\"]\n",
    "dict_fruits_like[\"menika\"]=[\"mango\",\"orange\",\"watermelon\",\"graphs\"]\n",
    "dict_fruits_like[\"jamal\"]=[\"mango\",\"date\",\"cocnut\"]\n",
    "dict_fruits_like[\"utkarsh\"]=[\"civi\",\"banana\",\"papaya\"]\n",
    "\n",
    "a=input(\"Enter the name of fruits:\")\n",
    "list_name_like=[]\n",
    "list_name_dislike=[]\n",
    "for key,value in dict_fruits_like.items():\n",
    "    if a in value:\n",
    "        list_name_like.append(key)\n",
    "    else:\n",
    "        list_name_dislike.append(key)\n",
    "print(\"list of people who like\",a,\":\",list_name_like)\n",
    "print(\"List of people don't like\",a,list_name_dislike)\n",
    "\n"
   ]
  },
  {
   "cell_type": "markdown",
   "metadata": {},
   "source": [
    "3.Take the dictionary created in problem #2 above. Write a code to make a consolidated list of all the fruit names present in the values of various keys. This list should not have any duplicagte entries. Do not use the set() funtion.\n"
   ]
  },
  {
   "cell_type": "code",
   "execution_count": null,
   "metadata": {},
   "outputs": [],
   "source": [
    "dict_fruits_like={}\n",
    "dict_fruits_like[\"saurabh\"]=[\"mango\",\"banana\",\"orange\",\"apple\"]\n",
    "dict_fruits_like[\"sivam\"]=[\"mango\",\"apple\"]\n",
    "dict_fruits_like[\"sachin\"]=[\"mango\",\"pineapple\",\"civi\",\"banana\"]\n",
    "dict_fruits_like[\"menika\"]=[\"mango\",\"orange\",\"watermelon\",\"graphs\"]\n",
    "dict_fruits_like[\"jamal\"]=[\"mango\",\"date\",\"cocnut\"]\n",
    "dict_fruits_like[\"utkarsh\"]=[\"civi\",\"banana\",\"papaya\"]\n",
    "\n",
    "consolidate_list_fruits=[]\n",
    "for value in dict_fruits_like.values():\n",
    "    for fruit in value:\n",
    "        if fruit not in consolidate_list_fruits:\n",
    "            consolidate_list_fruits.append(fruit)\n",
    "print(\"List of fruits is:\",consolidate_list_fruits)"
   ]
  },
  {
   "cell_type": "markdown",
   "metadata": {},
   "source": [
    "4.Create a text file with one word in each line. The words can be repeated, i.e. the same word can come in more than one line. Read this text file in python (find syntax from google), and create a dictionary where the key is the word and the value is the numbere of times it occurs in the text file."
   ]
  },
  {
   "cell_type": "code",
   "execution_count": null,
   "metadata": {},
   "outputs": [],
   "source": []
  }
 ],
 "metadata": {
  "kernelspec": {
   "display_name": "Python 3",
   "language": "python",
   "name": "python3"
  },
  "language_info": {
   "codemirror_mode": {
    "name": "ipython",
    "version": 3
   },
   "file_extension": ".py",
   "mimetype": "text/x-python",
   "name": "python",
   "nbconvert_exporter": "python",
   "pygments_lexer": "ipython3",
   "version": "3.12.0"
  },
  "orig_nbformat": 4
 },
 "nbformat": 4,
 "nbformat_minor": 2
}
