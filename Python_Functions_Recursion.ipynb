{
  "nbformat": 4,
  "nbformat_minor": 0,
  "metadata": {
    "colab": {
      "provenance": []
    },
    "kernelspec": {
      "name": "python3",
      "display_name": "Python 3"
    },
    "language_info": {
      "name": "python"
    }
  },
  "cells": [
    {
      "cell_type": "code",
      "execution_count": null,
      "metadata": {
        "id": "h9TNAzKYp6cG"
      },
      "outputs": [],
      "source": [
        "# Using another function in the return statement\n",
        "def func(listin):\n",
        "  return sum(listin)"
      ]
    },
    {
      "cell_type": "code",
      "source": [
        "list1 = [1,2,6]\n",
        "func(list1)"
      ],
      "metadata": {
        "colab": {
          "base_uri": "https://localhost:8080/"
        },
        "id": "7lURGopFqFTi",
        "outputId": "52118c58-cd39-4c0c-efd1-87e8348212cd"
      },
      "execution_count": null,
      "outputs": [
        {
          "output_type": "execute_result",
          "data": {
            "text/plain": [
              "9"
            ]
          },
          "metadata": {},
          "execution_count": 2
        }
      ]
    },
    {
      "cell_type": "code",
      "source": [
        "# Write a recursive function that takes a positive integer, n, as input and prints all the integers from this number up to 0 in descending order.\n",
        "def func0p(n):\n",
        "  print(n)\n",
        "  if n>0:\n",
        "    n = n-1\n",
        "    return func0p(n)\n"
      ],
      "metadata": {
        "id": "NETQeCCBqNUR"
      },
      "execution_count": null,
      "outputs": []
    },
    {
      "cell_type": "code",
      "source": [
        "func0p(20)"
      ],
      "metadata": {
        "colab": {
          "base_uri": "https://localhost:8080/"
        },
        "id": "mA6qOurxqmJI",
        "outputId": "94d93228-d79e-4138-9351-33662732cc61"
      },
      "execution_count": null,
      "outputs": [
        {
          "output_type": "stream",
          "name": "stdout",
          "text": [
            "20\n",
            "19\n",
            "18\n",
            "17\n",
            "16\n",
            "15\n",
            "14\n",
            "13\n",
            "12\n",
            "11\n",
            "10\n",
            "9\n",
            "8\n",
            "7\n",
            "6\n",
            "5\n",
            "4\n",
            "3\n",
            "2\n",
            "1\n",
            "0\n"
          ]
        }
      ]
    },
    {
      "cell_type": "code",
      "source": [
        "# Write a recursive function that takes an arbitrary integer, n, as input and prints all the integers from this number up to 0.\n",
        "def func0(n):\n",
        "  print(n)\n",
        "  if n>0:\n",
        "    n = n-1\n",
        "    return func0(n)\n",
        "  elif n<0:\n",
        "    n = n+1\n",
        "    return func0(n)\n"
      ],
      "metadata": {
        "id": "NvG0NODFswxv"
      },
      "execution_count": null,
      "outputs": []
    },
    {
      "cell_type": "code",
      "source": [
        "func0(-10)"
      ],
      "metadata": {
        "colab": {
          "base_uri": "https://localhost:8080/"
        },
        "id": "aoc7VOzgsyKE",
        "outputId": "57155a4e-ab10-437e-e572-1fc25170016e"
      },
      "execution_count": null,
      "outputs": [
        {
          "output_type": "stream",
          "name": "stdout",
          "text": [
            "-10\n",
            "-9\n",
            "-8\n",
            "-7\n",
            "-6\n",
            "-5\n",
            "-4\n",
            "-3\n",
            "-2\n",
            "-1\n",
            "0\n"
          ]
        }
      ]
    },
    {
      "cell_type": "code",
      "source": [
        "# Find the sum of all integers from 1 to n (user input) using recursion.\n",
        "def func_sumn(n):\n",
        "  if n>1:\n",
        "    return n + func_sumn(n-1)\n",
        "  else:\n",
        "    return 1"
      ],
      "metadata": {
        "id": "FOWHxNm9wW39"
      },
      "execution_count": null,
      "outputs": []
    },
    {
      "cell_type": "code",
      "source": [
        "func_sumn(25)"
      ],
      "metadata": {
        "colab": {
          "base_uri": "https://localhost:8080/"
        },
        "id": "stbWNqtfzhaG",
        "outputId": "8c1bd07a-7eee-44e0-a033-4a35cbf5ab9c"
      },
      "execution_count": null,
      "outputs": [
        {
          "output_type": "execute_result",
          "data": {
            "text/plain": [
              "325"
            ]
          },
          "metadata": {},
          "execution_count": 8
        }
      ]
    },
    {
      "cell_type": "code",
      "source": [
        "# Given two integers, x and y, find x**y using recursion.\n",
        "def func_pow(x,y):\n",
        "  if y>1:\n",
        "    y = y-1\n",
        "    return x*func_pow(x,y)\n",
        "  else:\n",
        "    return x"
      ],
      "metadata": {
        "id": "be6hiJldvfVv"
      },
      "execution_count": null,
      "outputs": []
    },
    {
      "cell_type": "code",
      "source": [
        "func_pow(3,4)"
      ],
      "metadata": {
        "colab": {
          "base_uri": "https://localhost:8080/"
        },
        "id": "bJZwpdGBwVtj",
        "outputId": "07e470c3-7ead-4bdc-d9f8-e6b4c64602d1"
      },
      "execution_count": null,
      "outputs": [
        {
          "output_type": "execute_result",
          "data": {
            "text/plain": [
              "81"
            ]
          },
          "metadata": {},
          "execution_count": 10
        }
      ]
    },
    {
      "cell_type": "code",
      "source": [
        "# Find the factorial of n using recursion.\n",
        "def func_fact(n):\n",
        "  if n>1:\n",
        "    return n*func_fact(n-1)\n",
        "  else:\n",
        "    return 1"
      ],
      "metadata": {
        "id": "DsHIYUyI0i4x"
      },
      "execution_count": null,
      "outputs": []
    },
    {
      "cell_type": "code",
      "source": [
        "func_fact(5)"
      ],
      "metadata": {
        "colab": {
          "base_uri": "https://localhost:8080/"
        },
        "id": "LTaPdcm30jRH",
        "outputId": "a19b9e5a-e407-4dc5-d30b-51a6b5676c47"
      },
      "execution_count": null,
      "outputs": [
        {
          "output_type": "execute_result",
          "data": {
            "text/plain": [
              "120"
            ]
          },
          "metadata": {},
          "execution_count": 12
        }
      ]
    },
    {
      "cell_type": "code",
      "source": [
        "# Find the first n terms of Fibonacci series using recursion.\n",
        "def func_fibo(n):\n",
        "  if n == 1:\n",
        "    return [0]\n",
        "  elif n == 2:\n",
        "    return [0,1]\n",
        "  else:\n",
        "    fibo_list = func_fibo(n-1)\n",
        "    fibo_list.append(fibo_list[-1]+fibo_list[-2])\n",
        "    return fibo_list"
      ],
      "metadata": {
        "id": "CM2DFXtF1A7p"
      },
      "execution_count": null,
      "outputs": []
    },
    {
      "cell_type": "code",
      "source": [
        "func_fibo(10)"
      ],
      "metadata": {
        "colab": {
          "base_uri": "https://localhost:8080/"
        },
        "id": "-vJZi75W1BCm",
        "outputId": "8b94ebfc-ad2f-4b29-96f4-bd1a1db74db1"
      },
      "execution_count": null,
      "outputs": [
        {
          "output_type": "execute_result",
          "data": {
            "text/plain": [
              "[0, 1, 1, 2, 3, 5, 8, 13, 21, 34]"
            ]
          },
          "metadata": {},
          "execution_count": 14
        }
      ]
    },
    {
      "cell_type": "code",
      "source": [
        "# Find the length of a list of numbers using recursion.\n",
        "def func_len(listin):\n",
        "  if listin:\n",
        "    return 1 + func_len(listin[1:])\n",
        "  else:\n",
        "    return 0"
      ],
      "metadata": {
        "id": "XDgBLHUd6Ms0"
      },
      "execution_count": null,
      "outputs": []
    },
    {
      "cell_type": "code",
      "source": [
        "list1 = [2,4,5]\n",
        "func_len(list1)"
      ],
      "metadata": {
        "colab": {
          "base_uri": "https://localhost:8080/"
        },
        "id": "_ol6QvtF6MwD",
        "outputId": "85fee28d-6cd1-469b-cd12-c3b190aa8327"
      },
      "execution_count": null,
      "outputs": [
        {
          "output_type": "execute_result",
          "data": {
            "text/plain": [
              "3"
            ]
          },
          "metadata": {},
          "execution_count": 26
        }
      ]
    },
    {
      "cell_type": "code",
      "source": [
        "# Find the sum of a list of numbers using recursion.\n",
        "def func_sum(listin):\n",
        "  if listin:\n",
        "    return listin[0]+ func_sum(listin[1:])\n",
        "  else:\n",
        "    return 0"
      ],
      "metadata": {
        "id": "y-AGe1Q8uHH-"
      },
      "execution_count": null,
      "outputs": []
    },
    {
      "cell_type": "code",
      "source": [
        "list1 = [2,4,5]\n",
        "func_sum(list1)"
      ],
      "metadata": {
        "colab": {
          "base_uri": "https://localhost:8080/"
        },
        "id": "mXNlkJdnvcpr",
        "outputId": "e2dac164-c7bd-4420-ffab-c558573b1ae5"
      },
      "execution_count": null,
      "outputs": [
        {
          "output_type": "execute_result",
          "data": {
            "text/plain": [
              "11"
            ]
          },
          "metadata": {},
          "execution_count": 30
        }
      ]
    },
    {
      "cell_type": "code",
      "source": [
        "# Write a recursive python function that takes a string as input and checks if its a palindrome.\n",
        "def is_palindrome(s):\n",
        "    # Base case: An empty string or a string with one character is a palindrome.\n",
        "    if len(s) <= 1:\n",
        "        return True\n",
        "\n",
        "    # Check if the first and last characters are the same.\n",
        "    if s[0] == s[-1]:\n",
        "        # Recursively check if the substring excluding the first and last characters is a palindrome.\n",
        "        return is_palindrome(s[1:-1])\n",
        "\n",
        "    # If the first and last characters are different, it's not a palindrome.\n",
        "    return False\n"
      ],
      "metadata": {
        "id": "NGKmXiN47Bai"
      },
      "execution_count": null,
      "outputs": []
    },
    {
      "cell_type": "code",
      "source": [
        "is_palindrome(\"tamat\")"
      ],
      "metadata": {
        "colab": {
          "base_uri": "https://localhost:8080/"
        },
        "id": "Yb4Hwgd67tp_",
        "outputId": "a915d8e8-cbdb-40e0-f204-8db16b371d1f"
      },
      "execution_count": null,
      "outputs": [
        {
          "output_type": "execute_result",
          "data": {
            "text/plain": [
              "False"
            ]
          },
          "metadata": {},
          "execution_count": 41
        }
      ]
    },
    {
      "cell_type": "code",
      "source": [],
      "metadata": {
        "id": "DRpXUFxJ70Tt"
      },
      "execution_count": null,
      "outputs": []
    }
  ]
}