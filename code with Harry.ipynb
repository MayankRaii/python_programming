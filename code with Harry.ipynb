{
 "cells": [
  {
   "cell_type": "code",
   "execution_count": 1,
   "metadata": {},
   "outputs": [
    {
     "name": "stdout",
     "output_type": "stream",
     "text": [
      "Hello Motto\n"
     ]
    }
   ],
   "source": [
    "print(\"Hello Motto\")"
   ]
  },
  {
   "cell_type": "code",
   "execution_count": 2,
   "metadata": {},
   "outputs": [
    {
     "name": "stdout",
     "output_type": "stream",
     "text": [
      "5\n"
     ]
    }
   ],
   "source": [
    "print(5)"
   ]
  },
  {
   "cell_type": "code",
   "execution_count": 3,
   "metadata": {},
   "outputs": [
    {
     "name": "stdout",
     "output_type": "stream",
     "text": [
      "Hello Motto 8 2 1 5\n"
     ]
    }
   ],
   "source": [
    "print(\"Hello Motto\" ,8,      2 ,1   ,     5)"
   ]
  },
  {
   "cell_type": "code",
   "execution_count": 4,
   "metadata": {},
   "outputs": [
    {
     "name": "stdout",
     "output_type": "stream",
     "text": [
      "bye\n"
     ]
    }
   ],
   "source": [
    "print(\"bye\")"
   ]
  },
  {
   "cell_type": "code",
   "execution_count": 5,
   "metadata": {},
   "outputs": [
    {
     "name": "stdout",
     "output_type": "stream",
     "text": [
      "34\n"
     ]
    }
   ],
   "source": [
    "print(17+17)"
   ]
  },
  {
   "cell_type": "code",
   "execution_count": 6,
   "metadata": {},
   "outputs": [
    {
     "name": "stdout",
     "output_type": "stream",
     "text": [
      "0\n"
     ]
    }
   ],
   "source": [
    "print(17-17)"
   ]
  },
  {
   "cell_type": "code",
   "execution_count": 7,
   "metadata": {},
   "outputs": [
    {
     "name": "stdout",
     "output_type": "stream",
     "text": [
      "289\n"
     ]
    }
   ],
   "source": [
    "print(17*17)"
   ]
  },
  {
   "cell_type": "code",
   "execution_count": 8,
   "metadata": {},
   "outputs": [
    {
     "name": "stdout",
     "output_type": "stream",
     "text": [
      "1.0\n"
     ]
    }
   ],
   "source": [
    "print(17/17)"
   ]
  },
  {
   "cell_type": "code",
   "execution_count": 9,
   "metadata": {},
   "outputs": [
    {
     "name": "stdout",
     "output_type": "stream",
     "text": [
      "Hey I am a good boy \n",
      "and this viewer is also a good boy/girl\n"
     ]
    }
   ],
   "source": [
    "#Comments print in python\n",
    "# escape sequence character 1./n\n",
    "# Hey Harry ,please dont remove this line\n",
    "# 100 days \n",
    "print(\"Hey I am a good boy \\nand this viewer is also a good boy/girl\")"
   ]
  },
  {
   "cell_type": "code",
   "execution_count": 10,
   "metadata": {},
   "outputs": [
    {
     "name": "stdout",
     "output_type": "stream",
     "text": [
      "Hello Motto\n",
      "hey theree i am usinfg the whatsapp \n",
      "hey this is puneet kumar \n",
      "hey this is mayank kumar\n"
     ]
    }
   ],
   "source": [
    "print(\"Hello Motto\")\n",
    "# hello World\n",
    "\n",
    "print('hey theree i am usinfg the whatsapp \\nhey this is puneet kumar \\nhey this is mayank kumar')\n",
    "\n"
   ]
  },
  {
   "cell_type": "code",
   "execution_count": 11,
   "metadata": {},
   "outputs": [],
   "source": [
    "#VS CODE SHORTCUTS\n",
    "#1. line niche lana hai to ENTER ka use nahi hoga to \\n ka use hoga.\n",
    "#2. Comment banane ke liye Ctrl + / ka use kare.\n",
    "#3. multiline comment"
   ]
  },
  {
   "cell_type": "code",
   "execution_count": 17,
   "metadata": {},
   "outputs": [
    {
     "name": "stdout",
     "output_type": "stream",
     "text": [
      "Hey I am a \"good boy\" \n",
      "and this viewer is also a good boy/\"girl\"\n"
     ]
    }
   ],
   "source": [
    "#hame good boy ko \"\" ke ander rakhna hai so use backward slesh\\\" age piche\n",
    "#string ' ko \\ ke ander '\n",
    "#string \"\" so use in \\ this \"\"\n",
    "\n",
    "print(\"Hey I am a \\\"good boy\\\" \\nand this viewer is also a good boy/\\\"girl\\\"\")\n"
   ]
  },
  {
   "cell_type": "code",
   "execution_count": 13,
   "metadata": {},
   "outputs": [
    {
     "name": "stdout",
     "output_type": "stream",
     "text": [
      "hey , 8 ,9\n"
     ]
    }
   ],
   "source": [
    "print(\"hey , 8 ,9\")"
   ]
  },
  {
   "cell_type": "code",
   "execution_count": 14,
   "metadata": {},
   "outputs": [
    {
     "name": "stdout",
     "output_type": "stream",
     "text": [
      "hey~5~8\n"
     ]
    }
   ],
   "source": [
    "#tilde\n",
    "print(\"hey\" , 5 ,8 , sep=\"~\")"
   ]
  },
  {
   "cell_type": "code",
   "execution_count": 15,
   "metadata": {},
   "outputs": [
    {
     "name": "stdout",
     "output_type": "stream",
     "text": [
      "hey/7/8\n"
     ]
    }
   ],
   "source": [
    "print(\"hey\" ,7,8 ,sep=\"/\")"
   ]
  },
  {
   "cell_type": "code",
   "execution_count": 4,
   "metadata": {},
   "outputs": [
    {
     "name": "stdout",
     "output_type": "stream",
     "text": [
      "hey*8*9009\n",
      "lala\n"
     ]
    }
   ],
   "source": [
    " print(\"hey\", 8 , 9, sep=\"*\", end=\"009\\n\")\n",
    "print(\"lala\")"
   ]
  },
  {
   "cell_type": "code",
   "execution_count": 6,
   "metadata": {},
   "outputs": [
    {
     "name": "stdout",
     "output_type": "stream",
     "text": [
      "15667777665443356\n"
     ]
    }
   ],
   "source": [
    "a=15667777665443356\n",
    "print(a)"
   ]
  },
  {
   "cell_type": "code",
   "execution_count": 7,
   "metadata": {},
   "outputs": [
    {
     "name": "stdout",
     "output_type": "stream",
     "text": [
      "lala\n"
     ]
    }
   ],
   "source": [
    "b=\"lala\"\n",
    "print(b)"
   ]
  },
  {
   "cell_type": "code",
   "execution_count": 8,
   "metadata": {},
   "outputs": [
    {
     "name": "stdout",
     "output_type": "stream",
     "text": [
      "9\n"
     ]
    }
   ],
   "source": [
    "lala=9\n",
    "b=lala\n",
    "print(b)"
   ]
  },
  {
   "cell_type": "code",
   "execution_count": 9,
   "metadata": {},
   "outputs": [
    {
     "name": "stdout",
     "output_type": "stream",
     "text": [
      "128\n"
     ]
    }
   ],
   "source": [
    "a=123\n",
    "a1=5\n",
    "print(a+a1)"
   ]
  },
  {
   "cell_type": "markdown",
   "metadata": {},
   "source": [
    "# Day 26"
   ]
  },
  {
   "cell_type": "code",
   "execution_count": 1,
   "metadata": {},
   "outputs": [
    {
     "name": "stdout",
     "output_type": "stream",
     "text": [
      "18:06:53\n",
      "18\n",
      "06\n",
      "53\n"
     ]
    }
   ],
   "source": [
    "import time\n",
    "timestamp=time.strftime(\"%H:%M:%S\")\n",
    "print(timestamp)\n",
    "timestamp=time.strftime(\"%H\")\n",
    "print(timestamp)\n",
    "timestamp=time.strftime(\"%M\")\n",
    "print(timestamp)\n",
    "timestamp=time.strftime(\"%S\")\n",
    "print(timestamp)\n"
   ]
  },
  {
   "cell_type": "code",
   "execution_count": 2,
   "metadata": {},
   "outputs": [
    {
     "name": "stdout",
     "output_type": "stream",
     "text": [
      "18\n",
      "Good Evening Sir!\n"
     ]
    }
   ],
   "source": [
    "import time\n",
    "t=time.strftime(\"%H:%M:%S\")\n",
    "hour=int(time.strftime(\"%H\"))\n",
    "print(hour)\n",
    "\n",
    "if (hour>=0 and hour<12):\n",
    "    print(\"Good Morning Sir!\")\n",
    "elif(hour>=12 and hour<17):\n",
    "    print(\"Good Afternoon Sir!\")\n",
    "elif (hour>=17 and hour<20):\n",
    "    print(\"Good Evening Sir!\")\n",
    "else:\n",
    "    print(\"Good Night Sir!\")"
   ]
  },
  {
   "cell_type": "code",
   "execution_count": 3,
   "metadata": {},
   "outputs": [
    {
     "name": "stdout",
     "output_type": "stream",
     "text": [
      "3\n",
      "Good Morning Sir!\n"
     ]
    }
   ],
   "source": [
    "import time\n",
    "t=time.strftime(\"%H:%M:%S\")\n",
    "hour=int(time.strftime(\"%H\"))\n",
    "hour=int(input(\"Enter hour: \"))\n",
    "print(hour)\n",
    "\n",
    "if (hour>=0 and hour<12):\n",
    "    print(\"Good Morning Sir!\")\n",
    "elif(hour>=12 and hour<17):\n",
    "    print(\"Good Afternoon Sir!\")\n",
    "elif (hour>=17 and hour<20):\n",
    "    print(\"Good Evening Sir!\")\n",
    "else:\n",
    "    print(\"Good Night Sir!\")"
   ]
  },
  {
   "cell_type": "markdown",
   "metadata": {},
   "source": [
    "# Day 27"
   ]
  },
  {
   "cell_type": "markdown",
   "metadata": {},
   "source": [
    "Create a program capable of displaying questions to the user like KBC.\n",
    "Use list data type to store the questions and their correct answer.\n",
    "Display the final amount the person is taking home after playing the game."
   ]
  },
  {
   "cell_type": "code",
   "execution_count": null,
   "metadata": {},
   "outputs": [],
   "source": []
  },
  {
   "cell_type": "markdown",
   "metadata": {},
   "source": [
    "# Day 28 --(f-string)"
   ]
  },
  {
   "cell_type": "code",
   "execution_count": 5,
   "metadata": {},
   "outputs": [
    {
     "name": "stdout",
     "output_type": "stream",
     "text": [
      "Hey my name is Harry and i am from India\n"
     ]
    }
   ],
   "source": [
    "letter=\"Hey my name is {} and i am from {}\"\n",
    "country=\"India\"\n",
    "name=\"Harry\"\n",
    "print(letter.format(name,country))"
   ]
  },
  {
   "cell_type": "code",
   "execution_count": 6,
   "metadata": {},
   "outputs": [
    {
     "name": "stdout",
     "output_type": "stream",
     "text": [
      "Hey my name is India and i am from Harry\n"
     ]
    }
   ],
   "source": [
    "letter=\"Hey my name is {} and i am from {}\"\n",
    "country=\"India\"\n",
    "name=\"Harry\"\n",
    "print(letter.format(country,name))"
   ]
  },
  {
   "cell_type": "code",
   "execution_count": 7,
   "metadata": {},
   "outputs": [
    {
     "name": "stdout",
     "output_type": "stream",
     "text": [
      "Hey my name is Harry and i am from India\n"
     ]
    }
   ],
   "source": [
    "letter=\"Hey my name is {0} and i am from {1}\"\n",
    "country=\"India\"\n",
    "name=\"Harry\"\n",
    "print(letter.format(name,country))"
   ]
  },
  {
   "cell_type": "code",
   "execution_count": 8,
   "metadata": {},
   "outputs": [
    {
     "name": "stdout",
     "output_type": "stream",
     "text": [
      "Hey my name is Harry and i am from India\n"
     ]
    }
   ],
   "source": [
    "letter=\"Hey my name is {1} and i am from {0}\"\n",
    "country=\"India\"\n",
    "name=\"Harry\"\n",
    "print(letter.format(country,name))"
   ]
  },
  {
   "cell_type": "code",
   "execution_count": 13,
   "metadata": {},
   "outputs": [
    {
     "name": "stdout",
     "output_type": "stream",
     "text": [
      "Hey my name is Harry and i am from India\n"
     ]
    }
   ],
   "source": [
    "\n",
    "country=\"India\"\n",
    "name=\"Harry\"\n",
    "print(f\"Hey my name is {name} and i am from {country}\")"
   ]
  },
  {
   "cell_type": "code",
   "execution_count": 25,
   "metadata": {},
   "outputs": [
    {
     "name": "stdout",
     "output_type": "stream",
     "text": [
      "We use f-strings like this: Hey my name is {name} and i am from {country}  \n"
     ]
    }
   ],
   "source": [
    "print(f\"We use f-strings like this: Hey my name is {{name}} and i am from {{country}}  \")"
   ]
  },
  {
   "cell_type": "code",
   "execution_count": 15,
   "metadata": {},
   "outputs": [
    {
     "name": "stdout",
     "output_type": "stream",
     "text": [
      "For only 49.10 dollars!\n"
     ]
    }
   ],
   "source": [
    "txt=\"For only {price:.2f} dollars!\"\n",
    "print(txt.format(price=49.099999))"
   ]
  },
  {
   "cell_type": "code",
   "execution_count": 18,
   "metadata": {},
   "outputs": [
    {
     "name": "stdout",
     "output_type": "stream",
     "text": [
      "For only 49.10 dollars!\n"
     ]
    }
   ],
   "source": [
    "price=49.099999\n",
    "txt=f\"For only {price:.2f} dollars!\"\n",
    "print(txt)"
   ]
  },
  {
   "cell_type": "code",
   "execution_count": 24,
   "metadata": {},
   "outputs": [
    {
     "name": "stdout",
     "output_type": "stream",
     "text": [
      "<class 'int'>\n",
      "60\n"
     ]
    }
   ],
   "source": [
    "print(type(2*30))\n",
    "print(2*30)\n",
    "\n"
   ]
  },
  {
   "cell_type": "code",
   "execution_count": 23,
   "metadata": {},
   "outputs": [
    {
     "name": "stdout",
     "output_type": "stream",
     "text": [
      "<class 'str'>\n",
      "60\n"
     ]
    }
   ],
   "source": [
    "print(type(f\"{2*30}\"))\n",
    "print(f\"{2*30}\")\n"
   ]
  },
  {
   "cell_type": "markdown",
   "metadata": {},
   "source": [
    "# Day 29"
   ]
  },
  {
   "cell_type": "markdown",
   "metadata": {},
   "source": [
    "1) Docstrings\n",
    "2) PEP-8"
   ]
  },
  {
   "cell_type": "code",
   "execution_count": 34,
   "metadata": {},
   "outputs": [
    {
     "name": "stdout",
     "output_type": "stream",
     "text": [
      "25\n",
      "Takes in a number n,returns the square of n\n"
     ]
    }
   ],
   "source": [
    "def square(n):\n",
    "    '''Takes in a number n,returns the square of n''' #yah comment nahi docstring hai docstring change karne se programme change ho sakta hai\n",
    "    print(n**2)      #body ke uper doc string dale\n",
    "square(5)            # doc string ko function ke theek below dalna hai aur body ke theek uper\n",
    "print(square.__doc__)"
   ]
  },
  {
   "cell_type": "code",
   "execution_count": 35,
   "metadata": {},
   "outputs": [
    {
     "name": "stdout",
     "output_type": "stream",
     "text": [
      "5\n",
      "25\n",
      "None\n"
     ]
    }
   ],
   "source": [
    "def square(n):\n",
    "    print(n)\n",
    "    '''Takes in a number n,returns the square of n''' #yah comment nahi docstring hai docstring change karne se programme change ho sakta hai\n",
    "    print(n**2)      #body ke uper doc string dale\n",
    "square(5)\n",
    "print(square.__doc__)"
   ]
  },
  {
   "cell_type": "code",
   "execution_count": 38,
   "metadata": {},
   "outputs": [
    {
     "name": "stdout",
     "output_type": "stream",
     "text": [
      "lll\n",
      "25\n",
      "Takes in a number n,returns the square of n\n"
     ]
    }
   ],
   "source": [
    "def square(n):\n",
    "    '''Takes in a number n,returns the square of n''' #yah comment nahi docstring hai docstring change karne se programme change ho sakta hai\n",
    "    print(\"lll\")\n",
    "    print(n**2)      #body ke uper doc string dale\n",
    "square(5)\n",
    "print(square.__doc__)"
   ]
  },
  {
   "cell_type": "code",
   "execution_count": 39,
   "metadata": {},
   "outputs": [
    {
     "name": "stdout",
     "output_type": "stream",
     "text": [
      "The Zen of Python, by Tim Peters\n",
      "\n",
      "Beautiful is better than ugly.\n",
      "Explicit is better than implicit.\n",
      "Simple is better than complex.\n",
      "Complex is better than complicated.\n",
      "Flat is better than nested.\n",
      "Sparse is better than dense.\n",
      "Readability counts.\n",
      "Special cases aren't special enough to break the rules.\n",
      "Although practicality beats purity.\n",
      "Errors should never pass silently.\n",
      "Unless explicitly silenced.\n",
      "In the face of ambiguity, refuse the temptation to guess.\n",
      "There should be one-- and preferably only one --obvious way to do it.\n",
      "Although that way may not be obvious at first unless you're Dutch.\n",
      "Now is better than never.\n",
      "Although never is often better than *right* now.\n",
      "If the implementation is hard to explain, it's a bad idea.\n",
      "If the implementation is easy to explain, it may be a good idea.\n",
      "Namespaces are one honking great idea -- let's do more of those!\n"
     ]
    }
   ],
   "source": [
    "import this"
   ]
  },
  {
   "cell_type": "markdown",
   "metadata": {},
   "source": [
    "# Day 30 (Recursion)"
   ]
  },
  {
   "cell_type": "code",
   "execution_count": 40,
   "metadata": {},
   "outputs": [],
   "source": [
    "# factorial(3)=3*2*1\n",
    "# factorial(4)=4*3*2*1\n",
    "# factorial(n)=n*factorial(n-1)\n",
    "\n"
   ]
  },
  {
   "cell_type": "markdown",
   "metadata": {},
   "source": [
    "# Day 31(Set)"
   ]
  },
  {
   "cell_type": "code",
   "execution_count": 2,
   "metadata": {},
   "outputs": [
    {
     "name": "stdout",
     "output_type": "stream",
     "text": [
      "{2, 4, 6}\n"
     ]
    }
   ],
   "source": [
    "s={2,4,2,6}\n",
    "print(s)"
   ]
  },
  {
   "cell_type": "code",
   "execution_count": 3,
   "metadata": {},
   "outputs": [
    {
     "name": "stdout",
     "output_type": "stream",
     "text": [
      "{'Carla', 18, 19, 5.9, 'false'}\n"
     ]
    }
   ],
   "source": [
    "info={\"Carla\",19,\"false\",5.9,18}\n",
    "print(info)"
   ]
  },
  {
   "cell_type": "code",
   "execution_count": 4,
   "metadata": {},
   "outputs": [
    {
     "name": "stdout",
     "output_type": "stream",
     "text": [
      "<class 'dict'>\n"
     ]
    }
   ],
   "source": [
    "harry={}\n",
    "print(type(harry))"
   ]
  },
  {
   "cell_type": "code",
   "execution_count": 5,
   "metadata": {},
   "outputs": [
    {
     "name": "stdout",
     "output_type": "stream",
     "text": [
      "<class 'set'>\n"
     ]
    }
   ],
   "source": [
    "#empty set\n",
    "harry=set()\n",
    "print(type(harry))"
   ]
  },
  {
   "cell_type": "code",
   "execution_count": 7,
   "metadata": {},
   "outputs": [
    {
     "name": "stdout",
     "output_type": "stream",
     "text": [
      "Carla\n",
      "18\n",
      "19\n",
      "5.9\n",
      "false\n"
     ]
    }
   ],
   "source": [
    "for value in info:\n",
    "    print(value)"
   ]
  },
  {
   "cell_type": "markdown",
   "metadata": {},
   "source": [
    "# Day 32"
   ]
  },
  {
   "cell_type": "code",
   "execution_count": 9,
   "metadata": {},
   "outputs": [
    {
     "name": "stdout",
     "output_type": "stream",
     "text": [
      "{1, 2, 3, 5, 6, 7}\n"
     ]
    }
   ],
   "source": [
    "s1={1,2,5,6}\n",
    "s2={3,6,7}\n",
    "print(s1.union(s2))\n"
   ]
  },
  {
   "cell_type": "code",
   "execution_count": 10,
   "metadata": {},
   "outputs": [
    {
     "name": "stdout",
     "output_type": "stream",
     "text": [
      "{1, 2, 5, 6} {3, 6, 7}\n"
     ]
    }
   ],
   "source": [
    "print(s1,s2)"
   ]
  },
  {
   "cell_type": "code",
   "execution_count": 12,
   "metadata": {},
   "outputs": [
    {
     "name": "stdout",
     "output_type": "stream",
     "text": [
      "{1, 2, 3, 5, 6, 7} {3, 6, 7}\n"
     ]
    }
   ],
   "source": [
    "s1.update(s2)   #s1 ke ander vo value bhi lao jo s2 me hai\n",
    "print(s1,s2)"
   ]
  },
  {
   "cell_type": "code",
   "execution_count": 14,
   "metadata": {},
   "outputs": [
    {
     "name": "stdout",
     "output_type": "stream",
     "text": [
      "{'tokyo', 'madrid'}\n",
      "{'delhi', 'berlin', 'tokyo', 'madrid'} {'kabul', 'tokyo', 'madrid', 'seoul'}\n"
     ]
    }
   ],
   "source": [
    "cities1={\"tokyo\",\"madrid\",\"berlin\",\"delhi\"}\n",
    "cities2={\"tokyo\",\"seoul\",\"kabul\",\"madrid\"}\n",
    "cities3=cities1.intersection(cities2)\n",
    "print(cities3)\n",
    "print(cities1,cities2)\n",
    "\n"
   ]
  },
  {
   "cell_type": "code",
   "execution_count": 16,
   "metadata": {},
   "outputs": [
    {
     "name": "stdout",
     "output_type": "stream",
     "text": [
      "{'tokyo', 'madrid'} {'kabul', 'tokyo', 'madrid', 'seoul'}\n"
     ]
    }
   ],
   "source": [
    "cities1={\"tokyo\",\"madrid\",\"berlin\",\"delhi\"}\n",
    "cities2={\"tokyo\",\"seoul\",\"kabul\",\"madrid\"}\n",
    "cities1.intersection_update(cities2)\n",
    "\n",
    "print(cities1,cities2)\n",
    "\n"
   ]
  },
  {
   "cell_type": "code",
   "execution_count": 18,
   "metadata": {},
   "outputs": [
    {
     "name": "stdout",
     "output_type": "stream",
     "text": [
      "{'seoul', 'berlin', 'kabul', 'delhi'}\n",
      "{'delhi', 'berlin', 'tokyo', 'madrid'} {'kabul', 'tokyo', 'madrid', 'seoul'}\n"
     ]
    }
   ],
   "source": [
    "cities1={\"tokyo\",\"madrid\",\"berlin\",\"delhi\"}\n",
    "cities2={\"tokyo\",\"seoul\",\"kabul\",\"madrid\"}\n",
    "cities3=cities1.symmetric_difference(cities2)      #(AUB)-(AIB)\n",
    "print(cities3)\n",
    "print(cities1,cities2)\n",
    "\n"
   ]
  },
  {
   "cell_type": "code",
   "execution_count": 19,
   "metadata": {},
   "outputs": [
    {
     "name": "stdout",
     "output_type": "stream",
     "text": [
      "{'berlin', 'delhi'}\n",
      "{'delhi', 'berlin', 'tokyo', 'madrid'} {'kabul', 'tokyo', 'madrid', 'seoul'}\n"
     ]
    }
   ],
   "source": [
    "cities1={\"tokyo\",\"madrid\",\"berlin\",\"delhi\"}\n",
    "cities2={\"tokyo\",\"seoul\",\"kabul\",\"madrid\"}\n",
    "cities3=cities1.difference(cities2)      #(A)-(B)\n",
    "print(cities3)\n",
    "print(cities1,cities2)\n",
    "\n"
   ]
  },
  {
   "cell_type": "code",
   "execution_count": 23,
   "metadata": {},
   "outputs": [
    {
     "name": "stdout",
     "output_type": "stream",
     "text": [
      "False\n"
     ]
    }
   ],
   "source": [
    "cities1={\"tokyo\",\"madrid\",\"berlin\",\"delhi\"}\n",
    "cities2={\"tokyo\",\"seoul\",\"kabul\",\"madrid\"}\n",
    "cities3=cities1.isdisjoint(cities2)      #koi element common n ho\n",
    "print(cities3)\n",
    "\n",
    "\n"
   ]
  },
  {
   "cell_type": "code",
   "execution_count": 22,
   "metadata": {},
   "outputs": [
    {
     "name": "stdout",
     "output_type": "stream",
     "text": [
      "True\n"
     ]
    }
   ],
   "source": [
    "cities1={\"tokyo1\",\"madrid1\",\"berlin\",\"delhi\"}\n",
    "cities2={\"tokyo\",\"seoul\",\"kabul\",\"madrid\"}\n",
    "cities3=cities1.isdisjoint(cities2)      \n",
    "print(cities3)\n",
    "\n",
    "\n"
   ]
  },
  {
   "cell_type": "code",
   "execution_count": 24,
   "metadata": {},
   "outputs": [
    {
     "name": "stdout",
     "output_type": "stream",
     "text": [
      "False\n"
     ]
    }
   ],
   "source": [
    "cities1={\"tokyo\",\"madrid\",\"berlin\",\"delhi\"}\n",
    "cities2={\"seoul\",\"kabul\"}\n",
    "cities3=cities1.issuperset(cities2)      #cities2 ki pori values cities1 me hai,,to cities1 superset hai cities2 ka\n",
    "print(cities3)                           #cities2 ki pori values cities1 me hai,,to cities2 subset hai cities1 ka\n",
    "\n",
    "\n"
   ]
  },
  {
   "cell_type": "code",
   "execution_count": 25,
   "metadata": {},
   "outputs": [
    {
     "name": "stdout",
     "output_type": "stream",
     "text": [
      "True\n"
     ]
    }
   ],
   "source": [
    "cities1={\"seoul\",\"kabul\",\"berlin\",\"delhi\"}\n",
    "cities2={\"seoul\",\"kabul\"}\n",
    "cities3=cities1.issuperset(cities2)     \n",
    "print(cities3) "
   ]
  },
  {
   "cell_type": "code",
   "execution_count": 26,
   "metadata": {},
   "outputs": [
    {
     "name": "stdout",
     "output_type": "stream",
     "text": [
      "True\n"
     ]
    }
   ],
   "source": [
    "cities1={\"seoul\",\"kabul\",\"berlin\",\"delhi\"}\n",
    "cities2={\"seoul\",\"kabul\"}\n",
    "cities3=cities2.issubset(cities1)     \n",
    "print(cities3) "
   ]
  },
  {
   "cell_type": "code",
   "execution_count": 28,
   "metadata": {},
   "outputs": [
    {
     "name": "stdout",
     "output_type": "stream",
     "text": [
      "{'seoul', 'Sagar', 'kabul', 'berlin', 'delhi'}\n"
     ]
    }
   ],
   "source": [
    "cities1={\"seoul\",\"kabul\",\"berlin\",\"delhi\"}\n",
    "cities1.add(\"Sagar\")     \n",
    "print(cities1) "
   ]
  },
  {
   "cell_type": "code",
   "execution_count": 32,
   "metadata": {},
   "outputs": [
    {
     "name": "stdout",
     "output_type": "stream",
     "text": [
      "{'kabul', 'berlin', 'delhi'}\n"
     ]
    }
   ],
   "source": [
    "cities1={\"seoul\",\"kabul\",\"berlin\",\"delhi\"}\n",
    "cities1.remove(\"seoul\")    \n",
    "print(cities1) "
   ]
  },
  {
   "cell_type": "code",
   "execution_count": 33,
   "metadata": {},
   "outputs": [
    {
     "ename": "KeyError",
     "evalue": "'seoul1'",
     "output_type": "error",
     "traceback": [
      "\u001b[1;31m---------------------------------------------------------------------------\u001b[0m",
      "\u001b[1;31mKeyError\u001b[0m                                  Traceback (most recent call last)",
      "\u001b[1;32mc:\\Users\\mayan\\OneDrive\\Desktop\\python\\code with Harry.ipynb Cell 68\u001b[0m line \u001b[0;36m2\n\u001b[0;32m      <a href='vscode-notebook-cell:/c%3A/Users/mayan/OneDrive/Desktop/python/code%20with%20Harry.ipynb#Y125sZmlsZQ%3D%3D?line=0'>1</a>\u001b[0m cities1\u001b[39m=\u001b[39m{\u001b[39m\"\u001b[39m\u001b[39mseoul\u001b[39m\u001b[39m\"\u001b[39m,\u001b[39m\"\u001b[39m\u001b[39mkabul\u001b[39m\u001b[39m\"\u001b[39m,\u001b[39m\"\u001b[39m\u001b[39mberlin\u001b[39m\u001b[39m\"\u001b[39m,\u001b[39m\"\u001b[39m\u001b[39mdelhi\u001b[39m\u001b[39m\"\u001b[39m}\n\u001b[1;32m----> <a href='vscode-notebook-cell:/c%3A/Users/mayan/OneDrive/Desktop/python/code%20with%20Harry.ipynb#Y125sZmlsZQ%3D%3D?line=1'>2</a>\u001b[0m cities1\u001b[39m.\u001b[39;49mremove(\u001b[39m\"\u001b[39;49m\u001b[39mseoul1\u001b[39;49m\u001b[39m\"\u001b[39;49m)    \n\u001b[0;32m      <a href='vscode-notebook-cell:/c%3A/Users/mayan/OneDrive/Desktop/python/code%20with%20Harry.ipynb#Y125sZmlsZQ%3D%3D?line=2'>3</a>\u001b[0m \u001b[39mprint\u001b[39m(cities1) \n",
      "\u001b[1;31mKeyError\u001b[0m: 'seoul1'"
     ]
    }
   ],
   "source": [
    "cities1={\"seoul\",\"kabul\",\"berlin\",\"delhi\"}\n",
    "cities1.remove(\"seoul1\")    \n",
    "print(cities1) "
   ]
  },
  {
   "cell_type": "code",
   "execution_count": 34,
   "metadata": {},
   "outputs": [
    {
     "name": "stdout",
     "output_type": "stream",
     "text": [
      "{'kabul', 'berlin', 'delhi'}\n"
     ]
    }
   ],
   "source": [
    "cities1={\"seoul\",\"kabul\",\"berlin\",\"delhi\"}\n",
    "cities1.discard(\"seoul\")    \n",
    "print(cities1) "
   ]
  },
  {
   "cell_type": "code",
   "execution_count": 35,
   "metadata": {},
   "outputs": [
    {
     "name": "stdout",
     "output_type": "stream",
     "text": [
      "{'kabul', 'berlin', 'delhi', 'seoul'}\n"
     ]
    }
   ],
   "source": [
    "cities1={\"seoul\",\"kabul\",\"berlin\",\"delhi\"}\n",
    "cities1.discard(\"seoul1\")    \n",
    "print(cities1) "
   ]
  },
  {
   "cell_type": "code",
   "execution_count": 36,
   "metadata": {},
   "outputs": [
    {
     "name": "stdout",
     "output_type": "stream",
     "text": [
      "{'berlin', 'delhi', 'seoul'}\n",
      "kabul\n"
     ]
    }
   ],
   "source": [
    "cities1={\"seoul\",\"kabul\",\"berlin\",\"delhi\"}\n",
    "item=cities1.pop()     # pop se koi rendom value choose hoti hai            \n",
    "print(cities1) \n",
    "print(item)"
   ]
  },
  {
   "cell_type": "code",
   "execution_count": 39,
   "metadata": {},
   "outputs": [
    {
     "ename": "NameError",
     "evalue": "name 'cities1' is not defined",
     "output_type": "error",
     "traceback": [
      "\u001b[1;31m---------------------------------------------------------------------------\u001b[0m",
      "\u001b[1;31mNameError\u001b[0m                                 Traceback (most recent call last)",
      "\u001b[1;32mc:\\Users\\mayan\\OneDrive\\Desktop\\python\\code with Harry.ipynb Cell 72\u001b[0m line \u001b[0;36m3\n\u001b[0;32m      <a href='vscode-notebook-cell:/c%3A/Users/mayan/OneDrive/Desktop/python/code%20with%20Harry.ipynb#Y132sZmlsZQ%3D%3D?line=0'>1</a>\u001b[0m cities1\u001b[39m=\u001b[39m{\u001b[39m\"\u001b[39m\u001b[39mseoul\u001b[39m\u001b[39m\"\u001b[39m,\u001b[39m\"\u001b[39m\u001b[39mkabul\u001b[39m\u001b[39m\"\u001b[39m,\u001b[39m\"\u001b[39m\u001b[39mberlin\u001b[39m\u001b[39m\"\u001b[39m,\u001b[39m\"\u001b[39m\u001b[39mdelhi\u001b[39m\u001b[39m\"\u001b[39m}\n\u001b[0;32m      <a href='vscode-notebook-cell:/c%3A/Users/mayan/OneDrive/Desktop/python/code%20with%20Harry.ipynb#Y132sZmlsZQ%3D%3D?line=1'>2</a>\u001b[0m \u001b[39mdel\u001b[39;00m cities1                \n\u001b[1;32m----> <a href='vscode-notebook-cell:/c%3A/Users/mayan/OneDrive/Desktop/python/code%20with%20Harry.ipynb#Y132sZmlsZQ%3D%3D?line=2'>3</a>\u001b[0m \u001b[39mprint\u001b[39m(cities1)\n",
      "\u001b[1;31mNameError\u001b[0m: name 'cities1' is not defined"
     ]
    }
   ],
   "source": [
    "cities1={\"seoul\",\"kabul\",\"berlin\",\"delhi\"}\n",
    "del cities1                \n",
    "print(cities1)\n"
   ]
  },
  {
   "cell_type": "code",
   "execution_count": 40,
   "metadata": {},
   "outputs": [
    {
     "name": "stdout",
     "output_type": "stream",
     "text": [
      "set()\n"
     ]
    }
   ],
   "source": [
    "cities1={\"seoul\",\"kabul\",\"berlin\",\"delhi\"}\n",
    "cities1.clear()                \n",
    "print(cities1)\n"
   ]
  },
  {
   "cell_type": "code",
   "execution_count": 46,
   "metadata": {},
   "outputs": [
    {
     "name": "stdout",
     "output_type": "stream",
     "text": [
      "carla is present.\n"
     ]
    }
   ],
   "source": [
    "info={\"carla\",19,\"false\",False,5.9}\n",
    "if \"carla\" in info:\n",
    "    print(\"carla is present.\")\n",
    "else:\n",
    "    print(\"carla is absent.\")\n",
    "    "
   ]
  },
  {
   "cell_type": "markdown",
   "metadata": {},
   "source": [
    "# Day 33 (Dictionary)"
   ]
  },
  {
   "cell_type": "code",
   "execution_count": 55,
   "metadata": {},
   "outputs": [
    {
     "name": "stdout",
     "output_type": "stream",
     "text": [
      "Human being\n"
     ]
    }
   ],
   "source": [
    "dic = {\n",
    "    \"Harry\" : \"Human being\",\n",
    "    \"Spoon\" : \"Object\"\n",
    "}\n",
    "\n",
    "print(dic[\"Harry\"])"
   ]
  },
  {
   "cell_type": "code",
   "execution_count": 62,
   "metadata": {},
   "outputs": [
    {
     "name": "stdout",
     "output_type": "stream",
     "text": [
      "Mayank\n",
      "Neha\n"
     ]
    }
   ],
   "source": [
    "dic = {\n",
    "    111 : \"Mayank\",\n",
    "    222 : \"Raja\",\n",
    "    333 : \"Rajiv\",\n",
    "    444 : \"Neha\"\n",
    "}\n",
    "\n",
    "print(dic[111])\n",
    "print(dic[444])\n"
   ]
  },
  {
   "cell_type": "code",
   "execution_count": 63,
   "metadata": {},
   "outputs": [
    {
     "name": "stdout",
     "output_type": "stream",
     "text": [
      "{'name': 'Karan', 'age': 19, 'eligible': True}\n"
     ]
    }
   ],
   "source": [
    "info = {'name':'Karan', \n",
    "        'age':19, \n",
    "        'eligible':True}\n",
    "print(info)"
   ]
  },
  {
   "cell_type": "code",
   "execution_count": 66,
   "metadata": {},
   "outputs": [
    {
     "name": "stdout",
     "output_type": "stream",
     "text": [
      "Karan\n",
      "Karan\n",
      "True\n"
     ]
    }
   ],
   "source": [
    "info = {'name':'Karan', \n",
    "        'age':19, \n",
    "        'eligible':True}\n",
    "print(info['name'])\n",
    "print(info[\"name\"])\n",
    "print(info['eligible'])\n",
    "\n"
   ]
  },
  {
   "cell_type": "code",
   "execution_count": 67,
   "metadata": {},
   "outputs": [
    {
     "name": "stdout",
     "output_type": "stream",
     "text": [
      "Karan\n",
      "Karan\n"
     ]
    }
   ],
   "source": [
    "info = {'name':'Karan', \n",
    "        'age':19, \n",
    "        'eligible':True}\n",
    "print(info['name'])\n",
    "print(info.get('name'))\n",
    "\n",
    "\n"
   ]
  },
  {
   "cell_type": "code",
   "execution_count": 68,
   "metadata": {},
   "outputs": [
    {
     "ename": "KeyError",
     "evalue": "'name2'",
     "output_type": "error",
     "traceback": [
      "\u001b[1;31m---------------------------------------------------------------------------\u001b[0m",
      "\u001b[1;31mKeyError\u001b[0m                                  Traceback (most recent call last)",
      "\u001b[1;32mc:\\Users\\mayan\\OneDrive\\Desktop\\python\\code with Harry.ipynb Cell 81\u001b[0m line \u001b[0;36m4\n\u001b[0;32m      <a href='vscode-notebook-cell:/c%3A/Users/mayan/OneDrive/Desktop/python/code%20with%20Harry.ipynb#Y144sZmlsZQ%3D%3D?line=0'>1</a>\u001b[0m info \u001b[39m=\u001b[39m {\u001b[39m'\u001b[39m\u001b[39mname\u001b[39m\u001b[39m'\u001b[39m:\u001b[39m'\u001b[39m\u001b[39mKaran\u001b[39m\u001b[39m'\u001b[39m, \n\u001b[0;32m      <a href='vscode-notebook-cell:/c%3A/Users/mayan/OneDrive/Desktop/python/code%20with%20Harry.ipynb#Y144sZmlsZQ%3D%3D?line=1'>2</a>\u001b[0m         \u001b[39m'\u001b[39m\u001b[39mage\u001b[39m\u001b[39m'\u001b[39m:\u001b[39m19\u001b[39m, \n\u001b[0;32m      <a href='vscode-notebook-cell:/c%3A/Users/mayan/OneDrive/Desktop/python/code%20with%20Harry.ipynb#Y144sZmlsZQ%3D%3D?line=2'>3</a>\u001b[0m         \u001b[39m'\u001b[39m\u001b[39meligible\u001b[39m\u001b[39m'\u001b[39m:\u001b[39mTrue\u001b[39;00m}\n\u001b[1;32m----> <a href='vscode-notebook-cell:/c%3A/Users/mayan/OneDrive/Desktop/python/code%20with%20Harry.ipynb#Y144sZmlsZQ%3D%3D?line=3'>4</a>\u001b[0m \u001b[39mprint\u001b[39m(info[\u001b[39m'\u001b[39;49m\u001b[39mname2\u001b[39;49m\u001b[39m'\u001b[39;49m])\n\u001b[0;32m      <a href='vscode-notebook-cell:/c%3A/Users/mayan/OneDrive/Desktop/python/code%20with%20Harry.ipynb#Y144sZmlsZQ%3D%3D?line=4'>5</a>\u001b[0m \u001b[39mprint\u001b[39m(info\u001b[39m.\u001b[39mget(\u001b[39m'\u001b[39m\u001b[39mname2\u001b[39m\u001b[39m'\u001b[39m))\n",
      "\u001b[1;31mKeyError\u001b[0m: 'name2'"
     ]
    }
   ],
   "source": [
    "info = {'name':'Karan', \n",
    "        'age':19, \n",
    "        'eligible':True}\n",
    "print(info['name2'])\n",
    "print(info.get('name2'))\n",
    "\n",
    "\n"
   ]
  },
  {
   "cell_type": "code",
   "execution_count": 69,
   "metadata": {},
   "outputs": [
    {
     "name": "stdout",
     "output_type": "stream",
     "text": [
      "None\n"
     ]
    }
   ],
   "source": [
    "info = {'name':'Karan', \n",
    "        'age':19, \n",
    "        'eligible':True}\n",
    "# print(info['name2'])\n",
    "print(info.get('name2'))\n",
    "\n",
    "\n"
   ]
  },
  {
   "cell_type": "code",
   "execution_count": 1,
   "metadata": {},
   "outputs": [
    {
     "name": "stdout",
     "output_type": "stream",
     "text": [
      "{'name': 'Karan', 'age': 19, 'eligible': True}\n",
      "dict_keys(['name', 'age', 'eligible'])\n",
      "dict_values(['Karan', 19, True])\n"
     ]
    }
   ],
   "source": [
    "info = {'name':'Karan', \n",
    "        'age':19, \n",
    "        'eligible':True}\n",
    "print(info)\n",
    "print(info.keys())\n",
    "print(info.values())"
   ]
  },
  {
   "cell_type": "code",
   "execution_count": 72,
   "metadata": {},
   "outputs": [
    {
     "name": "stdout",
     "output_type": "stream",
     "text": [
      "{'name': 'Karan', 'age': 19, 'eligible': True}\n",
      "Karan\n",
      "19\n",
      "True\n"
     ]
    }
   ],
   "source": [
    "info = {'name':'Karan', \n",
    "        'age':19, \n",
    "        'eligible':True}\n",
    "print(info)\n",
    "for key in info.keys():\n",
    "    print(info[key])"
   ]
  },
  {
   "cell_type": "code",
   "execution_count": 2,
   "metadata": {},
   "outputs": [
    {
     "name": "stdout",
     "output_type": "stream",
     "text": [
      "{'name': 'Karan', 'age': 19, 'eligible': True}\n",
      "The value corresponding to the key name is Karan\n",
      "The value corresponding to the key age is 19\n",
      "The value corresponding to the key eligible is True\n"
     ]
    }
   ],
   "source": [
    "info = {'name':'Karan', \n",
    "        'age':19, \n",
    "        'eligible':True}\n",
    "print(info)\n",
    "for key in info.keys():\n",
    "    print(f\"The value corresponding to the key {key} is {info[key]}\")"
   ]
  },
  {
   "cell_type": "code",
   "execution_count": 4,
   "metadata": {},
   "outputs": [
    {
     "name": "stdout",
     "output_type": "stream",
     "text": [
      "dict_items([('name', 'Karan'), ('age', 19), ('eligible', True)])\n",
      "The value corresponding to the key name is Karan\n",
      "The value corresponding to the key age is 19\n",
      "The value corresponding to the key eligible is True\n"
     ]
    }
   ],
   "source": [
    "info = {'name':'Karan', \n",
    "        'age':19, \n",
    "        'eligible':True}\n",
    "print(info.items())     #items hame key,value pair de deta hai\n",
    "for key,value in info.items():\n",
    "    print(f\"The value corresponding to the key {key} is {value}\")"
   ]
  },
  {
   "cell_type": "markdown",
   "metadata": {},
   "source": [
    "# Day 34"
   ]
  },
  {
   "cell_type": "code",
   "execution_count": 5,
   "metadata": {},
   "outputs": [
    {
     "name": "stdout",
     "output_type": "stream",
     "text": [
      "{122: 45, 123: 89, 567: 69, 670: 69, 222: 67, 566: 90}\n"
     ]
    }
   ],
   "source": [
    "#Method 1)update\n",
    "ep1={122:45,123:89,567:69,670:69}  #employee id:performence\n",
    "ep2={222:67,566:90}\n",
    "ep1.update(ep2)\n",
    "print(ep1)"
   ]
  },
  {
   "cell_type": "code",
   "execution_count": 1,
   "metadata": {},
   "outputs": [
    {
     "name": "stdout",
     "output_type": "stream",
     "text": [
      "{}\n"
     ]
    }
   ],
   "source": [
    "ep1={122:45,123:89,567:69,670:69}  #employee id:performence\n",
    "ep2={222:67,566:90}\n",
    "ep1.clear()\n",
    "print(ep1)"
   ]
  },
  {
   "cell_type": "code",
   "execution_count": 2,
   "metadata": {},
   "outputs": [
    {
     "name": "stdout",
     "output_type": "stream",
     "text": [
      "{}\n"
     ]
    }
   ],
   "source": [
    "empt={}\n",
    "print(empt)"
   ]
  },
  {
   "cell_type": "code",
   "execution_count": 3,
   "metadata": {},
   "outputs": [
    {
     "name": "stdout",
     "output_type": "stream",
     "text": [
      "{123: 89, 567: 69, 670: 69}\n"
     ]
    }
   ],
   "source": [
    "ep1={122:45,123:89,567:69,670:69}  #employee id:performence\n",
    "ep2={222:67,566:90}\n",
    "ep1.pop(122)       #remove\n",
    "print(ep1)"
   ]
  },
  {
   "cell_type": "code",
   "execution_count": 4,
   "metadata": {},
   "outputs": [
    {
     "name": "stdout",
     "output_type": "stream",
     "text": [
      "{122: 45, 123: 89, 567: 69}\n"
     ]
    }
   ],
   "source": [
    "ep1={122:45,123:89,567:69,670:69}  #employee id:performence\n",
    "ep2={222:67,566:90}\n",
    "ep1.popitem()                      #last wala key,value pair remove\n",
    "print(ep1)                 "
   ]
  },
  {
   "cell_type": "code",
   "execution_count": 5,
   "metadata": {},
   "outputs": [
    {
     "ename": "NameError",
     "evalue": "name 'ep1' is not defined",
     "output_type": "error",
     "traceback": [
      "\u001b[1;31m---------------------------------------------------------------------------\u001b[0m",
      "\u001b[1;31mNameError\u001b[0m                                 Traceback (most recent call last)",
      "\u001b[1;32mc:\\Users\\mayan\\OneDrive\\Desktop\\python\\code with Harry.ipynb Cell 93\u001b[0m line \u001b[0;36m4\n\u001b[0;32m      <a href='vscode-notebook-cell:/c%3A/Users/mayan/OneDrive/Desktop/python/code%20with%20Harry.ipynb#Y161sZmlsZQ%3D%3D?line=1'>2</a>\u001b[0m ep2\u001b[39m=\u001b[39m{\u001b[39m222\u001b[39m:\u001b[39m67\u001b[39m,\u001b[39m566\u001b[39m:\u001b[39m90\u001b[39m}\n\u001b[0;32m      <a href='vscode-notebook-cell:/c%3A/Users/mayan/OneDrive/Desktop/python/code%20with%20Harry.ipynb#Y161sZmlsZQ%3D%3D?line=2'>3</a>\u001b[0m \u001b[39mdel\u001b[39;00m ep1\n\u001b[1;32m----> <a href='vscode-notebook-cell:/c%3A/Users/mayan/OneDrive/Desktop/python/code%20with%20Harry.ipynb#Y161sZmlsZQ%3D%3D?line=3'>4</a>\u001b[0m \u001b[39mprint\u001b[39m(ep1)\n",
      "\u001b[1;31mNameError\u001b[0m: name 'ep1' is not defined"
     ]
    }
   ],
   "source": [
    "ep1={122:45,123:89,567:69,670:69}  #employee id:performence\n",
    "ep2={222:67,566:90}\n",
    "del ep1\n",
    "print(ep1)"
   ]
  },
  {
   "cell_type": "code",
   "execution_count": 7,
   "metadata": {},
   "outputs": [
    {
     "name": "stdout",
     "output_type": "stream",
     "text": [
      "{123: 89, 567: 69, 670: 69}\n"
     ]
    }
   ],
   "source": [
    "ep1={122:45,123:89,567:69,670:69}  #employee id:performence\n",
    "ep2={222:67,566:90}\n",
    "del ep1[122]\n",
    "print(ep1)"
   ]
  },
  {
   "cell_type": "code",
   "execution_count": 8,
   "metadata": {},
   "outputs": [],
   "source": [
    "#python dictionary documentation"
   ]
  },
  {
   "cell_type": "markdown",
   "metadata": {},
   "source": [
    "# Day 35"
   ]
  },
  {
   "cell_type": "code",
   "execution_count": 10,
   "metadata": {},
   "outputs": [
    {
     "name": "stdout",
     "output_type": "stream",
     "text": [
      "0\n",
      "1\n",
      "2\n",
      "3\n",
      "4\n",
      "Sorry no i\n"
     ]
    }
   ],
   "source": [
    "for i in range(5):\n",
    "    print(i)\n",
    "else:\n",
    "    print(\"Sorry no i\")"
   ]
  },
  {
   "cell_type": "code",
   "execution_count": 11,
   "metadata": {},
   "outputs": [
    {
     "name": "stdout",
     "output_type": "stream",
     "text": [
      "Sorry no i\n"
     ]
    }
   ],
   "source": [
    "for i in []:\n",
    "    print(i)\n",
    "else:\n",
    "    print(\"Sorry no i\")"
   ]
  },
  {
   "cell_type": "code",
   "execution_count": 19,
   "metadata": {},
   "outputs": [
    {
     "name": "stdout",
     "output_type": "stream",
     "text": [
      "0\n",
      "1\n",
      "2\n",
      "3\n",
      "4\n"
     ]
    }
   ],
   "source": [
    "for i in range(6):\n",
    "    print(i)\n",
    "    if i==4:\n",
    "        break\n",
    "else:\n",
    "    print(\"Sorry no i\")"
   ]
  },
  {
   "cell_type": "code",
   "execution_count": 21,
   "metadata": {},
   "outputs": [
    {
     "name": "stdout",
     "output_type": "stream",
     "text": [
      "0\n",
      "1\n",
      "2\n",
      "3\n"
     ]
    }
   ],
   "source": [
    "i=0\n",
    "while i<7:\n",
    "    print(i)\n",
    "    i=i+1\n",
    "    if i==4:\n",
    "        break\n",
    "else:\n",
    "    print(\"Sorry no i\")\n",
    "    \n"
   ]
  },
  {
   "cell_type": "code",
   "execution_count": 22,
   "metadata": {},
   "outputs": [
    {
     "name": "stdout",
     "output_type": "stream",
     "text": [
      "0\n",
      "1\n",
      "2\n",
      "3\n",
      "4\n",
      "5\n",
      "6\n",
      "Sorry no i\n"
     ]
    }
   ],
   "source": [
    "i=0\n",
    "while i<7:\n",
    "    print(i)\n",
    "    i=i+1\n",
    "\n",
    "    \n",
    "else:\n",
    "    print(\"Sorry no i\")\n",
    "    \n",
    "\n"
   ]
  },
  {
   "cell_type": "code",
   "execution_count": 23,
   "metadata": {},
   "outputs": [
    {
     "name": "stdout",
     "output_type": "stream",
     "text": [
      "iteration no {} in for loop 1\n",
      "iteration no {} in for loop 2\n",
      "iteration no {} in for loop 3\n",
      "iteration no {} in for loop 4\n",
      "iteration no {} in for loop 5\n",
      "else block in loop\n",
      "Out of loop\n"
     ]
    }
   ],
   "source": [
    "for x in range(5):\n",
    "    print(\"iteration no {} in for loop\",format(x+1))\n",
    "else:\n",
    "    print(\"else block in loop\")\n",
    "print(\"Out of loop\")"
   ]
  },
  {
   "cell_type": "markdown",
   "metadata": {},
   "source": [
    "# Day 36"
   ]
  },
  {
   "cell_type": "code",
   "execution_count": 24,
   "metadata": {},
   "outputs": [
    {
     "name": "stdout",
     "output_type": "stream",
     "text": [
      "Multiplication table of 7 is:\n",
      "7X1=7\n",
      "7X2=14\n",
      "7X3=21\n",
      "7X4=28\n",
      "7X5=35\n",
      "7X6=42\n",
      "7X7=49\n",
      "7X8=56\n",
      "7X9=63\n",
      "7X10=70\n"
     ]
    }
   ],
   "source": [
    "a=input(\"Enter the number:\")\n",
    "print(f\"Multiplication table of {a} is:\")\n",
    "for i in range(1,11):\n",
    "    print(f\"{int(a)}X{i}={int(a)*i}\")"
   ]
  },
  {
   "cell_type": "code",
   "execution_count": 25,
   "metadata": {},
   "outputs": [
    {
     "name": "stdout",
     "output_type": "stream",
     "text": [
      "Multiplication table of Maya is:\n"
     ]
    },
    {
     "ename": "ValueError",
     "evalue": "invalid literal for int() with base 10: 'Maya'",
     "output_type": "error",
     "traceback": [
      "\u001b[1;31m---------------------------------------------------------------------------\u001b[0m",
      "\u001b[1;31mValueError\u001b[0m                                Traceback (most recent call last)",
      "\u001b[1;32mc:\\Users\\mayan\\OneDrive\\Desktop\\python\\code with Harry.ipynb Cell 105\u001b[0m line \u001b[0;36m4\n\u001b[0;32m      <a href='vscode-notebook-cell:/c%3A/Users/mayan/OneDrive/Desktop/python/code%20with%20Harry.ipynb#Y206sZmlsZQ%3D%3D?line=1'>2</a>\u001b[0m \u001b[39mprint\u001b[39m(\u001b[39mf\u001b[39m\u001b[39m\"\u001b[39m\u001b[39mMultiplication table of \u001b[39m\u001b[39m{\u001b[39;00ma\u001b[39m}\u001b[39;00m\u001b[39m is:\u001b[39m\u001b[39m\"\u001b[39m)\n\u001b[0;32m      <a href='vscode-notebook-cell:/c%3A/Users/mayan/OneDrive/Desktop/python/code%20with%20Harry.ipynb#Y206sZmlsZQ%3D%3D?line=2'>3</a>\u001b[0m \u001b[39mfor\u001b[39;00m i \u001b[39min\u001b[39;00m \u001b[39mrange\u001b[39m(\u001b[39m1\u001b[39m,\u001b[39m11\u001b[39m):\n\u001b[1;32m----> <a href='vscode-notebook-cell:/c%3A/Users/mayan/OneDrive/Desktop/python/code%20with%20Harry.ipynb#Y206sZmlsZQ%3D%3D?line=3'>4</a>\u001b[0m     \u001b[39mprint\u001b[39m(\u001b[39mf\u001b[39m\u001b[39m\"\u001b[39m\u001b[39m{\u001b[39;00m\u001b[39mint\u001b[39;49m(a)\u001b[39m}\u001b[39;00m\u001b[39mX\u001b[39m\u001b[39m{\u001b[39;00mi\u001b[39m}\u001b[39;00m\u001b[39m=\u001b[39m\u001b[39m{\u001b[39;00m\u001b[39mint\u001b[39m(a)\u001b[39m*\u001b[39mi\u001b[39m}\u001b[39;00m\u001b[39m\"\u001b[39m)\n",
      "\u001b[1;31mValueError\u001b[0m: invalid literal for int() with base 10: 'Maya'"
     ]
    }
   ],
   "source": [
    "a=input(\"Enter the number:\")\n",
    "print(f\"Multiplication table of {a} is:\")\n",
    "for i in range(1,11):\n",
    "    print(f\"{int(a)}X{i}={int(a)*i}\")"
   ]
  },
  {
   "cell_type": "code",
   "execution_count": 26,
   "metadata": {},
   "outputs": [
    {
     "name": "stdout",
     "output_type": "stream",
     "text": [
      "Multiplication table of Maya is:\n",
      "Invalid Input\n",
      "Some imp lines of code\n",
      "End of progarm\n"
     ]
    }
   ],
   "source": [
    "a=input(\"Enter the number:\")\n",
    "print(f\"Multiplication table of {a} is:\")\n",
    "try:\n",
    "    for i in range(1,11):\n",
    "        print(f\"{int(a)}X{i}={int(a)*i}\")\n",
    "except:\n",
    "    print(\"Invalid Input\")\n",
    "\n",
    "print(\"Some imp lines of code\")\n",
    "print(\"End of progarm\")"
   ]
  },
  {
   "cell_type": "code",
   "execution_count": 27,
   "metadata": {},
   "outputs": [
    {
     "name": "stdout",
     "output_type": "stream",
     "text": [
      "Multiplication table of Maya is:\n",
      "e\n",
      "Some imp lines of code\n",
      "End of progarm\n"
     ]
    }
   ],
   "source": [
    "a=input(\"Enter the number:\")\n",
    "print(f\"Multiplication table of {a} is:\")\n",
    "try:\n",
    "    for i in range(1,11):\n",
    "        print(f\"{int(a)}X{i}={int(a)*i}\")\n",
    "except Exception as e:\n",
    "    print(\"e\")\n",
    "\n",
    "print(\"Some imp lines of code\")\n",
    "print(\"End of progarm\")"
   ]
  },
  {
   "cell_type": "code",
   "execution_count": 32,
   "metadata": {},
   "outputs": [
    {
     "name": "stdout",
     "output_type": "stream",
     "text": [
      "Index Error\n"
     ]
    }
   ],
   "source": [
    "try:\n",
    "    num=int(input(\"Enter an integer:\"))\n",
    "    a=[6,3]\n",
    "    print(a[num])\n",
    "except ValueError:\n",
    "    print(\"Number entered is not an integer\")\n",
    "except IndexError:\n",
    "    print(\"Index Error\")"
   ]
  },
  {
   "cell_type": "code",
   "execution_count": null,
   "metadata": {},
   "outputs": [],
   "source": []
  }
 ],
 "metadata": {
  "kernelspec": {
   "display_name": "Python 3",
   "language": "python",
   "name": "python3"
  },
  "language_info": {
   "codemirror_mode": {
    "name": "ipython",
    "version": 3
   },
   "file_extension": ".py",
   "mimetype": "text/x-python",
   "name": "python",
   "nbconvert_exporter": "python",
   "pygments_lexer": "ipython3",
   "version": "3.11.4"
  },
  "orig_nbformat": 4
 },
 "nbformat": 4,
 "nbformat_minor": 2
}
