{
 "cells": [
  {
   "cell_type": "code",
   "execution_count": 2,
   "metadata": {},
   "outputs": [
    {
     "name": "stdout",
     "output_type": "stream",
     "text": [
      "[2, 3, 5, 7, 67, 47, 43]\n"
     ]
    }
   ],
   "source": [
    "a=[2,4,3,5,6,7,8,9,45,67,47,43,98]\n",
    "b=[]\n",
    "\n",
    "for x in a:\n",
    "    j=0\n",
    "    for i in range(2,int(x**0.5)+1):\n",
    "        if x%i==0:\n",
    "            j=j+1\n",
    "        \n",
    "    if j==0:\n",
    "        b.append(x)\n",
    "print(b)\n",
    "    \n"
   ]
  },
  {
   "cell_type": "markdown",
   "metadata": {},
   "source": [
    "Given a list of integers, find out how many times each integer ocurs in the list."
   ]
  },
  {
   "cell_type": "code",
   "execution_count": 3,
   "metadata": {},
   "outputs": [
    {
     "name": "stdout",
     "output_type": "stream",
     "text": [
      "2 is 3 times\n",
      "3 is 4 times\n",
      "4 is 3 times\n",
      "5 is 2 times\n",
      "6 is 2 times\n",
      "7 is 1 times\n",
      "89 is 1 times\n",
      "9 is 1 times\n",
      "10 is 1 times\n"
     ]
    }
   ],
   "source": [
    "a=[2,2,2,3,3,3,3,4,4,4,5,6,6,5,7,89,9,10]\n",
    "b=[]\n",
    "for x in a:\n",
    "    if x not in b:\n",
    "        count=0\n",
    "        for i in a:\n",
    "            if x==i:\n",
    "                count=count+1\n",
    "                b.append(x)\n",
    "        \n",
    "        print(x,\"is\",count,\"times\")"
   ]
  },
  {
   "cell_type": "markdown",
   "metadata": {},
   "source": [
    "Given two no., find its LCM."
   ]
  },
  {
   "cell_type": "code",
   "execution_count": 7,
   "metadata": {},
   "outputs": [
    {
     "name": "stdout",
     "output_type": "stream",
     "text": [
      "[28, 56, 84, 112, 140, 168, 196, 224, 252, 280, 308, 336, 364, 392]\n",
      "LCM is 28\n"
     ]
    }
   ],
   "source": [
    "a=int(input(\"enter your first num\"))\n",
    "b=int(input(\"enter your second num\"))\n",
    "c=[]\n",
    "if a>0 and b>0:\n",
    "    if a>b:\n",
    "        max_num=a\n",
    "    else:\n",
    "        max_num=b\n",
    "    for x in range(max_num,a*b+1,max_num):\n",
    "        if x%a==0 and x%b==0:\n",
    "            c.append(x)\n",
    "    print(c)\n",
    "    print(\"LCM is\",c[0])\n",
    "elif a==0 or b==0:\n",
    "    print(\"LCM is 0\")\n",
    "else:\n",
    "    print(\"please enter non-negative number\")\n",
    "\n",
    "    \n",
    "\n"
   ]
  },
  {
   "cell_type": "markdown",
   "metadata": {},
   "source": [
    "Given two no., find its HCF.\n"
   ]
  },
  {
   "cell_type": "code",
   "execution_count": 18,
   "metadata": {},
   "outputs": [
    {
     "name": "stdout",
     "output_type": "stream",
     "text": [
      "[1, 2, 4]\n",
      "HCF is: 4\n"
     ]
    }
   ],
   "source": [
    "a=int(input(\"Enter your no.\"))\n",
    "b=int(input(\"Enter your no.\"))\n",
    "c=[]\n",
    "if a>0 and b>0:\n",
    "    if a<b:\n",
    "        min_num=a\n",
    "    else:\n",
    "        min_num=b\n",
    "    for x in range(1,min_num+1):\n",
    "        if a%x==0 and b%x==0:\n",
    "            c.append(x)\n",
    "    print(c)\n",
    "    print(\"HCF is:\",c[-1])\n",
    "elif a==0 or b==0:\n",
    "    print(\"HCF is:\",0)\n",
    "else:\n",
    "    print(\"please enter non-negative num\")\n",
    "\n"
   ]
  },
  {
   "cell_type": "code",
   "execution_count": null,
   "metadata": {},
   "outputs": [],
   "source": []
  },
  {
   "cell_type": "code",
   "execution_count": null,
   "metadata": {},
   "outputs": [],
   "source": []
  }
 ],
 "metadata": {
  "kernelspec": {
   "display_name": "Python 3",
   "language": "python",
   "name": "python3"
  },
  "language_info": {
   "codemirror_mode": {
    "name": "ipython",
    "version": 3
   },
   "file_extension": ".py",
   "mimetype": "text/x-python",
   "name": "python",
   "nbconvert_exporter": "python",
   "pygments_lexer": "ipython3",
   "version": "3.11.4"
  },
  "orig_nbformat": 4
 },
 "nbformat": 4,
 "nbformat_minor": 2
}
