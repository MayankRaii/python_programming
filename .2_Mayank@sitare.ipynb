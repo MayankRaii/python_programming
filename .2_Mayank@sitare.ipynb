{
  "cells": [
    {
      "cell_type": "markdown",
      "metadata": {
        "id": "DlOtkbEOnRxH"
      },
      "source": [
        "# Section 1 : List Basics"
      ]
    },
    {
      "cell_type": "code",
      "execution_count": 3,
      "metadata": {
        "id": "zM4HjHP8nXMx"
      },
      "outputs": [
        {
          "name": "stdout",
          "output_type": "stream",
          "text": [
            "<class 'list'>\n",
            "[]\n"
          ]
        }
      ],
      "source": [
        "# Input several numbers from the user using the input function in one go (each number separated by a space)\n",
        "string = input(\"Enter elements (Space-Separated): \")\n",
        "list_of_inputs = string.split()\n",
        "\n",
        "print(type(list_of_inputs))\n",
        "\n",
        "print(list_of_inputs)\n",
        "\n"
      ]
    },
    {
      "cell_type": "code",
      "execution_count": 4,
      "metadata": {
        "id": "q-P_CJKn-XwM"
      },
      "outputs": [
        {
          "name": "stdout",
          "output_type": "stream",
          "text": [
            "[90, 88, 92]\n"
          ]
        }
      ],
      "source": [
        "# Make a list of marks that you got in Physics, Chemistry and Maths in your +2 board exam\n",
        "# Write the marks manually without using the input function\n",
        "P=90\n",
        "C=88\n",
        "M=92\n",
        "list12=[P,C,M]\n",
        "print(list12)\n"
      ]
    },
    {
      "cell_type": "code",
      "execution_count": 5,
      "metadata": {
        "id": "8esVquAs9ds_"
      },
      "outputs": [
        {
          "name": "stdout",
          "output_type": "stream",
          "text": [
            "[90, 88, 92]\n"
          ]
        }
      ],
      "source": [
        "# Print the list\n",
        "\n",
        "print(list12)\n"
      ]
    },
    {
      "cell_type": "code",
      "execution_count": 6,
      "metadata": {
        "id": "-Z6VdJXC9dv3"
      },
      "outputs": [
        {
          "data": {
            "text/plain": [
              "3"
            ]
          },
          "execution_count": 6,
          "metadata": {},
          "output_type": "execute_result"
        }
      ],
      "source": [
        "# Find the length of the list\n",
        "len(list12)\n"
      ]
    },
    {
      "cell_type": "code",
      "execution_count": 7,
      "metadata": {
        "id": "RB_pThmn9dyN"
      },
      "outputs": [
        {
          "data": {
            "text/plain": [
              "90"
            ]
          },
          "execution_count": 7,
          "metadata": {},
          "output_type": "execute_result"
        }
      ],
      "source": [
        "# Print the first element of the list\n",
        "\n",
        "list12[0]"
      ]
    },
    {
      "cell_type": "code",
      "execution_count": 8,
      "metadata": {
        "id": "6hrgb0Sb9d02"
      },
      "outputs": [
        {
          "name": "stdout",
          "output_type": "stream",
          "text": [
            "92\n",
            "92\n"
          ]
        },
        {
          "data": {
            "text/plain": [
              "92"
            ]
          },
          "execution_count": 8,
          "metadata": {},
          "output_type": "execute_result"
        }
      ],
      "source": [
        "# Print the last element of the list\n",
        "print(list12[2])\n",
        "print(list12[len(list12)-1])\n",
        "list12[-1]\n",
        "\n"
      ]
    },
    {
      "cell_type": "code",
      "execution_count": 9,
      "metadata": {
        "id": "6AEMgv0Q9d38"
      },
      "outputs": [
        {
          "name": "stdout",
          "output_type": "stream",
          "text": [
            "88\n",
            "88\n"
          ]
        }
      ],
      "source": [
        "#  Print the second element of the list\n",
        "\n",
        "print(list12[1])\n",
        "print(list12[-2])"
      ]
    },
    {
      "cell_type": "code",
      "execution_count": 10,
      "metadata": {
        "id": "U6zZL_YgloCv"
      },
      "outputs": [
        {
          "name": "stdout",
          "output_type": "stream",
          "text": [
            "[90, 96, 100]\n"
          ]
        }
      ],
      "source": [
        "# Change your marks for Chemistry and Maths in this list\n",
        "\n",
        "list12[1]=96\n",
        "list12[2]=100\n",
        "print(list12)"
      ]
    },
    {
      "cell_type": "markdown",
      "metadata": {
        "id": "ml2rzueuWTEF"
      },
      "source": [
        "# Section 2 : Simple List functions"
      ]
    },
    {
      "cell_type": "code",
      "execution_count": 11,
      "metadata": {
        "id": "U2ViC-J8niYo"
      },
      "outputs": [
        {
          "name": "stdout",
          "output_type": "stream",
          "text": [
            "[90, 96, 100, 99]\n"
          ]
        }
      ],
      "source": [
        "# Append your marks for Hindi or English to this list\n",
        "list12.append(99)\n",
        "print(list12)"
      ]
    },
    {
      "cell_type": "code",
      "execution_count": 12,
      "metadata": {
        "id": "JvhmhUeo9d9a"
      },
      "outputs": [
        {
          "name": "stdout",
          "output_type": "stream",
          "text": [
            "[91, 97, 98, 99]\n",
            "4\n"
          ]
        }
      ],
      "source": [
        "# Create a blank list and append your marks for P, C, M and Language in +2 one by one to this list using the append function\n",
        "# Once done, find the length of the list\n",
        "mark12=[]\n",
        "P=91\n",
        "C=97\n",
        "M=98\n",
        "E=99\n",
        "mark12.append(P)\n",
        "mark12.append(C)\n",
        "mark12.append(M)\n",
        "mark12.append(E)\n",
        "print(mark12)\n",
        "print(len(mark12))\n"
      ]
    },
    {
      "cell_type": "code",
      "execution_count": 13,
      "metadata": {
        "id": "GJgcw1sP9mtt"
      },
      "outputs": [
        {
          "name": "stdout",
          "output_type": "stream",
          "text": [
            "[98, 90, 94]\n",
            "3\n"
          ]
        }
      ],
      "source": [
        "# Create a new blank list and append your marks for Science, Math and Language in 10th class one by one to this list using the append function\n",
        "# Once done, find the length of the list\n",
        "\n",
        "mark10=[]\n",
        "S=98\n",
        "M=90\n",
        "E=94\n",
        "mark10.append(S)\n",
        "mark10.append(M)\n",
        "mark10.append(E)\n",
        "print(mark10)\n",
        "print(len(mark10))"
      ]
    },
    {
      "cell_type": "code",
      "execution_count": 15,
      "metadata": {
        "id": "mC5ldExy9mwc"
      },
      "outputs": [
        {
          "name": "stdout",
          "output_type": "stream",
          "text": [
            "[98, 90, 94]\n",
            "[98, 90, 94]\n",
            "[91, 97, 98, 99]\n",
            "[98, 90, 94, 91, 97, 98, 99]\n"
          ]
        }
      ],
      "source": [
        "# Create a new blank list and add to it the marks for +2 and 10th class from the above lists using the extend function\n",
        "marz=[]\n",
        "marz.extend(mark10)\n",
        "print(marz)\n",
        "marz.extend(mark12)\n",
        "print(mark10)\n",
        "print(mark12)\n",
        "print(marz)\n"
      ]
    },
    {
      "cell_type": "code",
      "execution_count": 26,
      "metadata": {
        "id": "C-0IUVOn9mzD"
      },
      "outputs": [
        {
          "name": "stdout",
          "output_type": "stream",
          "text": [
            "None\n",
            "[99, 98, 97, 91, 94, 90, 98]\n"
          ]
        }
      ],
      "source": [
        "# Reverse the above list using the list_name.reverse() function\n",
        "\n",
        "a=marz.reverse()\n",
        "print(a)\n",
        "marz.reverse()\n",
        "print(marz)"
      ]
    },
    {
      "cell_type": "code",
      "execution_count": 28,
      "metadata": {
        "id": "kCkQJSmu9m2L"
      },
      "outputs": [
        {
          "name": "stdout",
          "output_type": "stream",
          "text": [
            "[98, 90, 94, 91, 97, 98, 99]\n"
          ]
        },
        {
          "data": {
            "text/plain": [
              "[98, 90, 94, 91, 97, 98, 99]"
            ]
          },
          "execution_count": 28,
          "metadata": {},
          "output_type": "execute_result"
        }
      ],
      "source": [
        "# Reverse the above (reversed) list using list(reversed(list_name)) function. So you should get back the original list\n",
        "a=list(reversed(marz))\n",
        "print(a)\n",
        "list(reversed(marz))\n"
      ]
    },
    {
      "cell_type": "code",
      "execution_count": 13,
      "metadata": {
        "id": "-Z1oBJOQ9m4i"
      },
      "outputs": [
        {
          "name": "stdout",
          "output_type": "stream",
          "text": [
            "[98, 90]\n",
            "[91, 97, 99]\n",
            "[99, 98, 97, 91, 90, 98]\n"
          ]
        }
      ],
      "source": [
        "# Remove the Maths marks from all the three lists using list_name.remove(element) function\n",
        "\n",
        "mark10.remove(94)            #list.remove() takes exactly one argument \n",
        "mark12.remove(98)\n",
        "marz.remove(94)\n",
        "print(mark10)\n",
        "print(mark12)\n",
        "print(marz)"
      ]
    },
    {
      "cell_type": "code",
      "execution_count": 29,
      "metadata": {},
      "outputs": [
        {
          "name": "stdout",
          "output_type": "stream",
          "text": [
            "None\n"
          ]
        }
      ],
      "source": [
        "m=[23,24,1,2,3,4,5,6,7]\n",
        "a=m.remove(23)\n",
        "print(a)"
      ]
    },
    {
      "cell_type": "code",
      "execution_count": 30,
      "metadata": {},
      "outputs": [
        {
          "name": "stdout",
          "output_type": "stream",
          "text": [
            "[23, 24, 1, 2, 3, 4, 5, 6, 7, 90]\n",
            "[23, 24, 1, 2, 3, 4, 5, 6, 7, 90, 80]\n",
            "[23, 24, 1, 2, 3, 4, 5, 6, 7, 80]\n",
            "[23, 24, 1, 2, 3, 4, 5, 6, 7]\n"
          ]
        }
      ],
      "source": [
        "m=[23,24,1,2,3,4,5,6,7]\n",
        "o=90\n",
        "i=80\n",
        "m.append(o)\n",
        "print(m)\n",
        "m.append(i)\n",
        "print(m)\n",
        "m.remove(o)\n",
        "print(m)\n",
        "m.remove(i)\n",
        "print(m)"
      ]
    },
    {
      "cell_type": "code",
      "execution_count": 14,
      "metadata": {
        "id": "Di1e-WdM9m7s"
      },
      "outputs": [
        {
          "name": "stdout",
          "output_type": "stream",
          "text": [
            "Number is removed successfully\n",
            "Now my list is: [99, 98, 97, 91, 98]\n"
          ]
        }
      ],
      "source": [
        "# Before trying to remove an element, better to check if its even there in the list or not\n",
        "\n",
        "if 90 in marz:\n",
        "    marz.remove(90)\n",
        "    print(\"Number is removed successfully\")\n",
        "    print(\"Now my list is:\",marz)\n",
        "else:\n",
        "    print(\"Number is not found\")\n",
        "    print(\"My list is:\",marz)"
      ]
    },
    {
      "cell_type": "markdown",
      "metadata": {
        "id": "WChMBslwWCdt"
      },
      "source": [
        "# Section 3 : List Slicing"
      ]
    },
    {
      "cell_type": "code",
      "execution_count": 2,
      "metadata": {
        "id": "JLHlUnj79m-f"
      },
      "outputs": [
        {
          "name": "stdout",
          "output_type": "stream",
          "text": [
            "5\n",
            "[70, 80, 90, 100]\n"
          ]
        }
      ],
      "source": [
        "# From the list of all marks, print all the items from second marks onwards\n",
        "all_marks=[60,70,80,90,100]\n",
        "print(len(all_marks))\n",
        "print(all_marks[1:])\n"
      ]
    },
    {
      "cell_type": "code",
      "execution_count": 3,
      "metadata": {
        "id": "0PA8e0wx9nBY"
      },
      "outputs": [
        {
          "name": "stdout",
          "output_type": "stream",
          "text": [
            "[70, 80, 90]\n"
          ]
        }
      ],
      "source": [
        "# From the list of all marks, print all the items from second marks up to the fourth marks\n",
        "\n",
        "print(all_marks[1:4])"
      ]
    },
    {
      "cell_type": "code",
      "execution_count": 4,
      "metadata": {
        "id": "9PnboOAE9nEP"
      },
      "outputs": [
        {
          "name": "stdout",
          "output_type": "stream",
          "text": [
            "[70, 80, 90]\n",
            "[70, 80, 90]\n"
          ]
        }
      ],
      "source": [
        "# From the list of all marks, print all the items from second marks up to the penultimate marks\n",
        "\n",
        "print(all_marks[1:len(all_marks)-1])\n",
        "print(all_marks[1:-1])"
      ]
    },
    {
      "cell_type": "code",
      "execution_count": 5,
      "metadata": {},
      "outputs": [
        {
          "name": "stdout",
          "output_type": "stream",
          "text": [
            "[0, 1, 2, 3]\n"
          ]
        }
      ],
      "source": [
        "m=[0,1,2,3,4,5,6,7,8,9]\n",
        "print(m[0:4])"
      ]
    },
    {
      "cell_type": "code",
      "execution_count": 6,
      "metadata": {
        "id": "puwG2_LaYnkb"
      },
      "outputs": [
        {
          "name": "stdout",
          "output_type": "stream",
          "text": [
            "[60, 80, 100]\n",
            "[60, 80, 100]\n",
            "[60, 80, 100]\n",
            "[60, 80, 100]\n",
            "[100, 90, 80, 70, 60]\n"
          ]
        }
      ],
      "source": [
        "#@@@ Print every element at the odd position in the list\n",
        "print(all_marks[::2])\n",
        "print(all_marks[0::2])\n",
        "print(all_marks[0:5:2])\n",
        "print(all_marks[0:10:2])\n",
        "print(all_marks[::-1])   #reverse the list\n"
      ]
    },
    {
      "cell_type": "code",
      "execution_count": 7,
      "metadata": {},
      "outputs": [
        {
          "name": "stdout",
          "output_type": "stream",
          "text": [
            "[0, 2, 4, 6, 8]\n",
            "[1, 3, 5, 7, 9]\n"
          ]
        }
      ],
      "source": [
        "m=[0,1,2,3,4,5,6,7,8,9]\n",
        "print(m[0:10:2])\n",
        "print(m[1:10:2])\n"
      ]
    },
    {
      "cell_type": "code",
      "execution_count": 8,
      "metadata": {
        "id": "G7PTQphbYsiM"
      },
      "outputs": [
        {
          "name": "stdout",
          "output_type": "stream",
          "text": [
            "[70, 90]\n",
            "[70, 90]\n"
          ]
        }
      ],
      "source": [
        "# Print every element at the even position in the list\n",
        "print(all_marks[1:5:2])\n",
        "print(all_marks[1:10:2])"
      ]
    },
    {
      "cell_type": "markdown",
      "metadata": {
        "id": "6kBuGXElV-OI"
      },
      "source": [
        "# Section 4 : Simple List computations"
      ]
    },
    {
      "cell_type": "code",
      "execution_count": 9,
      "metadata": {
        "id": "A9lWq__V9nHH"
      },
      "outputs": [
        {
          "name": "stdout",
          "output_type": "stream",
          "text": [
            "the sum of all_marks list is: 400\n"
          ]
        },
        {
          "data": {
            "text/plain": [
              "210"
            ]
          },
          "execution_count": 9,
          "metadata": {},
          "output_type": "execute_result"
        }
      ],
      "source": [
        "# Find the sum of all the marks in your list using the sum(list_name) function\n",
        "\n",
        "print(\"the sum of all_marks list is:\",sum(all_marks))\n",
        "sum(all_marks[0:3])                         #sum of first 3 elements\n"
      ]
    },
    {
      "cell_type": "code",
      "execution_count": 10,
      "metadata": {},
      "outputs": [
        {
          "data": {
            "text/plain": [
              "56"
            ]
          },
          "execution_count": 10,
          "metadata": {},
          "output_type": "execute_result"
        }
      ],
      "source": [
        "max(12,33,56)\n"
      ]
    },
    {
      "cell_type": "code",
      "execution_count": null,
      "metadata": {
        "id": "eo2ChNLu9nLQ"
      },
      "outputs": [
        {
          "name": "stdout",
          "output_type": "stream",
          "text": [
            "max no. of all_marks list is: 100\n"
          ]
        }
      ],
      "source": [
        "# Find the maximum of all the marks in your list using the max(list_name) function\n",
        "\n",
        "print(\"max no. of all_marks list is:\",max(all_marks))"
      ]
    },
    {
      "cell_type": "code",
      "execution_count": null,
      "metadata": {
        "id": "63kzedXlDO-g"
      },
      "outputs": [
        {
          "name": "stdout",
          "output_type": "stream",
          "text": [
            "min no. of all_marks list is : 60\n"
          ]
        }
      ],
      "source": [
        "# Find the minimum of all the marks in your list using the min(list_name) function\n",
        "\n",
        "print(\"min no. of all_marks list is :\",min(all_marks))"
      ]
    },
    {
      "cell_type": "markdown",
      "metadata": {
        "id": "2NhjngNAV3II"
      },
      "source": [
        "# Section 5 : Create a List using the range() function"
      ]
    },
    {
      "cell_type": "code",
      "execution_count": null,
      "metadata": {
        "id": "3ZGvch8YDPH-"
      },
      "outputs": [
        {
          "name": "stdout",
          "output_type": "stream",
          "text": [
            "[0, 1, 2, 3, 4, 5, 6, 7, 8, 9, 10, 11, 12, 13, 14, 15, 16, 17, 18, 19, 20, 21, 22, 23, 24, 25, 26, 27, 28, 29, 30, 31, 32]\n"
          ]
        }
      ],
      "source": [
        "# Create a list of integers using the list(range(n)) function, where n can be any integer within the limits of your computer\n",
        "\n",
        "print(list(range(33)))"
      ]
    },
    {
      "cell_type": "code",
      "execution_count": null,
      "metadata": {
        "id": "GxMM3HiODPLD"
      },
      "outputs": [
        {
          "name": "stdout",
          "output_type": "stream",
          "text": [
            "[1, 2, 3, 4, 5, 6, 7, 8, 9, 10, 11, 12, 13, 14, 15, 16, 17, 18, 19, 20, 21]\n"
          ]
        }
      ],
      "source": [
        "# What does this function give : list(range(n1, n2))\n",
        "\n",
        "print(list(range(1,22)))"
      ]
    },
    {
      "cell_type": "code",
      "execution_count": null,
      "metadata": {
        "id": "JI1lemr2DPNp"
      },
      "outputs": [
        {
          "name": "stdout",
          "output_type": "stream",
          "text": [
            "[1, 3, 5, 7, 9, 11, 13, 15, 17, 19, 21, 23, 25, 27, 29, 31, 33, 35, 37, 39, 41, 43, 45, 47, 49, 51]\n",
            "[0, 2, 4, 6, 8, 10, 12, 14, 16, 18, 20, 22, 24, 26, 28, 30, 32, 34, 36, 38, 40, 42, 44, 46, 48, 50]\n"
          ]
        }
      ],
      "source": [
        "# What does this function give : list(range(n1, n2, n3))\n",
        "\n",
        "print(list(range(1,52,2)))\n",
        "print(list(range(0,51,2)))"
      ]
    },
    {
      "cell_type": "code",
      "execution_count": null,
      "metadata": {
        "id": "FXBXCz5XJgWT"
      },
      "outputs": [
        {
          "name": "stdout",
          "output_type": "stream",
          "text": [
            "[1, 2, 3, 4, 5, 6, 7, 8, 9, 10, 11, 12, 13, 14, 15, 16, 17, 18, 19, 20, 21, 22, 23, 24, 25, 26, 27, 28, 29, 30, 31, 32, 33, 34, 35, 36, 37, 38, 39, 40, 41, 42, 43, 44, 45, 46, 47, 48, 49, 50, 51, 52, 53, 54, 55, 56, 57, 58, 59, 60, 61, 62, 63, 64, 65, 66, 67, 68, 69, 70, 71, 72, 73, 74, 75, 76, 77, 78, 79, 80, 81, 82, 83, 84, 85, 86, 87, 88, 89, 90, 91, 92, 93, 94, 95, 96, 97, 98, 99, 100]\n",
            "sum of first 100 integers is: 5050\n"
          ]
        }
      ],
      "source": [
        "# Create a list of first 100 integers, and find their sum\n",
        "super100 = list(range(1,101))\n",
        "print(super100)\n",
        "print(\"sum of first 100 integers is:\",sum(super100))"
      ]
    },
    {
      "cell_type": "code",
      "execution_count": null,
      "metadata": {
        "id": "WdTp1cR9JgZb"
      },
      "outputs": [
        {
          "name": "stdout",
          "output_type": "stream",
          "text": [
            "[1, 2, 3, 4, 5, 6, 7, 8, 9, 10, 11, 12, 13, 14, 15, 16, 17, 18, 19, 20, 21, 22, 23, 24, 25, 26, 27, 28, 29, 30, 31, 32, 33, 34, 35, 36, 37, 38, 39, 40, 41, 42, 43, 44, 45, 46, 47, 48, 49, 50, 51, 52, 53, 54, 55, 56, 57, 58, 59, 60, 61, 62, 63, 64, 65, 66, 67, 68, 69, 70, 71, 72, 73, 74, 75, 76, 77, 78, 79, 80, 81, 82, 83, 84, 85, 86, 87, 88, 89, 90, 91, 92, 93, 94, 95, 96, 97, 98, 99, 100]\n",
            "sum of numbers of A list is: 5050\n",
            "length of list A is: 100\n",
            "average of list A is : 50.5\n"
          ]
        }
      ],
      "source": [
        "# Create a list of first 100 integers, and find their average\n",
        "A =list(range(1,101))\n",
        "print(A)\n",
        "print(\"sum of numbers of A list is:\", sum(A))\n",
        "print(\"length of list A is:\",len(A))\n",
        "print(\"average of list A is :\" ,sum(A)/len(A))"
      ]
    },
    {
      "cell_type": "code",
      "execution_count": null,
      "metadata": {
        "id": "6G3ZpXIYJgcT"
      },
      "outputs": [
        {
          "name": "stdout",
          "output_type": "stream",
          "text": [
            "[2, 4, 6, 8, 10, 12, 14, 16, 18, 20, 22, 24, 26, 28, 30, 32, 34, 36, 38, 40, 42, 44, 46, 48, 50, 52, 54, 56, 58, 60, 62, 64, 66, 68, 70, 72, 74, 76, 78, 80, 82, 84, 86, 88, 90, 92, 94, 96, 98, 100]\n",
            "sum of list (B is 2550\n",
            "length of list B 50\n",
            "average of list B is: 51.0\n"
          ]
        }
      ],
      "source": [
        "# Create a list of even numbers in the range 1-100, and find their sum as well as average\n",
        "B=list(range(2,101,2))\n",
        "print(B)\n",
        "print(\"sum of list (B is\",sum(B))\n",
        "print(\"length of list B\",len(B))\n",
        "print(\"average of list B is:\",sum(B)/len(B))\n"
      ]
    },
    {
      "cell_type": "code",
      "execution_count": null,
      "metadata": {
        "id": "XachAnw3Jgfb"
      },
      "outputs": [
        {
          "name": "stdout",
          "output_type": "stream",
          "text": [
            "[1, 3, 5, 7, 9, 11, 13, 15, 17, 19, 21, 23, 25, 27, 29, 31, 33, 35, 37, 39, 41, 43, 45, 47, 49, 51, 53, 55, 57, 59, 61, 63, 65, 67, 69, 71, 73, 75, 77, 79, 81, 83, 85, 87, 89, 91, 93, 95, 97, 99]\n",
            "The sum of odd no. list is: 2500\n",
            "The length of odd no. list is : 50\n",
            "the average of odd no. list is: 50.0\n"
          ]
        }
      ],
      "source": [
        "# Create a list of odd numbers in the range 1-100, and find their sum as well as average\n",
        "C=list(range(1,101,2))\n",
        "print(C)\n",
        "print(\"The sum of odd no. list is:\",sum(C))\n",
        "print(\"The length of odd no. list is :\",len(C))\n",
        "print(\"the average of odd no. list is:\",sum(C)/len(C))\n"
      ]
    },
    {
      "cell_type": "code",
      "execution_count": null,
      "metadata": {
        "id": "HVY2L4L4Jgij"
      },
      "outputs": [
        {
          "name": "stdout",
          "output_type": "stream",
          "text": [
            "initial list is: [23, 24, 25, 26, 27, 28, 29, 30]\n",
            "updated list is: [100, 24, 25, 26, 27, 28, 29, 90]\n"
          ]
        }
      ],
      "source": [
        "# Make a copy of your list and change the first element of this new list. See what happens to the original list\n",
        "\n",
        "list1=[23,24,25,26,27,28,29,30]\n",
        "list2=list1.copy()\n",
        "print(\"initial list is:\",list1)\n",
        "list2[0]=100\n",
        "list2[-1]=90\n",
        "print(\"updated list is:\", list2)\n"
      ]
    },
    {
      "cell_type": "markdown",
      "metadata": {
        "id": "vwK1cyynVWpR"
      },
      "source": [
        "# Section 6 : DIY Exercises"
      ]
    },
    {
      "cell_type": "code",
      "execution_count": null,
      "metadata": {
        "id": "4elIBjlJVZKO"
      },
      "outputs": [
        {
          "name": "stdout",
          "output_type": "stream",
          "text": [
            "[60, 20, 30, 40, 50, 10]\n"
          ]
        }
      ],
      "source": [
        "#@@@ In a given list of numbers, swap the first and last element\n",
        "\n",
        "list=[10,20,30,40,50,60]\n",
        "M=list[0]\n",
        "list[0]=list[-1]\n",
        "list[-1]=M\n",
        "print(list)\n",
        "\n"
      ]
    },
    {
      "cell_type": "code",
      "execution_count": null,
      "metadata": {
        "id": "fdOsCMtPVZNT"
      },
      "outputs": [
        {
          "name": "stdout",
          "output_type": "stream",
          "text": [
            "[100, 70, 80, 90, 60, 50]\n"
          ]
        }
      ],
      "source": [
        "# In a given list of numbers, swap the second and fourth element\n",
        "\n",
        "New=[100,90,80,70,60,50]\n",
        "M=New[1]\n",
        "New[1]=New[3]\n",
        "New[3]=M\n",
        "print(New)"
      ]
    },
    {
      "cell_type": "code",
      "execution_count": null,
      "metadata": {
        "id": "gNK-tRxdVZQc"
      },
      "outputs": [
        {
          "name": "stdout",
          "output_type": "stream",
          "text": [
            "[10, 11]\n"
          ]
        }
      ],
      "source": [
        "# 1.Take a list of two numbers and arrange them in ascending order\n",
        "T=[11,10]\n",
        "maximum=max(T)\n",
        "minimum=min(T)\n",
        "T[0]=minimum\n",
        "T[1]=maximum\n",
        "print(T)"
      ]
    },
    {
      "cell_type": "code",
      "execution_count": null,
      "metadata": {},
      "outputs": [
        {
          "name": "stdout",
          "output_type": "stream",
          "text": [
            "The list L has been sorted in ascending order\n",
            "[80, 90]\n"
          ]
        }
      ],
      "source": [
        "# 2.Take a list of two numbers and arrange them in ascending order\n",
        "L=[90,80]\n",
        "if L[1]>=L[0]:\n",
        "    print(\"list L is already in ascending order\" )\n",
        "    print(L)\n",
        "else:\n",
        "    a=L[0]\n",
        "    L[0]=L[1]\n",
        "    L[1]=a\n",
        "    print(\"The list L has been sorted in ascending order\")\n",
        "    print(L)"
      ]
    },
    {
      "cell_type": "code",
      "execution_count": 15,
      "metadata": {
        "id": "Vaps55ZVXACM"
      },
      "outputs": [
        {
          "name": "stdout",
          "output_type": "stream",
          "text": [
            "[99, 98, 97, 96, 95, 100]\n",
            "[90, 88, 89, 98, 93]\n",
            "[[99, 98, 97, 96, 95, 100], [90, 88, 89, 98, 93]]\n"
          ]
        }
      ],
      "source": [
        "# Create two lists : one having your 10th class board marks and another having your +2 board marks for each subject.\n",
        "# Create another list that contains both these lists. So this new list will have 2 elements, both of which are lists.\n",
        "\n",
        "Hi=99\n",
        "En=98\n",
        "Sc=97\n",
        "IT=96\n",
        "Ma=95\n",
        "SST=100\n",
        "list10=[]\n",
        "list10.append(Hi)\n",
        "list10.append(En)\n",
        "list10.append(Sc)\n",
        "list10.append(IT)\n",
        "list10.append(Ma)\n",
        "list10.append(SST)\n",
        "print(list10)\n",
        "\n",
        "P=90\n",
        "C=88\n",
        "M=89\n",
        "H=98\n",
        "E=93\n",
        "list12=[]\n",
        "list12.append(P)\n",
        "list12.append(C)\n",
        "list12.append(M)\n",
        "list12.append(H)\n",
        "list12.append(E)\n",
        "print(list12)\n",
        "\n",
        "Board = []\n",
        "Board.append(list10)\n",
        "Board.append(list12)\n",
        "print(Board)"
      ]
    },
    {
      "cell_type": "code",
      "execution_count": 12,
      "metadata": {},
      "outputs": [
        {
          "name": "stdout",
          "output_type": "stream",
          "text": [
            "[99, 98, 97, 96, 95, 100, 90, 88, 89, 98, 93]\n",
            "99\n"
          ]
        },
        {
          "data": {
            "text/plain": [
              "95"
            ]
          },
          "execution_count": 12,
          "metadata": {},
          "output_type": "execute_result"
        }
      ],
      "source": [
        "#Board=[]\n",
        "#Board.extend(list10)\n",
        "#Board.extend(list12)\n",
        "#print(Board)\n",
        "#print(Board[0])\n",
        "#Board[4]"
      ]
    },
    {
      "cell_type": "code",
      "execution_count": 17,
      "metadata": {
        "id": "STUZssuWYbKM"
      },
      "outputs": [
        {
          "name": "stdout",
          "output_type": "stream",
          "text": [
            "the second element of first list is: 98\n"
          ]
        }
      ],
      "source": [
        "# In the above list of lists, print the marks in the 2nd element of the first list\n",
        "N=Board[0][1]\n",
        "print(\"the second element of first list is:\",N)"
      ]
    },
    {
      "cell_type": "code",
      "execution_count": 9,
      "metadata": {
        "id": "KIGZ86CUDPQP"
      },
      "outputs": [],
      "source": [
        "# Reference for further learning : https://www.geeksforgeeks.org/python-lists/"
      ]
    },
    {
      "cell_type": "markdown",
      "metadata": {},
      "source": [
        "# Section 7: For loop"
      ]
    },
    {
      "cell_type": "code",
      "execution_count": null,
      "metadata": {},
      "outputs": [
        {
          "name": "stdout",
          "output_type": "stream",
          "text": [
            "11\n",
            "12\n",
            "13\n",
            "14\n",
            "15\n",
            "16\n",
            "17\n",
            "18\n",
            "19\n",
            "20\n"
          ]
        }
      ],
      "source": [
        "# make list & print all element of this one by one (by using for loop)\n",
        "List = [11,12,13,14,15,16,17,18,19,20]\n",
        "for x in List:\n",
        "    print(x)\n",
        "\n"
      ]
    },
    {
      "cell_type": "code",
      "execution_count": null,
      "metadata": {},
      "outputs": [
        {
          "name": "stdout",
          "output_type": "stream",
          "text": [
            "[11, 12, 13, 14, 15, 16, 17, 18, 19, 20]\n",
            "[11, 12, 13, 14, 15, 16, 17, 18, 19, 20]\n",
            "[11, 12, 13, 14, 15, 16, 17, 18, 19, 20]\n",
            "[11, 12, 13, 14, 15, 16, 17, 18, 19, 20]\n",
            "[11, 12, 13, 14, 15, 16, 17, 18, 19, 20]\n",
            "[11, 12, 13, 14, 15, 16, 17, 18, 19, 20]\n",
            "[11, 12, 13, 14, 15, 16, 17, 18, 19, 20]\n",
            "[11, 12, 13, 14, 15, 16, 17, 18, 19, 20]\n",
            "[11, 12, 13, 14, 15, 16, 17, 18, 19, 20]\n",
            "[11, 12, 13, 14, 15, 16, 17, 18, 19, 20]\n"
          ]
        }
      ],
      "source": [
        "List = [11,12,13,14,15,16,17,18,19,20]\n",
        "for x in List:\n",
        "    print(List)\n"
      ]
    },
    {
      "cell_type": "code",
      "execution_count": null,
      "metadata": {},
      "outputs": [
        {
          "name": "stdout",
          "output_type": "stream",
          "text": [
            "1\n",
            "2\n",
            "3\n",
            "4\n",
            "5\n",
            "6\n",
            "7\n",
            "8\n",
            "9\n",
            "10\n"
          ]
        }
      ],
      "source": [
        "# 1.Print the first 10 +ve integer\n",
        "for x in range(1,11):\n",
        "    print(x)"
      ]
    },
    {
      "cell_type": "code",
      "execution_count": null,
      "metadata": {},
      "outputs": [
        {
          "name": "stdout",
          "output_type": "stream",
          "text": [
            "1\n",
            "2\n",
            "3\n",
            "4\n",
            "5\n",
            "6\n",
            "7\n",
            "8\n",
            "9\n",
            "10\n"
          ]
        }
      ],
      "source": [
        "# 2.Print the first 10 +ve integer\n",
        "for x in range(10):\n",
        "    print(x+1)\n"
      ]
    },
    {
      "cell_type": "code",
      "execution_count": null,
      "metadata": {},
      "outputs": [
        {
          "name": "stdout",
          "output_type": "stream",
          "text": [
            "2\n",
            "4\n",
            "6\n",
            "8\n",
            "10\n",
            "12\n",
            "14\n",
            "16\n",
            "18\n",
            "20\n"
          ]
        }
      ],
      "source": [
        "# Print the  first 10 even numbers\n",
        "for x in range(10):\n",
        "    print(2*x+2)"
      ]
    },
    {
      "cell_type": "code",
      "execution_count": null,
      "metadata": {},
      "outputs": [
        {
          "name": "stdout",
          "output_type": "stream",
          "text": [
            "1\n",
            "3\n",
            "5\n",
            "7\n",
            "9\n",
            "11\n",
            "13\n",
            "15\n",
            "17\n",
            "19\n"
          ]
        }
      ],
      "source": [
        "# Print the first 10 odd numbers\n",
        "for x in range(10):\n",
        "    print(2*x+1)"
      ]
    },
    {
      "cell_type": "code",
      "execution_count": null,
      "metadata": {},
      "outputs": [
        {
          "name": "stdout",
          "output_type": "stream",
          "text": [
            "2\n",
            "4\n",
            "8\n",
            "16\n",
            "32\n",
            "64\n",
            "128\n",
            "256\n",
            "512\n",
            "1024\n"
          ]
        }
      ],
      "source": [
        "#1. Print the  first 10 +ve power of 2\n",
        "for x in range(1,11):\n",
        "    print(2**x)"
      ]
    },
    {
      "cell_type": "code",
      "execution_count": null,
      "metadata": {},
      "outputs": [
        {
          "name": "stdout",
          "output_type": "stream",
          "text": [
            "2\n",
            "4\n",
            "8\n",
            "16\n",
            "32\n",
            "64\n",
            "128\n",
            "256\n",
            "512\n",
            "1024\n"
          ]
        }
      ],
      "source": [
        "#2. Print the  first 10 +ve power of 2\n",
        "for x in range(10):\n",
        "    print(2**(x+1))"
      ]
    },
    {
      "cell_type": "code",
      "execution_count": null,
      "metadata": {},
      "outputs": [
        {
          "data": {
            "text/plain": [
              "10"
            ]
          },
          "execution_count": 36,
          "metadata": {},
          "output_type": "execute_result"
        }
      ],
      "source": [
        "A=[1,2,3,4,5,6,7,8,9,10]\n",
        "len(A)"
      ]
    },
    {
      "cell_type": "code",
      "execution_count": null,
      "metadata": {},
      "outputs": [
        {
          "name": "stdout",
          "output_type": "stream",
          "text": [
            "1\n",
            "2\n",
            "3\n",
            "4\n",
            "5\n",
            "The length of the list is: 5\n"
          ]
        }
      ],
      "source": [
        "#1\n",
        "list1 = [20,30,40,50,60]  \n",
        "listlen=0\n",
        "for x in list1:\n",
        "    listlen=listlen+1\n",
        "    print(listlen)\n",
        "print(\"The length of the list is:\", listlen)"
      ]
    },
    {
      "cell_type": "code",
      "execution_count": null,
      "metadata": {},
      "outputs": [
        {
          "name": "stdout",
          "output_type": "stream",
          "text": [
            "20 1\n",
            "30 2\n",
            "40 3\n",
            "50 4\n",
            "60 5\n",
            "The length of the list is: 5\n"
          ]
        }
      ],
      "source": [
        "#2\n",
        "list1 = [20,30,40,50,60]  \n",
        "listlen=0\n",
        "for x in list1:\n",
        "    listlen=listlen+1\n",
        "    print(x,listlen)\n",
        "print(\"The length of the list is:\", listlen)"
      ]
    },
    {
      "cell_type": "code",
      "execution_count": null,
      "metadata": {},
      "outputs": [
        {
          "name": "stdout",
          "output_type": "stream",
          "text": [
            "5\n",
            "15\n",
            "30\n",
            "50\n",
            "75\n",
            "105\n",
            "140\n",
            "180\n"
          ]
        }
      ],
      "source": [
        "#1 Find the sum of the elements in the list\n",
        "list2=[5,10,15,20,25,30,35,40]\n",
        "listsum=0\n",
        "for x in list2:\n",
        "    listsum=listsum+x\n",
        "    print(listsum)"
      ]
    },
    {
      "cell_type": "code",
      "execution_count": null,
      "metadata": {},
      "outputs": [
        {
          "name": "stdout",
          "output_type": "stream",
          "text": [
            "5 5\n",
            "10 15\n",
            "15 30\n",
            "20 50\n",
            "25 75\n",
            "30 105\n",
            "35 140\n",
            "40 180\n"
          ]
        }
      ],
      "source": [
        "#2\n",
        "list2=[5,10,15,20,25,30,35,40]\n",
        "listsum=0\n",
        "for x in list2:\n",
        "    listsum=listsum+x\n",
        "    print(x,listsum)"
      ]
    },
    {
      "cell_type": "code",
      "execution_count": null,
      "metadata": {},
      "outputs": [
        {
          "name": "stdout",
          "output_type": "stream",
          "text": [
            "51\n",
            "2652\n",
            "140556\n",
            "7590024\n",
            "417451320\n",
            "23377273920\n",
            "1332504613440\n",
            "77285267579520\n",
            "4559830787191680\n",
            "273589847231500800\n"
          ]
        }
      ],
      "source": [
        "#1 Find the product of the elements in the list\n",
        "list3=[51,52,53,54,55,56,57,58,59,60]\n",
        "listproduct=1\n",
        "for x in list3:\n",
        "    listproduct=listproduct*x\n",
        "    print(listproduct)\n"
      ]
    },
    {
      "cell_type": "code",
      "execution_count": null,
      "metadata": {},
      "outputs": [
        {
          "name": "stdout",
          "output_type": "stream",
          "text": [
            "51 51\n",
            "52 2652\n",
            "53 140556\n",
            "54 7590024\n",
            "55 417451320\n",
            "56 23377273920\n",
            "57 1332504613440\n",
            "58 77285267579520\n",
            "59 4559830787191680\n",
            "60 273589847231500800\n"
          ]
        }
      ],
      "source": [
        "#2 Find the product of the elements in the list\n",
        "list3=[51,52,53,54,55,56,57,58,59,60]\n",
        "listproduct=1\n",
        "for x in list3:\n",
        "    listproduct=listproduct*x\n",
        "    print(x,listproduct)\n"
      ]
    },
    {
      "cell_type": "code",
      "execution_count": 19,
      "metadata": {},
      "outputs": [
        {
          "name": "stdout",
          "output_type": "stream",
          "text": [
            "1\n",
            "3\n",
            "6\n",
            "10\n",
            "15\n",
            "21\n",
            "28\n",
            "36\n",
            "45\n",
            "55\n",
            "66\n",
            "78\n",
            "91\n",
            "105\n",
            "120\n",
            "136\n",
            "153\n",
            "171\n",
            "190\n",
            "1\n",
            "2\n",
            "6\n",
            "24\n",
            "120\n",
            "720\n",
            "5040\n",
            "40320\n",
            "362880\n",
            "3628800\n",
            "39916800\n",
            "479001600\n",
            "6227020800\n",
            "87178291200\n",
            "1307674368000\n",
            "20922789888000\n",
            "355687428096000\n",
            "6402373705728000\n",
            "121645100408832000\n"
          ]
        }
      ],
      "source": [
        "# Find the sum & product of first 20 +ve inteager\n",
        "sum=0\n",
        "\n",
        "for x in range(1,20):\n",
        "    sum=sum+x\n",
        "    print(sum)\n",
        "\n",
        "\n",
        "product=1\n",
        "for x in range(1,20):\n",
        "    product=product*x\n",
        "    print(product)    \n",
        "\n"
      ]
    },
    {
      "cell_type": "code",
      "execution_count": null,
      "metadata": {},
      "outputs": [
        {
          "name": "stdout",
          "output_type": "stream",
          "text": [
            "190\n",
            "121645100408832000\n"
          ]
        }
      ],
      "source": [
        "print(sum)\n",
        "print(product)"
      ]
    },
    {
      "cell_type": "code",
      "execution_count": null,
      "metadata": {},
      "outputs": [
        {
          "name": "stdout",
          "output_type": "stream",
          "text": [
            "Yes, output its factorial 120\n"
          ]
        }
      ],
      "source": [
        "#Take an intager from user as input and cheak if it is b/w 1-40,\n",
        "#if yes output its factorial,\n",
        "#if no, say the no. is out of range\n",
        "\n",
        "M = int(input())\n",
        "p =1 \n",
        "if M in range (1,41):\n",
        "    for x in range(1, M+1):\n",
        "        p=p*x\n",
        "    print(\"Yes, output its factorial\", p)\n",
        "else:\n",
        "    print(\"no, say the no. is out of range\")\n"
      ]
    },
    {
      "cell_type": "code",
      "execution_count": 15,
      "metadata": {},
      "outputs": [
        {
          "name": "stdout",
          "output_type": "stream",
          "text": [
            "5 120\n"
          ]
        }
      ],
      "source": [
        "#Take an integer from user as input, check if it is between 1-40, if yes output its factorial, if no, say the number is out of range.\n",
        "a = int(input(\"write an integer\"))\n",
        "if (0<a<=40):\n",
        "     f=1\n",
        "     for x in range(a):\n",
        "          f = f*(x+1)\n",
        "     print((x+1),f)\n",
        "else:\n",
        "     print(\"The entered number is out of range\")\n"
      ]
    },
    {
      "cell_type": "markdown",
      "metadata": {},
      "source": [
        "# Date: 11 Sep: For loop Problem"
      ]
    },
    {
      "cell_type": "markdown",
      "metadata": {},
      "source": [
        "1. Given a positive integer, print all integers from 1 up to this number."
      ]
    },
    {
      "cell_type": "code",
      "execution_count": 79,
      "metadata": {},
      "outputs": [
        {
          "name": "stdout",
          "output_type": "stream",
          "text": [
            "10\n",
            "1\n",
            "2\n",
            "3\n",
            "4\n",
            "5\n",
            "6\n",
            "7\n",
            "8\n",
            "9\n",
            "10\n"
          ]
        }
      ],
      "source": [
        "#@@@@\n",
        "a=int(input(\"Enter a positive integer\"))\n",
        "print(a)\n",
        "for x in range(1,a+1):\n",
        "    print(x)"
      ]
    },
    {
      "cell_type": "markdown",
      "metadata": {},
      "source": [
        "2. Given a positive integer, find out its factorial."
      ]
    },
    {
      "cell_type": "code",
      "execution_count": 80,
      "metadata": {},
      "outputs": [
        {
          "name": "stdout",
          "output_type": "stream",
          "text": [
            "5\n",
            "Its factorial is: 120\n"
          ]
        }
      ],
      "source": [
        "b=int(input(\"Enter a positive integer\"))\n",
        "print(b)\n",
        "f=1\n",
        "for x in range(1,b+1):\n",
        "    f=f*x\n",
        "print(\"Its factorial is:\",f)"
      ]
    },
    {
      "cell_type": "markdown",
      "metadata": {},
      "source": [
        "3. Given a positive integer, find out the sum of all integers from 1 up to this number."
      ]
    },
    {
      "cell_type": "code",
      "execution_count": 81,
      "metadata": {},
      "outputs": [
        {
          "name": "stdout",
          "output_type": "stream",
          "text": [
            "10\n",
            "Sum of all integers upto this no. is: 55\n"
          ]
        }
      ],
      "source": [
        "c=int(input(\"Enter a positive integer\"))\n",
        "print(c)\n",
        "s=0\n",
        "for x in range(1,c+1):\n",
        "    s=s+x\n",
        "print(\"Sum of all integers upto this no. is:\",s)"
      ]
    },
    {
      "cell_type": "markdown",
      "metadata": {},
      "source": [
        "4. Given a positive integer, find out the sum of all odd numbers from 1 up to this number."
      ]
    },
    {
      "cell_type": "code",
      "execution_count": 82,
      "metadata": {},
      "outputs": [
        {
          "name": "stdout",
          "output_type": "stream",
          "text": [
            "10\n",
            "Sum of all odd no. upto this no.: 25\n"
          ]
        }
      ],
      "source": [
        "d=int(input(\"Enter a positive integer\"))\n",
        "print(d)\n",
        "s=0\n",
        "for x in range(1,d+1,2):\n",
        "    s=s+x\n",
        "print(\"Sum of all odd no. upto this no.:\",s)"
      ]
    },
    {
      "cell_type": "code",
      "execution_count": 83,
      "metadata": {},
      "outputs": [
        {
          "name": "stdout",
          "output_type": "stream",
          "text": [
            "10\n",
            "Sum of all odd no. upto this no.: 25\n"
          ]
        }
      ],
      "source": [
        "d=int(input(\"Enter a positive no.\"))\n",
        "print(d)\n",
        "s=0\n",
        "for x in range(1,d+1):\n",
        "    if (x%2)!=0:\n",
        "        s=s+x\n",
        "print(\"Sum of all odd no. upto this no.:\",s)"
      ]
    },
    {
      "cell_type": "markdown",
      "metadata": {},
      "source": [
        "5. Given a positive integer, find out the sum of all even numbers from 2 up to this number."
      ]
    },
    {
      "cell_type": "code",
      "execution_count": 84,
      "metadata": {},
      "outputs": [
        {
          "name": "stdout",
          "output_type": "stream",
          "text": [
            "10\n",
            "Sum of all even no. upto this no.: 30\n"
          ]
        }
      ],
      "source": [
        "e=int(input(\"Enter a positive no.\"))\n",
        "print(e)\n",
        "s=0\n",
        "for x in range(2,e+1,2):\n",
        "    s=s+x\n",
        "print(\"Sum of all even no. upto this no.:\",s)"
      ]
    },
    {
      "cell_type": "code",
      "execution_count": 85,
      "metadata": {},
      "outputs": [
        {
          "name": "stdout",
          "output_type": "stream",
          "text": [
            "10\n",
            "Sum of all even no. upto this no.: 30\n"
          ]
        }
      ],
      "source": [
        "e=int(input(\"Enter a positive no.\"))\n",
        "print(e)\n",
        "s=0\n",
        "for x in range(2,e+1):\n",
        "    if(x%2)==0:\n",
        "        s=s+x\n",
        "print(\"Sum of all even no. upto this no.:\",s)"
      ]
    },
    {
      "cell_type": "markdown",
      "metadata": {},
      "source": [
        "6. Given a positive integer, print the multiplication table of that integer up to 10."
      ]
    },
    {
      "cell_type": "code",
      "execution_count": 12,
      "metadata": {},
      "outputs": [
        {
          "name": "stdout",
          "output_type": "stream",
          "text": [
            "5\n",
            "5 X 1 = 5\n",
            "5 X 2 = 10\n",
            "5 X 3 = 15\n",
            "5 X 4 = 20\n",
            "5 X 5 = 25\n",
            "5 X 6 = 30\n",
            "5 X 7 = 35\n",
            "5 X 8 = 40\n",
            "5 X 9 = 45\n",
            "5 X 10 = 50\n"
          ]
        }
      ],
      "source": [
        "f=int(input(\"Enter a positive no.\"))\n",
        "print(f)\n",
        "for x in range(1,11):\n",
        "    print(f,\"X\",x,\"=\",f*x)\n",
        "    \n"
      ]
    },
    {
      "cell_type": "markdown",
      "metadata": {},
      "source": [
        "\n",
        "\n",
        "\n",
        "\n",
        "\n",
        "\n",
        "\n",
        "\n",
        "\n",
        "\n",
        "\n",
        "\n",
        "7. Given a positive integer, print each of its digits separately without converting the number into a string."
      ]
    },
    {
      "cell_type": "code",
      "execution_count": null,
      "metadata": {},
      "outputs": [],
      "source": [
        "# @@@"
      ]
    },
    {
      "cell_type": "markdown",
      "metadata": {},
      "source": [
        "# SOME OTHER Q (12 SEP)"
      ]
    },
    {
      "cell_type": "markdown",
      "metadata": {},
      "source": [
        "# Date: 18 SEP (While loop) "
      ]
    },
    {
      "cell_type": "code",
      "execution_count": 1,
      "metadata": {},
      "outputs": [
        {
          "name": "stdout",
          "output_type": "stream",
          "text": [
            "hello Greek\n",
            "hello Greek\n",
            "hello Greek\n"
          ]
        }
      ],
      "source": [
        "count = 0\n",
        "while(count<3):\n",
        "    count=count+1\n",
        "    print(\"hello Greek\")"
      ]
    },
    {
      "cell_type": "code",
      "execution_count": 3,
      "metadata": {},
      "outputs": [
        {
          "name": "stdout",
          "output_type": "stream",
          "text": [
            "4\n",
            "3\n",
            "6\n",
            "2\n",
            "1\n"
          ]
        }
      ],
      "source": [
        "a=[1,2,6,3,4]\n",
        "while a:\n",
        "    print(a.pop())                #reversed order"
      ]
    },
    {
      "cell_type": "code",
      "execution_count": 5,
      "metadata": {},
      "outputs": [
        {
          "name": "stdout",
          "output_type": "stream",
          "text": [
            "Hello Greek\n",
            "Hello Greek\n",
            "Hello Greek\n",
            "Hello Greek\n",
            "Hello Greek\n"
          ]
        }
      ],
      "source": [
        "count = 0\n",
        "while (count<5):\n",
        "    count+=1\n",
        "    print(\"Hello Greek\")"
      ]
    },
    {
      "cell_type": "code",
      "execution_count": 6,
      "metadata": {},
      "outputs": [
        {
          "name": "stdout",
          "output_type": "stream",
          "text": [
            "Current Letter : g\n",
            "Current Letter : k\n",
            "Current Letter : f\n",
            "Current Letter : o\n",
            "Current Letter : r\n",
            "Current Letter : g\n",
            "Current Letter : k\n"
          ]
        }
      ],
      "source": [
        "#@@@@print all letters except 'e' and 's'\n",
        "i=0\n",
        "a=\"geeksforgeeks\"\n",
        "while i<len(a):\n",
        "    if a[i]==\"e\" or a[i]==\"s\":\n",
        "        i=i+1\n",
        "        continue\n",
        "\n",
        "    print(\"Current Letter :\", a[i])\n",
        "    i=i+1"
      ]
    },
    {
      "cell_type": "code",
      "execution_count": 8,
      "metadata": {},
      "outputs": [
        {
          "name": "stdout",
          "output_type": "stream",
          "text": [
            "Current Letter : g\n"
          ]
        }
      ],
      "source": [
        "# break the loop as soon it sees \"e\" or \"s\"\n",
        "i=0\n",
        "a=\"geeksforgeeks\"\n",
        "\n",
        "while i<len(a):\n",
        "    if a[i]==\"e\" or a[i]==\"s\":\n",
        "        i+=1\n",
        "        break\n",
        "    print(\"Current Letter :\",a[i])\n",
        "    i+=1"
      ]
    },
    {
      "cell_type": "code",
      "execution_count": 9,
      "metadata": {},
      "outputs": [
        {
          "name": "stdout",
          "output_type": "stream",
          "text": [
            "Value of i: 13\n"
          ]
        }
      ],
      "source": [
        "# An empty loop\n",
        "a=\"geeksforgeeks\"\n",
        "i=0\n",
        "while i<len(a):\n",
        "    i+=1\n",
        "    pass\n",
        "print(\"Value of i:\",i)"
      ]
    },
    {
      "cell_type": "code",
      "execution_count": 10,
      "metadata": {},
      "outputs": [
        {
          "name": "stdout",
          "output_type": "stream",
          "text": [
            "1\n",
            "2\n",
            "3\n",
            "4\n",
            "No Break\n",
            "\n",
            "1\n"
          ]
        }
      ],
      "source": [
        "# python program to demonstrate\n",
        "# while-else loop\n",
        "i=0\n",
        "while i<4:\n",
        "    i+=1\n",
        "    print(i)\n",
        "else:\n",
        "    print(\"No Break\\n\")\n",
        "\n",
        "i=0\n",
        "while i<4:\n",
        "    i+=1\n",
        "    print(i)\n",
        "    break\n",
        "else:\n",
        "    print(\"No Break\")"
      ]
    },
    {
      "cell_type": "code",
      "execution_count": 16,
      "metadata": {},
      "outputs": [
        {
          "name": "stdout",
          "output_type": "stream",
          "text": [
            "Enter a number (-1 to quit):  5\n",
            "Enter a number (-1 to quit):  6\n",
            "Enter a number (-1 to quit):  7\n",
            "Enter a number (-1 to quit):  8\n",
            "Enter a number (-1 to quit):  8\n",
            "Enter a number (-1 to quit):  9\n",
            "Enter a number (-1 to quit):  9\n",
            "Enter a number (-1 to quit):  100\n",
            "Enter a number (-1 to quit):  10\n",
            "Enter a number (-1 to quit):  89\n",
            "Enter a number (-1 to quit):  78\n",
            "Enter a number (-1 to quit):  7\n",
            "Enter a number (-1 to quit):  67\n",
            "Enter a number (-1 to quit):  45\n",
            "Enter a number (-1 to quit):  45\n",
            "Enter a number (-1 to quit):  45\n",
            "Enter a number (-1 to quit):  9\n",
            "Enter a number (-1 to quit):  89\n",
            "Enter a number (-1 to quit):  89\n",
            "Enter a number (-1 to quit):  89\n",
            "Enter a number (-1 to quit):  98\n",
            "Enter a number (-1 to quit):  -19\n",
            "Enter a number (-1 to quit):  -87\n",
            "Enter a number (-1 to quit):  -45\n",
            "Enter a number (-1 to quit):  -11\n",
            "Enter a number (-1 to quit):  -1\n"
          ]
        }
      ],
      "source": [
        "a = int(input('Enter a number(-1 to quit): '))\n",
        "while a!= -1:\n",
        "    a = int(input('Enter a number (-1 to quit): '))\n",
        "    print('Enter a number (-1 to quit): ',a)"
      ]
    },
    {
      "cell_type": "code",
      "execution_count": 17,
      "metadata": {},
      "outputs": [
        {
          "name": "stdout",
          "output_type": "stream",
          "text": [
            "Count is 1\n",
            "Count is 2\n",
            "Count is 3\n",
            "Count is 4\n",
            "Count is 5\n",
            "Count is 6\n",
            "Count is 7\n",
            "Count is 8\n",
            "Count is 9\n",
            "Count is 10\n",
            "The loop has ended.\n"
          ]
        }
      ],
      "source": [
        "count=0\n",
        "while True:\n",
        "    count+=1\n",
        "    print(f\"Count is {count}\")\n",
        "\n",
        "    if count == 10:\n",
        "        break\n",
        "print(\"The loop has ended.\")"
      ]
    },
    {
      "cell_type": "code",
      "execution_count": null,
      "metadata": {},
      "outputs": [],
      "source": []
    }
  ],
  "metadata": {
    "colab": {
      "collapsed_sections": [
        "DlOtkbEOnRxH",
        "ml2rzueuWTEF",
        "WChMBslwWCdt",
        "6kBuGXElV-OI",
        "2NhjngNAV3II",
        "vwK1cyynVWpR"
      ],
      "provenance": []
    },
    "kernelspec": {
      "display_name": "Python 3",
      "name": "python3"
    },
    "language_info": {
      "codemirror_mode": {
        "name": "ipython",
        "version": 3
      },
      "file_extension": ".py",
      "mimetype": "text/x-python",
      "name": "python",
      "nbconvert_exporter": "python",
      "pygments_lexer": "ipython3",
      "version": "3.11.4"
    }
  },
  "nbformat": 4,
  "nbformat_minor": 0
}
