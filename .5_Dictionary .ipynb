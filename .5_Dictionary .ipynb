{
 "cells": [
  {
   "cell_type": "code",
   "execution_count": 4,
   "metadata": {},
   "outputs": [
    {
     "name": "stdout",
     "output_type": "stream",
     "text": [
      "{'a': 2, 'b': 3, 'c': 5}\n"
     ]
    }
   ],
   "source": [
    "dict_name={'a':2, 'b':3, 'c':5}\n",
    "print(dict_name)"
   ]
  },
  {
   "cell_type": "code",
   "execution_count": 5,
   "metadata": {},
   "outputs": [
    {
     "name": "stdout",
     "output_type": "stream",
     "text": [
      "<class 'dict'>\n"
     ]
    }
   ],
   "source": [
    "print(type(dict_name))"
   ]
  },
  {
   "cell_type": "code",
   "execution_count": 6,
   "metadata": {},
   "outputs": [
    {
     "name": "stdout",
     "output_type": "stream",
     "text": [
      "{'a': 2, 'b': 3, 'c': 5}\n"
     ]
    }
   ],
   "source": [
    "dict_name={}\n",
    "dict_name['a']=2\n",
    "dict_name['b']=3\n",
    "dict_name['c']=5\n",
    "print(dict_name)\n"
   ]
  },
  {
   "cell_type": "code",
   "execution_count": 7,
   "metadata": {},
   "outputs": [
    {
     "name": "stdout",
     "output_type": "stream",
     "text": [
      "a\n",
      "b\n",
      "c\n"
     ]
    }
   ],
   "source": [
    "for key in dict_name.keys():\n",
    "    print(key)"
   ]
  },
  {
   "cell_type": "code",
   "execution_count": 8,
   "metadata": {},
   "outputs": [
    {
     "name": "stdout",
     "output_type": "stream",
     "text": [
      "2\n",
      "3\n",
      "5\n"
     ]
    }
   ],
   "source": [
    "for value in dict_name.values():\n",
    "    print(value)"
   ]
  },
  {
   "cell_type": "code",
   "execution_count": 9,
   "metadata": {},
   "outputs": [
    {
     "name": "stdout",
     "output_type": "stream",
     "text": [
      "<class 'dict_items'>\n"
     ]
    },
    {
     "data": {
      "text/plain": [
       "dict_items([('a', 2), ('b', 3), ('c', 5)])"
      ]
     },
     "execution_count": 9,
     "metadata": {},
     "output_type": "execute_result"
    }
   ],
   "source": [
    "a=dict_name.items()\n",
    "print(type(a))\n",
    "dict_name.items()    #both the keys and values"
   ]
  },
  {
   "cell_type": "code",
   "execution_count": 11,
   "metadata": {},
   "outputs": [
    {
     "name": "stdout",
     "output_type": "stream",
     "text": [
      "('a', 2)\n",
      "<class 'tuple'>\n",
      "('b', 3)\n",
      "<class 'tuple'>\n",
      "('c', 5)\n",
      "<class 'tuple'>\n"
     ]
    }
   ],
   "source": [
    "for item in dict_name.items():\n",
    "    print(item)\n",
    "    print(type(item))"
   ]
  },
  {
   "cell_type": "code",
   "execution_count": 17,
   "metadata": {},
   "outputs": [
    {
     "name": "stdout",
     "output_type": "stream",
     "text": [
      "a 2\n",
      "b 3\n",
      "c 5\n"
     ]
    }
   ],
   "source": [
    "for key,value in dict_name.items():\n",
    "    print(key,value)\n",
    "    "
   ]
  },
  {
   "cell_type": "markdown",
   "metadata": {},
   "source": [
    "Create a dictionary using for loop in which has key as friut name and value as the price."
   ]
  },
  {
   "cell_type": "code",
   "execution_count": 21,
   "metadata": {},
   "outputs": [
    {
     "name": "stdout",
     "output_type": "stream",
     "text": [
      "{'Apple': 20, 'Mango': 27, 'Pear': 31}\n"
     ]
    }
   ],
   "source": [
    "list_name=['Apple','Mango','Pear']\n",
    "list_price=[20,27,31]\n",
    "dict1={}\n",
    "list_name_len=len(list_name)\n",
    "list_price_len=len(list_price)\n",
    "if list_name_len==list_price_len:\n",
    "    for i in range(list_name_len):\n",
    "        key=list_name[i]\n",
    "        value=list_price[i]\n",
    "        dict1[key]=value\n",
    "print(dict1)\n",
    "\n",
    "\n"
   ]
  },
  {
   "cell_type": "code",
   "execution_count": 23,
   "metadata": {},
   "outputs": [
    {
     "name": "stdout",
     "output_type": "stream",
     "text": [
      "Apple\n",
      "Mango\n",
      "pear\n",
      "20\n",
      "27\n",
      "31\n",
      "('Apple', 20)\n",
      "('Mango', 27)\n",
      "('pear', 31)\n"
     ]
    }
   ],
   "source": [
    "# mayank\n",
    "dict_name={}\n",
    "dict_name['Apple']=20\n",
    "dict_name['Mango']=27\n",
    "dict_name['pear']=31\n",
    "for key in dict_name.keys():\n",
    "    print(key)\n",
    "for value in dict_name.values():\n",
    "    print(value)\n",
    "for item in dict_name.items():\n",
    "    print(item)"
   ]
  },
  {
   "cell_type": "markdown",
   "metadata": {},
   "source": [
    "dict2 merge these dictionaries into one new dictionary dict3.\n"
   ]
  },
  {
   "cell_type": "code",
   "execution_count": 12,
   "metadata": {},
   "outputs": [
    {
     "name": "stdout",
     "output_type": "stream",
     "text": [
      "Apple 20\n",
      "Mango 27\n",
      "Pear 31\n",
      "Banana 10\n",
      "Coconut 15\n",
      "Apple 50\n",
      "{'Apple': 50, 'Mango': 27, 'Pear': 31, 'Banana': 10, 'Coconut': 15}\n",
      "{'Apple': 20, 'Mango': 27, 'Pear': 31}\n",
      "{'Banana': 10, 'Coconut': 15, 'Apple': 50}\n"
     ]
    }
   ],
   "source": [
    "dict1={'Apple': 20, 'Mango': 27, 'Pear': 31}\n",
    "dict2={'Banana':10,'Coconut':15,'Apple':50}\n",
    "dict3={}\n",
    "for key,value in dict1.items():\n",
    "    dict3[key]=value\n",
    "    print(key,value)\n",
    "for key,value in dict2.items():\n",
    "    dict3[key]=value\n",
    "    print(key,value)\n",
    "print(dict3)\n",
    "print(dict1)\n",
    "print(dict2)\n"
   ]
  },
  {
   "cell_type": "code",
   "execution_count": 27,
   "metadata": {},
   "outputs": [
    {
     "name": "stdout",
     "output_type": "stream",
     "text": [
      "{'Apple': 20, 'Mango': 27, 'Pear': 31}\n"
     ]
    }
   ],
   "source": [
    "dict3=dict1.copy()\n",
    "print(dict3)"
   ]
  },
  {
   "cell_type": "markdown",
   "metadata": {},
   "source": [
    "dict2 merge these dictionaries into one new dictionary dict3 and do not overwrite any prvious value.\n"
   ]
  },
  {
   "cell_type": "code",
   "execution_count": 13,
   "metadata": {},
   "outputs": [
    {
     "name": "stdout",
     "output_type": "stream",
     "text": [
      "{'Apple': 20, 'Mango': 27, 'Pear': 31, 'Banana': 10, 'Coconut': 15}\n"
     ]
    }
   ],
   "source": [
    "dict1={'Apple': 20, 'Mango': 27, 'Pear': 31}\n",
    "dict2={'Banana':10,'Coconut':15,'Apple':50}\n",
    "\n",
    "dict3={}\n",
    "\n",
    "dict3=dict1.copy()\n",
    "for key,value in dict2.items():\n",
    "    if key not in dict3.keys():\n",
    "        dict3[key]=value\n",
    "print(dict3)"
   ]
  },
  {
   "cell_type": "code",
   "execution_count": 14,
   "metadata": {},
   "outputs": [
    {
     "name": "stdout",
     "output_type": "stream",
     "text": [
      "{'Apple': 20, 'Mango': 27, 'Pear': 31, 'Banana': 10, 'Coconut': 15}\n"
     ]
    }
   ],
   "source": [
    "# MODIFy\n",
    "dict1={'Apple': 20, 'Mango': 27, 'Pear': 31}\n",
    "\n",
    "dict2={'Banana':10,'Coconut':15}\n",
    "dict3={}\n",
    "\n",
    "dict3=dict1.copy()\n",
    "for key,value in dict2.items():\n",
    "    if key not in dict1.keys():  #if you cheak with dict3.term() your cheaking will be over a longer &longer list.\n",
    "        dict3[key]=value\n",
    "print(dict3)"
   ]
  },
  {
   "cell_type": "code",
   "execution_count": 35,
   "metadata": {},
   "outputs": [
    {
     "name": "stdout",
     "output_type": "stream",
     "text": [
      "{'Banana': 10, 'Coconut': 15}\n"
     ]
    }
   ],
   "source": [
    "list_fruit=['Banana','Coconut','Brinjal']\n",
    "dict3={'Apple': 20, 'Mango': 27, 'Pear': 31, 'Banana': 10, 'Coconut': 15}\n",
    "dict4={}\n",
    "for key,value in dict3.items():\n",
    "    if key in list_fruit:\n",
    "        dict4[key]=value\n",
    "print(dict4)"
   ]
  },
  {
   "cell_type": "code",
   "execution_count": 20,
   "metadata": {},
   "outputs": [
    {
     "name": "stdout",
     "output_type": "stream",
     "text": [
      "{'Banana': 10, 'Coconut': 15, 'Brinjal': 34}\n"
     ]
    }
   ],
   "source": [
    "list_fruit=['Banana','Coconut','Brinjal']\n",
    "dict4={}\n",
    "for key in list_fruit:\n",
    "    if key in dict3.keys():\n",
    "        dict4[key]=dict3[key]\n",
    "    else:\n",
    "        value=int(input(\"inter the value\"))\n",
    "        dict4[key]=value\n",
    "print(dict4)"
   ]
  },
  {
   "cell_type": "code",
   "execution_count": 21,
   "metadata": {},
   "outputs": [
    {
     "name": "stdout",
     "output_type": "stream",
     "text": [
      "{'Banana': 10}\n",
      "{'Banana': 10, 'Coconut': 15}\n",
      "{'Banana': 10, 'Coconut': 15, 'Brinjal': 67}\n"
     ]
    }
   ],
   "source": [
    "list_fruit=['Banana','Coconut','Brinjal']\n",
    "dict4={}\n",
    "for key in list_fruit:\n",
    "    try:\n",
    "        dict4[key]=dict3[key]\n",
    "    except:\n",
    "        value=int(input(\"inter the value\"))\n",
    "        dict4[key]=value\n",
    "    print(dict4)"
   ]
  },
  {
   "cell_type": "markdown",
   "metadata": {},
   "source": [
    "Print the information using for loop\n",
    "student1\n",
    "maths:marks\n",
    "physics:marks\n",
    "chemistry:marks\n",
    "student2\n",
    ".........\n",
    "......."
   ]
  },
  {
   "cell_type": "code",
   "execution_count": 24,
   "metadata": {},
   "outputs": [
    {
     "name": "stdout",
     "output_type": "stream",
     "text": [
      "Mayank\n",
      "Maths : 70\n",
      "Physics : 80\n",
      "Chemistry : 60\n",
      "Maya\n",
      "Maths : 70\n",
      "Physics : 80\n",
      "Chemistry : 60\n",
      "Priyank\n",
      "Maths : 70\n",
      "Physics : 80\n",
      "Chemistry : 60\n",
      "Akash\n",
      "Maths : 70\n",
      "Physics : 80\n",
      "Chemistry : 60\n",
      "Nikhil\n",
      "Maths : 70\n",
      "Physics : 80\n",
      "Chemistry : 60\n"
     ]
    }
   ],
   "source": [
    "dict_marks={}\n",
    "dict_marks['Mayank']=[70,80,60]\n",
    "dict_marks['Maya']=[70,80,60]\n",
    "dict_marks['Priyank']=[70,80,60]\n",
    "dict_marks['Akash']=[70,80,60]\n",
    "dict_marks['Nikhil']=[70,80,60]\n",
    "course_name=['Maths','Physics','Chemistry']\n",
    "for key,value in dict_marks.items():\n",
    "    print(key)\n",
    "    for i in range(3):\n",
    "        print(course_name[i],\":\",value[i])\n",
    "\n",
    "    \n",
    "    "
   ]
  },
  {
   "cell_type": "markdown",
   "metadata": {},
   "source": [
    "# Date:17-10-23"
   ]
  },
  {
   "cell_type": "code",
   "execution_count": 25,
   "metadata": {},
   "outputs": [
    {
     "name": "stdout",
     "output_type": "stream",
     "text": [
      "hello world\n",
      "hello world\n",
      "{'c': 3}\n"
     ]
    }
   ],
   "source": [
    "dict1={\"a\":1,\"b\":2,\"c\":3}\n",
    "# keycheck=\"d\"\n",
    "# keycheck=[\"d\",\"e\",\"c\"]   for loop ka use \n",
    "keycheck=[\"d\",\"e\",\"c\"]\n",
    "dict2={}\n",
    "for key in keycheck:\n",
    "    if key in dict1.keys():\n",
    "        dict2[key]=dict1[key]\n",
    "        print(dict2)\n",
    "    else:\n",
    "        print(\"hello world\")\n"
   ]
  },
  {
   "cell_type": "code",
   "execution_count": 3,
   "metadata": {},
   "outputs": [
    {
     "name": "stdout",
     "output_type": "stream",
     "text": [
      "{'b': 2, 'c': 3}\n"
     ]
    }
   ],
   "source": [
    "dict1={\"a\":1,\"b\":2,\"c\":3}\n",
    "dict1.pop(\"a\")     #output is the corresponding value & this key is remove\n",
    "print(dict1)"
   ]
  },
  {
   "cell_type": "code",
   "execution_count": 5,
   "metadata": {},
   "outputs": [
    {
     "name": "stdout",
     "output_type": "stream",
     "text": [
      "{'b': 2, 'c': 3, 'd': 1}\n"
     ]
    }
   ],
   "source": [
    "dict1={\"a\":1,\"b\":2,\"c\":3}\n",
    "dict1[\"d\"]=dict1.pop(\"a\")        #changing key of any value.....here changing \"a\" with \"d\"\n",
    "print(dict1)"
   ]
  },
  {
   "cell_type": "code",
   "execution_count": null,
   "metadata": {},
   "outputs": [],
   "source": []
  }
 ],
 "metadata": {
  "kernelspec": {
   "display_name": "Python 3",
   "language": "python",
   "name": "python3"
  },
  "language_info": {
   "codemirror_mode": {
    "name": "ipython",
    "version": 3
   },
   "file_extension": ".py",
   "mimetype": "text/x-python",
   "name": "python",
   "nbconvert_exporter": "python",
   "pygments_lexer": "ipython3",
   "version": "3.11.4"
  }
 },
 "nbformat": 4,
 "nbformat_minor": 2
}
